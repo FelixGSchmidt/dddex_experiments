{
 "cells": [
  {
   "cell_type": "markdown",
   "id": "31d7bc07-6fe5-4427-9498-d9dd36cdcf9c",
   "metadata": {},
   "source": [
    "# Init"
   ]
  },
  {
   "cell_type": "code",
   "execution_count": 1,
   "id": "f3b6ee14-d0ab-47a7-ad24-ee4018560cee",
   "metadata": {},
   "outputs": [],
   "source": [
    "# Import utils\n",
    "import numpy as np\n",
    "import pandas as pd\n",
    "import math\n",
    "import time\n",
    "import json\n",
    "import pyreadr\n",
    "import pickle\n",
    "from joblib import dump, load, Parallel, delayed\n",
    "import os\n",
    "import copy\n",
    "import datetime as dt\n",
    "from tqdm import tqdm\n",
    "\n",
    "\n",
    "# Import ML models\n",
    "import sklearn\n",
    "from sklearn.model_selection import RandomizedSearchCV\n",
    "from sklearn.model_selection import GridSearchCV\n",
    "from sklearn.model_selection import TimeSeriesSplit\n",
    "\n",
    "from lightgbm import LGBMRegressor\n",
    "from sklearn.ensemble import RandomForestRegressor\n",
    "from sklearn.neighbors import KNeighborsRegressor\n",
    "\n",
    "from dddex.levelSetKDEx_univariate import LevelSetKDEx, LevelSetKDEx_NN\n",
    "from dddex.wSAA import RandomForestWSAA, SampleAverageApproximation\n",
    "\n",
    "# Weights & Biases\n",
    "import wandb\n",
    "\n",
    "# Import Gurobi\n",
    "import gurobipy as gp\n",
    "from gurobipy import GRB\n",
    "\n",
    "# Optimization Module\n",
    "from DataDrivenPatientScheduling import WeightsModel\n",
    "from DataDrivenPatientScheduling import Experiment"
   ]
  },
  {
   "cell_type": "code",
   "execution_count": 2,
   "id": "a439c0ba-610c-48fd-86c5-01f8ee51483a",
   "metadata": {},
   "outputs": [],
   "source": [
    "# Setup the experiment\n",
    "experiment_setup = dict(\n",
    "\n",
    "    # Paths\n",
    "    path_data = '/home/fesc/dddex/PatientScheduling/Data',\n",
    "    path_results = '/home/fesc/dddex/PatientScheduling/Data/Results',\n",
    "\n",
    "    ## Optimization\n",
    "    optimization_params = dict(\n",
    "    \n",
    "        # Gurobi params\n",
    "        gurobi_params = {\n",
    "\n",
    "            'LogToConsole': 0, \n",
    "            'Threads': 2\n",
    "\n",
    "        },\n",
    "\n",
    "        # Cost params\n",
    "        cost_params = [\n",
    "\n",
    "            {'CR': 0.10, 'c_waiting_time': 1, 'c_overtime': 9},\n",
    "            {'CR': 0.25, 'c_waiting_time': 1, 'c_overtime': 3},\n",
    "            {'CR': 0.50, 'c_waiting_time': 1, 'c_overtime': 1},\n",
    "            {'CR': 0.75, 'c_waiting_time': 3, 'c_overtime': 1},\n",
    "            {'CR': 0.90, 'c_waiting_time': 9, 'c_overtime': 1}\n",
    "\n",
    "        ],\n",
    "\n",
    "        # Number of scenarios\n",
    "        K = 10**3,\n",
    "        \n",
    "        # Time budget multiplier\n",
    "        alpha = 1.25,\n",
    "\n",
    "        # n parallel jobs\n",
    "        n_jobs = 32\n",
    "        \n",
    "    )\n",
    ")\n",
    "\n",
    "# Make all experiment variables visible locally\n",
    "locals().update(experiment_setup)"
   ]
  },
  {
   "cell_type": "markdown",
   "id": "762abee3-ac31-4912-a8ff-b2f9b6c035d1",
   "metadata": {},
   "source": [
    "# Model LSx - LGBM"
   ]
  },
  {
   "cell_type": "code",
   "execution_count": null,
   "id": "9bbb55cd-5961-4ed1-9cad-9227a2b1136d",
   "metadata": {},
   "outputs": [],
   "source": [
    "# Setup the model\n",
    "model_setup = dict(\n",
    "\n",
    "    # Model\n",
    "    model_name = 'LSx_LGBM',\n",
    "        \n",
    "    ## Point estimator\n",
    "    point_estimator_params = dict(\n",
    "\n",
    "        # Meta parameters\n",
    "        model_params = {\n",
    "            'random_state': 12345,\n",
    "            'n_jobs': 4,\n",
    "            'verbose': -1\n",
    "        },\n",
    "\n",
    "        # Tuning meta params\n",
    "        tuning_params = {     \n",
    "            'n_iter': 200,\n",
    "            'scoring': {'MSE': 'neg_mean_squared_error'},\n",
    "            'return_train_score': True,\n",
    "            'refit': 'MSE',\n",
    "            'random_state': 12345,\n",
    "            'n_jobs': 8,\n",
    "            'verbose': 0\n",
    "        },    \n",
    "\n",
    "        # Hyper params search grid\n",
    "       hyper_params_grid = {\n",
    "            'num_leaves': [x for x in range(5, 500, 5)],\n",
    "            'max_depth': [-1, 2, 3, 4, 5, 6, 7, 8, 9, 10],\n",
    "            'min_child_samples': [x for x in range(5, 500, 5)],\n",
    "            'learning_rate': [x/100 for x in range(5, 25, 5)],\n",
    "            'n_estimators': [100, 200, 300, 400, 500],\n",
    "            'subsample': [x/100 for x in range(5, 100, 5)],\n",
    "            'colsample_bytree': [x/100 for x in range(5, 100, 5)]\n",
    "        },  \n",
    "    \n",
    "    \n",
    "    ),\n",
    "          \n",
    " \n",
    "    ## Density estimator\n",
    "    density_estimator_params = dict(\n",
    "    \n",
    "        # Meta parameters\n",
    "        model_params = {\n",
    "            'weightsByDistance': False\n",
    "        },\n",
    "\n",
    "        # Tuning meta params\n",
    "        tuning_params = {     \n",
    "            #'probs': [0.005, 0.025, 0.165, 0.250, 0.500, 0.750, 0.835, 0.975, 0.995],\n",
    "            'probs': sorted(list(set(np.concatenate([np.array([0.005, 0.025, 0.165, 0.25, 0.50, 0.835, 0.75, 0.975, 0.995]), \n",
    "                                                     np.arange(1, 100, 1) / 100])))),\n",
    "            'n_jobs': 8,\n",
    "        },    \n",
    "\n",
    "        # Hyper params search grid\n",
    "        hyper_params_grid = {\n",
    "            'binSize': [x for x in range(25, 500, 25)]\n",
    "        },\n",
    "        \n",
    "    )\n",
    ")\n",
    "\n",
    "# Make all model variables visible locally\n",
    "locals().update(model_setup)"
   ]
  },
  {
   "cell_type": "markdown",
   "id": "62b364b3-8ec8-4a61-b538-0c52c6db182c",
   "metadata": {},
   "source": [
    "## Preprocessing"
   ]
  },
  {
   "cell_type": "code",
   "execution_count": null,
   "id": "4f86e0c5-0ed6-4e5c-81fe-fb6a5f9d9efc",
   "metadata": {},
   "outputs": [],
   "source": [
    "# Load data\n",
    "Y_data = pd.read_csv('/home/fesc/dddex/PatientScheduling/Data/Y_data.csv')\n",
    "X_data = pd.read_csv('/home/fesc/dddex/PatientScheduling/Data/X_data.csv')\n",
    "ID_data = pd.read_csv('/home/fesc/dddex/PatientScheduling/Data/ID_data.csv')"
   ]
  },
  {
   "cell_type": "code",
   "execution_count": null,
   "id": "2a5e0870-504e-4a6c-8f0e-efdcfd4d0607",
   "metadata": {},
   "outputs": [],
   "source": [
    "# Train-test split\n",
    "y_train = np.array(Y_data.loc[ID_data.train_test == 'train']).flatten()\n",
    "X_train = np.array(X_data.loc[ID_data.train_test == 'train'])\n",
    "ID_train = ID_data.loc[ID_data.train_test == 'train']"
   ]
  },
  {
   "cell_type": "code",
   "execution_count": null,
   "id": "27280d11-90c7-4ab1-baa1-d241385f0f59",
   "metadata": {},
   "outputs": [],
   "source": [
    "# CV folds\n",
    "tscv = TimeSeriesSplit(n_splits=3)\n",
    "cv_folds = tscv.split(range(len(ID_train)))\n",
    "cv_folds = list(cv_folds)"
   ]
  },
  {
   "cell_type": "code",
   "execution_count": null,
   "id": "d947948e-e37f-449f-9940-09abd1566494",
   "metadata": {},
   "outputs": [],
   "source": [
    "# Initialize modules\n",
    "weightsmodel = WeightsModel()\n",
    "experiment = Experiment()"
   ]
  },
  {
   "cell_type": "markdown",
   "id": "c7a32082-81de-4f17-b867-19d9b69659c3",
   "metadata": {},
   "source": [
    "## Tune point estimator"
   ]
  },
  {
   "cell_type": "code",
   "execution_count": null,
   "id": "f9829d7c-9b90-4247-b5ef-db48f5722c67",
   "metadata": {},
   "outputs": [],
   "source": [
    "# Update params\n",
    "locals().update(point_estimator_params)\n",
    "\n",
    "# Point estimator\n",
    "point_estimator = LGBMRegressor(**model_params)\n",
    "\n",
    "# Tune point estimator\n",
    "point_estimator = weightsmodel.tune_point_estimator(X_train, y_train, point_estimator, cv_folds, hyper_params_grid, \n",
    "                                                    tuning_params, random_search=True, print_time=True)"
   ]
  },
  {
   "cell_type": "markdown",
   "id": "da52daf0-e6c0-4b3b-96db-5c1d71c01aab",
   "metadata": {},
   "source": [
    "## Tune density estimator"
   ]
  },
  {
   "cell_type": "code",
   "execution_count": null,
   "id": "64313726-84f9-4279-9a0c-9bd79fe81a4b",
   "metadata": {},
   "outputs": [],
   "source": [
    "# Update params\n",
    "locals().update(density_estimator_params)\n",
    "\n",
    "# Density estimator\n",
    "density_estimator = LevelSetKDEx(estimator = point_estimator, **model_params)\n",
    "\n",
    "# Tune density estimator\n",
    "density_estimator = weightsmodel.tune_density_estimator(X_train, y_train, density_estimator, cv_folds, hyper_params_grid, \n",
    "                                                        tuning_params, random_search=False, print_time=True)"
   ]
  },
  {
   "cell_type": "markdown",
   "id": "cc4699a8-aed0-4aa6-b9a2-8bd3769fe942",
   "metadata": {},
   "source": [
    "## Data-driven optimization"
   ]
  },
  {
   "cell_type": "code",
   "execution_count": null,
   "id": "183de39f-21c6-49a3-8696-c90aff592dc8",
   "metadata": {},
   "outputs": [],
   "source": [
    "# Update params\n",
    "locals().update(optimization_params)\n",
    "\n",
    "# Test dates\n",
    "dates = pd.Series(list(set(ID_data.loc[ID_data.train_test == 'test', 'date']))).sort_values()\n",
    "\n",
    "# Timer\n",
    "start_time, st_exec, st_cpu = dt.datetime.now().replace(microsecond=0), time.time(), time.process_time()      \n",
    "        \n",
    "# For each date in the test horizon\n",
    "with experiment.tqdm_joblib(tqdm(desc='Progress', total=len(dates))) as progress_bar:\n",
    "    results = Parallel(n_jobs=n_jobs)(delayed(experiment.run)(\n",
    "        X = np.array(X_data),\n",
    "        y = np.array(Y_data),\n",
    "        date = date,\n",
    "        dates = ID_data['date'],\n",
    "        areas = ID_data['area'],\n",
    "        weightsModel = density_estimator,\n",
    "        cost_params = cost_params,\n",
    "        gurobi_params = gurobi_params,\n",
    "        K = K,\n",
    "        alpha = alpha,\n",
    "        print_status = False) for date in dates)\n",
    "    \n",
    "# Finalize\n",
    "results = pd.concat(results).reset_index(drop=True)\n",
    "\n",
    "# Save results\n",
    "results.to_csv(path_results+\"/\"+model_name+\"_K\"+str(K)+\".csv\", sep=',', index=False)\n",
    "\n",
    "# Time\n",
    "print('Time:', dt.datetime.now().replace(microsecond=0) - start_time)  \n",
    "print('>> Execution time:', np.around(time.time()-st_exec, 0), \"seconds\") \n",
    "print('>> CPU time:', np.around(time.process_time()-st_cpu, 0), \"seconds\")"
   ]
  },
  {
   "cell_type": "code",
   "execution_count": null,
   "id": "ad3b5dbc-fa72-4c65-be0f-b80b2b136100",
   "metadata": {},
   "outputs": [],
   "source": []
  },
  {
   "cell_type": "code",
   "execution_count": null,
   "id": "9019c6f0-05c2-4ef4-93ea-46ecad3c6f99",
   "metadata": {},
   "outputs": [],
   "source": []
  },
  {
   "cell_type": "code",
   "execution_count": null,
   "id": "21eac511-632a-43e1-9afe-4944608710fa",
   "metadata": {},
   "outputs": [],
   "source": []
  },
  {
   "cell_type": "markdown",
   "id": "91554ca1-64e8-46d3-acb4-c9f8ad32b576",
   "metadata": {},
   "source": [
    "# Model: LSx NN - LGBM"
   ]
  },
  {
   "cell_type": "code",
   "execution_count": null,
   "id": "f15eccde-17b7-4727-8084-c3e47d9acb19",
   "metadata": {},
   "outputs": [],
   "source": [
    "# Setup the model\n",
    "model_setup = dict(\n",
    "    \n",
    "    # Model\n",
    "    model_name = 'LSx_LGBM_NN',\n",
    "        \n",
    "    ## Point estimator\n",
    "    point_estimator_params = dict(\n",
    "\n",
    "        # Meta parameters\n",
    "        model_params = {\n",
    "            'random_state': 12345,\n",
    "            'n_jobs': 4,\n",
    "            'verbose': -1\n",
    "        },\n",
    "\n",
    "        # Tuning meta params\n",
    "        tuning_params = {     \n",
    "            'n_iter': 200,\n",
    "            'scoring': {'MSE': 'neg_mean_squared_error'},\n",
    "            'return_train_score': True,\n",
    "            'refit': 'MSE',\n",
    "            'random_state': 12345,\n",
    "            'n_jobs': 8,\n",
    "            'verbose': 0\n",
    "        },    \n",
    "\n",
    "        # Hyper params search grid\n",
    "       hyper_params_grid = {\n",
    "            'num_leaves': [x for x in range(5, 500, 5)],\n",
    "            'max_depth': [-1, 2, 3, 4, 5, 6, 7, 8, 9, 10],\n",
    "            'min_child_samples': [x for x in range(5, 500, 5)],\n",
    "            'learning_rate': [x/100 for x in range(5, 25, 5)],\n",
    "            'n_estimators': [100, 200, 300, 400, 500],\n",
    "            'subsample': [x/100 for x in range(5, 100, 5)],\n",
    "            'colsample_bytree': [x/100 for x in range(5, 100, 5)]\n",
    "        },  \n",
    "    \n",
    "    \n",
    "    ),\n",
    "          \n",
    " \n",
    "    ## Density estimator\n",
    "    density_estimator_params = dict(\n",
    "    \n",
    "        # Meta parameters\n",
    "        model_params = {\n",
    "            'weightsByDistance': True\n",
    "        },\n",
    "\n",
    "        # Tuning meta params\n",
    "        tuning_params = {     \n",
    "            #'probs': [0.005, 0.025, 0.165, 0.250, 0.500, 0.750, 0.835, 0.975, 0.995],\n",
    "            'probs': sorted(list(set(np.concatenate([np.array([0.005, 0.025, 0.165, 0.25, 0.50, 0.835, 0.75, 0.975, 0.995]), \n",
    "                                                     np.arange(1, 100, 1) / 100])))),\n",
    "            'n_jobs': 8,\n",
    "        },    \n",
    "\n",
    "        # Hyper params search grid\n",
    "        hyper_params_grid = {\n",
    "            'binSize': [x for x in range(25, 500, 25)]\n",
    "        },\n",
    "        \n",
    "    )\n",
    ")\n",
    "\n",
    "# Make all model variables visible locally\n",
    "locals().update(model_setup)"
   ]
  },
  {
   "cell_type": "markdown",
   "id": "9d1be221-7b84-4f88-8f2e-da9391d7e85f",
   "metadata": {},
   "source": [
    "## Preprocessing"
   ]
  },
  {
   "cell_type": "code",
   "execution_count": null,
   "id": "4933859b-7fee-48f3-8dc2-15b8c75065a0",
   "metadata": {},
   "outputs": [],
   "source": [
    "# Load data\n",
    "Y_data = pd.read_csv('/home/fesc/dddex/PatientScheduling/Data/Y_data.csv')\n",
    "X_data = pd.read_csv('/home/fesc/dddex/PatientScheduling/Data/X_data.csv')\n",
    "ID_data = pd.read_csv('/home/fesc/dddex/PatientScheduling/Data/ID_data.csv')"
   ]
  },
  {
   "cell_type": "code",
   "execution_count": null,
   "id": "d9fcc4ab-f1e9-4791-aec2-3d138752ac5f",
   "metadata": {},
   "outputs": [],
   "source": [
    "# Train-test split\n",
    "y_train = np.array(Y_data.loc[ID_data.train_test == 'train']).flatten()\n",
    "X_train = np.array(X_data.loc[ID_data.train_test == 'train'])\n",
    "ID_train = ID_data.loc[ID_data.train_test == 'train']"
   ]
  },
  {
   "cell_type": "code",
   "execution_count": null,
   "id": "f0126bbe-ac52-40a2-bc0d-ada8272fe1c6",
   "metadata": {},
   "outputs": [],
   "source": [
    "# CV folds\n",
    "tscv = TimeSeriesSplit(n_splits=3)\n",
    "cv_folds = tscv.split(range(len(ID_train)))\n",
    "cv_folds = list(cv_folds)"
   ]
  },
  {
   "cell_type": "code",
   "execution_count": null,
   "id": "8116cf25-c3c2-4c8a-b77e-882ae3b443c8",
   "metadata": {},
   "outputs": [],
   "source": [
    "# Initialize modules\n",
    "weightsmodel = WeightsModel()\n",
    "experiment = Experiment()"
   ]
  },
  {
   "cell_type": "markdown",
   "id": "fc66e371-ed1b-4d55-a7db-7ae11977d8b5",
   "metadata": {},
   "source": [
    "## Tune point estimator"
   ]
  },
  {
   "cell_type": "code",
   "execution_count": null,
   "id": "8f48f056-f186-45b5-aeca-9c992fb48b1b",
   "metadata": {},
   "outputs": [],
   "source": [
    "# Update params\n",
    "locals().update(point_estimator_params)\n",
    "\n",
    "# Point estimator\n",
    "point_estimator = LGBMRegressor(**model_params)\n",
    "\n",
    "# Tune point estimator\n",
    "point_estimator = weightsmodel.tune_point_estimator(X_train, y_train, point_estimator, cv_folds, hyper_params_grid, \n",
    "                                                    tuning_params, random_search=True, print_time=True)"
   ]
  },
  {
   "cell_type": "markdown",
   "id": "5a19e9a3-d7b4-4a20-b5ef-a175510e41b4",
   "metadata": {},
   "source": [
    "## Tune density estimator"
   ]
  },
  {
   "cell_type": "code",
   "execution_count": null,
   "id": "782d8d36-0bdc-4c51-8cd6-b95aa79302e6",
   "metadata": {},
   "outputs": [],
   "source": [
    "# Update params\n",
    "locals().update(density_estimator_params)\n",
    "\n",
    "# Density estimator\n",
    "density_estimator = LevelSetKDEx_NN(estimator = point_estimator, **model_params)\n",
    "\n",
    "# Tune density estimator\n",
    "density_estimator = weightsmodel.tune_density_estimator(X_train, y_train, density_estimator, cv_folds, hyper_params_grid, \n",
    "                                                        tuning_params, random_search=False, print_time=True)"
   ]
  },
  {
   "cell_type": "markdown",
   "id": "96cd948c-353b-4d7b-8a74-b1d1df043f80",
   "metadata": {},
   "source": [
    "## Data-driven optimization"
   ]
  },
  {
   "cell_type": "code",
   "execution_count": null,
   "id": "ec1bd7bf-86ec-4d8e-8ce0-d38de014018e",
   "metadata": {},
   "outputs": [],
   "source": [
    "# Update params\n",
    "locals().update(optimization_params)\n",
    "\n",
    "# Test dates\n",
    "dates = pd.Series(list(set(ID_data.loc[ID_data.train_test == 'test', 'date']))).sort_values()\n",
    "\n",
    "# Timer\n",
    "start_time, st_exec, st_cpu = dt.datetime.now().replace(microsecond=0), time.time(), time.process_time()      \n",
    "        \n",
    "# For each date in the test horizon\n",
    "with experiment.tqdm_joblib(tqdm(desc='Progress', total=len(dates))) as progress_bar:\n",
    "    results = Parallel(n_jobs=n_jobs)(delayed(experiment.run)(\n",
    "        X = np.array(X_data),\n",
    "        y = np.array(Y_data),\n",
    "        date = date,\n",
    "        dates = ID_data['date'],\n",
    "        areas = ID_data['area'],\n",
    "        weightsModel = density_estimator,\n",
    "        cost_params = cost_params,\n",
    "        gurobi_params = gurobi_params,\n",
    "        K = K,\n",
    "        alpha = alpha,\n",
    "        print_status = False) for date in dates)\n",
    "    \n",
    "# Finalize\n",
    "results = pd.concat(results).reset_index(drop=True)\n",
    "\n",
    "# Save results\n",
    "results.to_csv(path_results+\"/\"+model_name+\"_K\"+str(K)+\".csv\", sep=',', index=False)\n",
    "\n",
    "# Time\n",
    "print('Time:', dt.datetime.now().replace(microsecond=0) - start_time)  \n",
    "print('>> Execution time:', np.around(time.time()-st_exec, 0), \"seconds\") \n",
    "print('>> CPU time:', np.around(time.process_time()-st_cpu, 0), \"seconds\")"
   ]
  },
  {
   "cell_type": "code",
   "execution_count": null,
   "id": "22d0d037-0036-4f61-927f-e506b4f5e113",
   "metadata": {},
   "outputs": [],
   "source": []
  },
  {
   "cell_type": "code",
   "execution_count": null,
   "id": "5a054810-418b-445d-a231-715ef6c6e72e",
   "metadata": {},
   "outputs": [],
   "source": []
  },
  {
   "cell_type": "markdown",
   "id": "cdfa0994-c480-4d57-965b-53225fb15729",
   "metadata": {},
   "source": [
    "# Model: wSAA - RF"
   ]
  },
  {
   "cell_type": "code",
   "execution_count": null,
   "id": "9db864d2-8645-477b-a4fe-35424187f3c1",
   "metadata": {},
   "outputs": [],
   "source": [
    "# Setup the model\n",
    "model_setup = dict(\n",
    "\n",
    "    # Model\n",
    "    model_name = 'wSAA_RF',\n",
    "        \n",
    "    ## Density estimator\n",
    "    density_estimator_params = dict(\n",
    "\n",
    "        # Meta parameters\n",
    "        model_params = {\n",
    "            'random_state': 12345,\n",
    "            'n_jobs': 4,\n",
    "            'verbose': 0\n",
    "        },\n",
    "\n",
    "        # Tuning meta params\n",
    "        tuning_params = {     \n",
    "            #'probs': [0.005, 0.025, 0.165, 0.250, 0.500, 0.750, 0.835, 0.975, 0.995],\n",
    "            'probs': sorted(list(set(np.concatenate([np.array([0.005, 0.025, 0.165, 0.25, 0.50, 0.835, 0.75, 0.975, 0.995]), \n",
    "                                                     np.arange(1, 100, 1) / 100])))),\n",
    "            'nIter': 100,\n",
    "            'random_state': 12345,\n",
    "            'n_jobs': 16\n",
    "        },    \n",
    "\n",
    "       # Hyper params search grid\n",
    "       hyper_params_grid = {\n",
    "            'n_estimators': [100, 200, 300, 400, 500],\n",
    "            'max_depth': [1, 3, 4, 5, 6, 7, 8, 9, 10],\n",
    "            'min_samples_split': [10, 20, 40, 80, 160, 320],\n",
    "            'min_samples_leaf': [10, 20, 40, 80, 160, 320],\n",
    "            'max_features': [x/100 for x in range(5, 100, 5)],\n",
    "            'max_leaf_nodes': [10, 20, 40, 80, 160, 320],\n",
    "            'min_impurity_decrease': [0.0, 0.01, 0.02, 0.3, 0.04, 0.05],\n",
    "            'bootstrap': [True],\n",
    "            'max_samples': [0.80, 0.85, 0.90, 0.95, 1.00]\n",
    "        },          \n",
    "    )\n",
    ")\n",
    "\n",
    "# Make all model variables visible locally\n",
    "locals().update(model_setup)"
   ]
  },
  {
   "cell_type": "markdown",
   "id": "77dacd76-a8fa-4009-bb64-768d9a1ae1d9",
   "metadata": {},
   "source": [
    "## Preprocessing"
   ]
  },
  {
   "cell_type": "code",
   "execution_count": null,
   "id": "91a82f66-26a2-4ec7-b708-27847a87c26d",
   "metadata": {},
   "outputs": [],
   "source": [
    "# Load data\n",
    "Y_data = pd.read_csv('/home/fesc/dddex/PatientScheduling/Data/Y_data.csv')\n",
    "X_data = pd.read_csv('/home/fesc/dddex/PatientScheduling/Data/X_data.csv')\n",
    "ID_data = pd.read_csv('/home/fesc/dddex/PatientScheduling/Data/ID_data.csv')"
   ]
  },
  {
   "cell_type": "code",
   "execution_count": null,
   "id": "cd959735-da4c-43fc-b6d8-34bbe88e19b7",
   "metadata": {},
   "outputs": [],
   "source": [
    "# Train-test split\n",
    "y_train = np.array(Y_data.loc[ID_data.train_test == 'train']).flatten()\n",
    "X_train = np.array(X_data.loc[ID_data.train_test == 'train'])\n",
    "ID_train = ID_data.loc[ID_data.train_test == 'train']"
   ]
  },
  {
   "cell_type": "code",
   "execution_count": null,
   "id": "62cd0d48-e16b-4cad-a873-00df9ef9178d",
   "metadata": {},
   "outputs": [],
   "source": [
    "# CV folds\n",
    "tscv = TimeSeriesSplit(n_splits=3)\n",
    "cv_folds = tscv.split(range(len(ID_train)))\n",
    "cv_folds = list(cv_folds)"
   ]
  },
  {
   "cell_type": "code",
   "execution_count": null,
   "id": "98b7165b-5e96-4004-8b0f-ea003f35afa5",
   "metadata": {},
   "outputs": [],
   "source": [
    "# Initialize modules\n",
    "weightsmodel = WeightsModel()\n",
    "experiment = Experiment()"
   ]
  },
  {
   "cell_type": "markdown",
   "id": "061af593-d134-4d3e-9bfa-de2e9978c427",
   "metadata": {},
   "source": [
    "## Tune density estimator"
   ]
  },
  {
   "cell_type": "code",
   "execution_count": null,
   "id": "8a6ea520-3dc8-4f61-83e9-2775ef28d363",
   "metadata": {},
   "outputs": [],
   "source": [
    "# Update params\n",
    "locals().update(density_estimator_params)\n",
    "\n",
    "# Density estimator\n",
    "density_estimator = RandomForestWSAA(**model_params)\n",
    "\n",
    "# Tune density estimator\n",
    "density_estimator = weightsmodel.tune_density_estimator(X_train, y_train, density_estimator, cv_folds, hyper_params_grid, \n",
    "                                                        tuning_params, random_search=True, print_time=True)"
   ]
  },
  {
   "cell_type": "markdown",
   "id": "5f069dd0-ab16-48a7-af14-93b73b8aed8a",
   "metadata": {},
   "source": [
    "## Data-driven optimization"
   ]
  },
  {
   "cell_type": "code",
   "execution_count": null,
   "id": "bb95e309-5609-4647-9b5a-772dcf8a2d35",
   "metadata": {},
   "outputs": [],
   "source": [
    "# Update params\n",
    "locals().update(optimization_params)\n",
    "\n",
    "# Test dates\n",
    "dates = pd.Series(list(set(ID_data.loc[ID_data.train_test == 'test', 'date']))).sort_values()\n",
    "\n",
    "# Timer\n",
    "start_time, st_exec, st_cpu = dt.datetime.now().replace(microsecond=0), time.time(), time.process_time()      \n",
    "        \n",
    "# For each date in the test horizon\n",
    "with experiment.tqdm_joblib(tqdm(desc='Progress', total=len(dates))) as progress_bar:\n",
    "    results = Parallel(n_jobs=n_jobs)(delayed(experiment.run)(\n",
    "        X = np.array(X_data),\n",
    "        y = np.array(Y_data),\n",
    "        date = date,\n",
    "        dates = ID_data['date'],\n",
    "        areas = ID_data['area'],\n",
    "        weightsModel = density_estimator,\n",
    "        cost_params = cost_params,\n",
    "        gurobi_params = gurobi_params,\n",
    "        K = K,\n",
    "        print_status = False) for date in dates)\n",
    "    \n",
    "# Finalize\n",
    "results = pd.concat(results).reset_index(drop=True)\n",
    "\n",
    "# Save results\n",
    "results.to_csv(path_results+\"/\"+model_name+\"_K\"+str(K)+\".csv\", sep=',', index=False)\n",
    "\n",
    "# Time\n",
    "print('Time:', dt.datetime.now().replace(microsecond=0) - start_time)  \n",
    "print('>> Execution time:', np.around(time.time()-st_exec, 0), \"seconds\") \n",
    "print('>> CPU time:', np.around(time.process_time()-st_cpu, 0), \"seconds\")"
   ]
  },
  {
   "cell_type": "code",
   "execution_count": null,
   "id": "53aa89a5-e999-4777-a191-871317182d47",
   "metadata": {},
   "outputs": [],
   "source": []
  },
  {
   "cell_type": "code",
   "execution_count": null,
   "id": "8b1dd989-2702-4e83-870e-f3afc46b2753",
   "metadata": {},
   "outputs": [],
   "source": []
  },
  {
   "cell_type": "code",
   "execution_count": null,
   "id": "1d39f24b-917e-4c1f-b7d4-9fa70c746ff1",
   "metadata": {},
   "outputs": [],
   "source": []
  },
  {
   "cell_type": "markdown",
   "id": "5be70735-4998-44cb-84b7-8129944438dd",
   "metadata": {},
   "source": [
    "# Model: SAA"
   ]
  },
  {
   "cell_type": "code",
   "execution_count": null,
   "id": "2195c2d8-55f6-4c30-9c3d-398d2d3d5342",
   "metadata": {},
   "outputs": [],
   "source": [
    "# Setup the model\n",
    "model_setup = dict(\n",
    "\n",
    "    # Model\n",
    "    model_name = 'SAA'\n",
    "\n",
    ")\n",
    "\n",
    "# Make all model variables visible locally\n",
    "locals().update(model_setup)"
   ]
  },
  {
   "cell_type": "markdown",
   "id": "92fa5208-8598-421a-a6e9-24b189098339",
   "metadata": {},
   "source": [
    "## Preprocessing"
   ]
  },
  {
   "cell_type": "code",
   "execution_count": null,
   "id": "25ef03f2-43ff-40e8-be5c-3279f90bb0c7",
   "metadata": {},
   "outputs": [],
   "source": [
    "# Load data\n",
    "Y_data = pd.read_csv('/home/fesc/dddex/PatientScheduling/Data/Y_data.csv')\n",
    "X_data = pd.read_csv('/home/fesc/dddex/PatientScheduling/Data/X_data.csv')\n",
    "ID_data = pd.read_csv('/home/fesc/dddex/PatientScheduling/Data/ID_data.csv')"
   ]
  },
  {
   "cell_type": "code",
   "execution_count": null,
   "id": "925ff79f-7881-4ede-925b-f4357b5f8272",
   "metadata": {},
   "outputs": [],
   "source": [
    "# Initialize modules\n",
    "experiment = Experiment()"
   ]
  },
  {
   "cell_type": "markdown",
   "id": "333f10f7-c167-4ba1-a520-de3d6bfe342e",
   "metadata": {},
   "source": [
    "## Data-driven optimization"
   ]
  },
  {
   "cell_type": "code",
   "execution_count": null,
   "id": "74c08fa8-f93a-478a-bc68-15325646ed86",
   "metadata": {},
   "outputs": [],
   "source": [
    "# Update params\n",
    "locals().update(optimization_params)\n",
    "\n",
    "# Test dates\n",
    "dates = pd.Series(list(set(ID_data.loc[ID_data.train_test == 'test', 'date']))).sort_values()\n",
    "\n",
    "# Timer\n",
    "start_time, st_exec, st_cpu = dt.datetime.now().replace(microsecond=0), time.time(), time.process_time()      \n",
    "        \n",
    "# For each date in the test horizon\n",
    "with experiment.tqdm_joblib(tqdm(desc='Progress', total=len(dates))) as progress_bar:\n",
    "    results = Parallel(n_jobs=n_jobs)(delayed(experiment.run)(\n",
    "        X = np.array(X_data),\n",
    "        y = np.array(Y_data),\n",
    "        date = date,\n",
    "        dates = ID_data['date'],\n",
    "        areas = ID_data['area'],\n",
    "        weightsModel = SampleAverageApproximation(),\n",
    "        cost_params = cost_params,\n",
    "        gurobi_params = gurobi_params,\n",
    "        K = K,\n",
    "        alpha = alpha,\n",
    "        print_status = False) for date in dates)\n",
    "    \n",
    "# Finalize\n",
    "results = pd.concat(results).reset_index(drop=True)\n",
    "\n",
    "# Save results\n",
    "results.to_csv(path_results+\"/\"+model_name+\"_K\"+str(K)+\".csv\", sep=',', index=False)\n",
    "\n",
    "# Time\n",
    "print('Time:', dt.datetime.now().replace(microsecond=0) - start_time)  \n",
    "print('>> Execution time:', np.around(time.time()-st_exec, 0), \"seconds\") \n",
    "print('>> CPU time:', np.around(time.process_time()-st_cpu, 0), \"seconds\")"
   ]
  },
  {
   "cell_type": "code",
   "execution_count": null,
   "id": "166f536a-7e1f-40d4-b7fc-3f30019872d6",
   "metadata": {},
   "outputs": [],
   "source": []
  },
  {
   "cell_type": "markdown",
   "id": "d923be30-93c6-4893-85c1-6d5db27e480e",
   "metadata": {},
   "source": [
    "# Evaluate"
   ]
  },
  {
   "cell_type": "code",
   "execution_count": null,
   "id": "e63d179b-0e73-4da0-ae1b-6438a3b668b1",
   "metadata": {},
   "outputs": [],
   "source": [
    "K = 10\n",
    "\n",
    "# Load results\n",
    "results_LSx_LGBM = pd.read_csv(path_results+'/LSx_LGBM_K'+str(K)+'.csv')\n",
    "results_LSx_LGBM['model'] = 'LSx_LGBM'\n",
    "\n",
    "results_LSx_LGBM_NN = pd.read_csv(path_results+'/LSx_LGBM_NN_K'+str(K)+'.csv')\n",
    "results_LSx_LGBM_NN['model'] = 'LSx_LGBM_NN'\n",
    "\n",
    "#results_wSAA_RF = pd.read_csv(path_results+'/wSAA_RF_K'+str(K)+'.csv')\n",
    "#results_wSAA_RF['model'] = 'wSAA_RF'\n",
    "\n",
    "results_SAA = pd.read_csv(path_results+'/SAA_K'+str(K)+'.csv')\n",
    "results_SAA['model'] = 'SAA'"
   ]
  },
  {
   "cell_type": "code",
   "execution_count": null,
   "id": "6892bbe6-3274-407d-99d9-12fa8ba2c99d",
   "metadata": {},
   "outputs": [],
   "source": [
    "# Combine\n",
    "results = pd.concat([\n",
    "    results_LSx_LGBM[['model', 'date', 'area', 'CR', 'cost', 'overtime', 'waiting_time']],\n",
    "    results_LSx_LGBM_NN[['model', 'date', 'area', 'CR', 'cost', 'overtime', 'waiting_time']] #,\n",
    "    #results_wSAA_RF[['model', 'date', 'area', 'CR', 'cost', 'overtime', 'waiting_time']]\n",
    "])\n",
    "\n",
    "results = pd.merge(\n",
    "    results, \n",
    "    results_SAA[['date', 'area', 'CR', 'cost', 'overtime', 'waiting_time']],\n",
    "    on=['date', 'area', 'CR'],\n",
    "    suffixes=('', '_SAA')\n",
    ")"
   ]
  },
  {
   "cell_type": "code",
   "execution_count": null,
   "id": "e9106a0e-688e-4dc6-8f6c-4659ea8962d7",
   "metadata": {},
   "outputs": [],
   "source": [
    "# Coefficient of prescriptiveness\n",
    "results['pq'] = results.cost / results.cost_SAA\n",
    "results.loc[results.cost == results.cost_SAA, 'pq'] = 1"
   ]
  },
  {
   "cell_type": "code",
   "execution_count": null,
   "id": "e19ef7ce-d919-4ba5-9aeb-57a3bec4c89e",
   "metadata": {},
   "outputs": [],
   "source": [
    "# Save results\n",
    "results.to_csv(path_results+\"/results_summary_K1000.csv\", sep=',', index=False)"
   ]
  },
  {
   "cell_type": "code",
   "execution_count": null,
   "id": "d75a8410-1e9d-492c-a5d6-3f4696acfa98",
   "metadata": {},
   "outputs": [],
   "source": [
    "# Analysze\n",
    "results.groupby(['CR', 'area', 'model']).agg(median_pq=('pq', np.median)).reset_index().to_markdown()"
   ]
  },
  {
   "cell_type": "code",
   "execution_count": null,
   "id": "6c34ef82-733f-44ba-ab5d-7e29999bbccc",
   "metadata": {},
   "outputs": [],
   "source": [
    "# Analysze\n",
    "results.loc[results.CR == 0.50].groupby(['CR', 'area', 'model']).agg(median_pq=('pq', np.median)).reset_index()"
   ]
  },
  {
   "cell_type": "code",
   "execution_count": null,
   "id": "2673d846-2f3e-4a0c-96b0-79cf8994897f",
   "metadata": {},
   "outputs": [],
   "source": []
  },
  {
   "cell_type": "code",
   "execution_count": null,
   "id": "02926917-f8df-49fc-ad36-ce5db34986ee",
   "metadata": {},
   "outputs": [],
   "source": [
    "results_SAA.loc[(results_SAA.CR == 0.50) & (results_SAA.n_patients > 5)].groupby('area').agg({'cost': sum})"
   ]
  },
  {
   "cell_type": "code",
   "execution_count": null,
   "id": "f02307b4-13b7-4458-bfd9-00081bbe1c9f",
   "metadata": {},
   "outputs": [],
   "source": [
    "results_LSx_LGBM.loc[(results_LSx_LGBM.CR == 0.50) & (results_LSx_LGBM.n_patients > 5)].groupby('area').agg({'cost': sum})"
   ]
  },
  {
   "cell_type": "markdown",
   "id": "6831d6d6-d4f1-40c9-b736-def280662fe5",
   "metadata": {},
   "source": [
    "# Debugging"
   ]
  },
  {
   "cell_type": "code",
   "execution_count": null,
   "id": "7eacb234-6d94-4998-9ff5-19385a1c0d98",
   "metadata": {},
   "outputs": [],
   "source": [
    "#### ... \n",
    "def predict_quantiles(X, y, date, dates, areas, weightsModel = None, \n",
    "             quantiles = [0.005, 0.025, 0.165, 0.250, 0.500, 0.750, 0.835, 0.900, 0.975, 0.995],\n",
    "             print_status = False):\n",
    "\n",
    "\n",
    "\n",
    "    \"\"\"\n",
    "\n",
    "    ...\n",
    "\n",
    "    Arguments:\n",
    "\n",
    "        X: ...\n",
    "        y: ...\n",
    "        date: ...\n",
    "        dates: ...\n",
    "        areas: ...\n",
    "        weightsModel = None: ...\n",
    "        quantiles = [0.005, 0.025, 0.165, 0.250, 0.500, 0.750, 0.835, 0.900, 0.975, 0.995]: ...\n",
    "        print_status = True: ...\n",
    "\n",
    "    Returns:\n",
    "\n",
    "        results(pd.DataFrame): ...\n",
    "\n",
    "\n",
    "    \"\"\"\n",
    "\n",
    "    # Train-test split\n",
    "    y_train, y_test = y[dates < date].flatten(), y[dates == date].flatten()\n",
    "    X_train, X_test = X[dates < date], X[dates == date]\n",
    "    dates_train, dates_test = dates[dates < date], dates[dates == date]\n",
    "    areas_train, areas_test = areas[dates < date], areas[dates == date]\n",
    "\n",
    "    # Fit weights model\n",
    "    weightsModel.fit(X_train, y_train)\n",
    "\n",
    "    # Initialize\n",
    "    results = {}\n",
    "\n",
    "    # For each area \n",
    "    for area in list(set(areas_test)):\n",
    "\n",
    "        # Select test data for current area\n",
    "        y_test_ = y_test[area == areas_test]\n",
    "        X_test_ = X_test[area == areas_test]\n",
    "\n",
    "        # Fit SAA on data of current area\n",
    "        SAA = SampleAverageApproximation()\n",
    "        SAA.fit(y_train[area == areas_train])\n",
    "\n",
    "        # Predict quantiles for each patient\n",
    "        q_hat = weightsModel.predict(X_test_, probs=quantiles, outputAsDf=False)\n",
    "        q_hat_saa = SAA.predict(X_test_, probs=quantiles, outputAsDf=False)\n",
    "\n",
    "        # Add to results\n",
    "        results[area] = pd.merge(\n",
    "            left = pd.concat(pd.DataFrame({'prob': p, 'q_hat': q}) for p, q in q_hat.items()).reset_index(names='j'),\n",
    "            right = pd.concat(pd.DataFrame({'prob': p, 'q_hat_saa': q, 'y': y_test_}) for p, q in q_hat_saa.items()).reset_index(names='j'),\n",
    "            on = ['prob', 'j']\n",
    "        )\n",
    "        \n",
    "    # Finalize\n",
    "    results = pd.concat(results).reset_index(names=['area', '']).drop(columns='')\n",
    "\n",
    "    return results"
   ]
  },
  {
   "cell_type": "code",
   "execution_count": null,
   "id": "a900744a-3ff4-421c-8a24-92d73473b8f5",
   "metadata": {},
   "outputs": [],
   "source": [
    "# Update params\n",
    "locals().update(optimization_params)\n",
    "\n",
    "# Test dates\n",
    "dates = pd.Series(list(set(ID_data.loc[ID_data.train_test == 'test', 'date']))).sort_values()\n",
    "\n",
    "# Timer\n",
    "start_time, st_exec, st_cpu = dt.datetime.now().replace(microsecond=0), time.time(), time.process_time()      \n",
    "        \n",
    "# For each date in the test horizon\n",
    "with experiment.tqdm_joblib(tqdm(desc='Progress', total=len(dates))) as progress_bar:\n",
    "    results = Parallel(n_jobs=n_jobs)(delayed(predict_quantiles)(\n",
    "        X = np.array(X_data),\n",
    "        y = np.array(Y_data),\n",
    "        date = date,\n",
    "        dates = ID_data['date'],\n",
    "        areas = ID_data['area'],\n",
    "        weightsModel = density_estimator,\n",
    "        quantiles = [0.005, 0.025, 0.165, 0.250, 0.500, 0.750, 0.835, 0.975, 0.995],\n",
    "        print_status = False) for date in dates)\n",
    "\n",
    "# Finalize\n",
    "results = pd.concat(results, keys=dates).reset_index(names=['date', '']).drop(columns='')\n",
    "\n",
    "# Time\n",
    "print('Time:', dt.datetime.now().replace(microsecond=0) - start_time)  \n",
    "print('>> Execution time:', np.around(time.time()-st_exec, 0), \"seconds\") \n",
    "print('>> CPU time:', np.around(time.process_time()-st_cpu, 0), \"seconds\")"
   ]
  },
  {
   "cell_type": "code",
   "execution_count": null,
   "id": "30f73790-f5b6-4aac-9c57-bf7aad077501",
   "metadata": {},
   "outputs": [],
   "source": [
    "# Scaled Pinball Loss\n",
    "def scaled_pinball_loss(p, q, q_saa, y, **kwargs):\n",
    "\n",
    "    \"\"\"\n",
    "\n",
    "    ...\n",
    "\n",
    "    \"\"\"\n",
    "    q = np.array(q).flatten()\n",
    "    q_saa = np.array(q_saa).flatten()\n",
    "    y = np.array(y).flatten()\n",
    "    \n",
    "\n",
    "    # Pinball Loss Model\n",
    "    pl = np.mean((y - q) * p * (q <= y) + (q - y) * (1 - p) * (q > y))\n",
    "\n",
    "    # Pinball Loss SAA\n",
    "    pl_saa = np.mean((y - q_saa) * p * (q_saa <= y) + (q_saa - y) * (1 - p) * (q_saa > y))\n",
    "\n",
    "    # Scaled Pinball Loss\n",
    "    with np.errstate(divide='ignore'):\n",
    "        spl = (pl == pl_saa) * 1.0 + (pl != pl_saa) * (pl / pl_saa)\n",
    "\n",
    "    return spl"
   ]
  },
  {
   "cell_type": "code",
   "execution_count": null,
   "id": "d8ea7ef2-021d-4cc9-a99d-b6eeb0574a0a",
   "metadata": {},
   "outputs": [],
   "source": []
  },
  {
   "cell_type": "code",
   "execution_count": null,
   "id": "8ebdfa68-4a1b-4d59-b43f-b23ba83700ec",
   "metadata": {},
   "outputs": [],
   "source": [
    "spl = results.groupby(['area', 'prob']).apply(\n",
    "    \n",
    "    lambda df: pd.Series({'spl': scaled_pinball_loss(p=df.prob, q=df.q_hat, q_saa=df.q_hat_saa, y=df.y)\n",
    "    \n",
    "    })\n",
    "\n",
    ").reset_index()"
   ]
  },
  {
   "cell_type": "code",
   "execution_count": null,
   "id": "8d0b4d39-71ab-422c-841a-4d26a3afb04b",
   "metadata": {},
   "outputs": [],
   "source": []
  },
  {
   "cell_type": "code",
   "execution_count": null,
   "id": "ccc5d513-9171-4d3e-911f-2559cbd0c2f6",
   "metadata": {},
   "outputs": [],
   "source": [
    "import matplotlib.pyplot as plt"
   ]
  },
  {
   "cell_type": "code",
   "execution_count": null,
   "id": "433f3d15-30b8-4fd7-bffc-c1ecbba432aa",
   "metadata": {},
   "outputs": [],
   "source": [
    "# Number of cases per day by treatment\n",
    "plotData = spl.groupby(['area'])\n",
    "\n",
    "# Plot\n",
    "fig, ax = plt.subplots()\n",
    "fig.set_size_inches(10, 5)\n",
    "\n",
    "for area, d in plotData:\n",
    "    ax.plot(d['prob'], d['spl'], marker='', linestyle='-', ms=2, linewidth=2, label=area)\n",
    "plt.axhline(y = 1, color = 'grey', linestyle = '--', linewidth=1)\n",
    "ax.legend()\n",
    "ax.get_xaxis().set_visible(False)\n",
    "plt.show()"
   ]
  },
  {
   "cell_type": "code",
   "execution_count": null,
   "id": "436ea818-4023-4860-b0a3-c215ef579d7a",
   "metadata": {},
   "outputs": [],
   "source": []
  },
  {
   "cell_type": "code",
   "execution_count": null,
   "id": "158ba5e4-d1ea-4182-aef5-14e0cae36672",
   "metadata": {},
   "outputs": [],
   "source": []
  },
  {
   "cell_type": "code",
   "execution_count": null,
   "id": "aeec644e-e6c8-45c3-a564-94a7acaf6696",
   "metadata": {},
   "outputs": [],
   "source": []
  },
  {
   "cell_type": "markdown",
   "id": "282370f0-a434-466b-b12c-e1dff4defbd3",
   "metadata": {},
   "source": [
    "## LSx LGBM"
   ]
  },
  {
   "cell_type": "code",
   "execution_count": 3,
   "id": "3bd23175-2b0b-4122-801d-1dc8f48851f0",
   "metadata": {},
   "outputs": [],
   "source": [
    "# Setup the model\n",
    "model_setup = dict(\n",
    "\n",
    "    # Model\n",
    "    model_name = 'LSx_LGBM',\n",
    "        \n",
    "    ## Point estimator\n",
    "    point_estimator_params = dict(\n",
    "\n",
    "        # Meta parameters\n",
    "        model_params = {\n",
    "            'random_state': 12345,\n",
    "            'n_jobs': 4,\n",
    "            'verbose': -1\n",
    "        },\n",
    "\n",
    "        # Tuning meta params\n",
    "        tuning_params = {     \n",
    "            'n_iter': 200,\n",
    "            'scoring': {'MSE': 'neg_mean_squared_error'},\n",
    "            'return_train_score': True,\n",
    "            'refit': 'MSE',\n",
    "            'random_state': 12345,\n",
    "            'n_jobs': 8,\n",
    "            'verbose': 0\n",
    "        },    \n",
    "\n",
    "        # Hyper params search grid\n",
    "       hyper_params_grid = {\n",
    "            'num_leaves': [x for x in range(5, 500, 5)],\n",
    "            'max_depth': [-1, 2, 3, 4, 5, 6, 7, 8, 9, 10],\n",
    "            'min_child_samples': [x for x in range(5, 500, 5)],\n",
    "            'learning_rate': [x/100 for x in range(5, 25, 5)],\n",
    "            'n_estimators': [100, 200, 300, 400, 500],\n",
    "            'subsample': [x/100 for x in range(5, 100, 5)],\n",
    "            'colsample_bytree': [x/100 for x in range(5, 100, 5)]\n",
    "        },  \n",
    "    \n",
    "    \n",
    "    ),\n",
    "          \n",
    " \n",
    "    ## Density estimator\n",
    "    density_estimator_params = dict(\n",
    "    \n",
    "        # Meta parameters\n",
    "        model_params = {\n",
    "            'weightsByDistance': False\n",
    "        },\n",
    "\n",
    "        # Tuning meta params\n",
    "        tuning_params = {     \n",
    "            #'probs': [0.005, 0.025, 0.165, 0.250, 0.500, 0.750, 0.835, 0.975, 0.995],\n",
    "            'probs': sorted(list(set(np.concatenate([np.array([0.005, 0.025, 0.165, 0.25, 0.50, 0.835, 0.75, 0.975, 0.995]), \n",
    "                                                     np.arange(1, 100, 1) / 100])))),\n",
    "            'n_jobs': 8,\n",
    "        },    \n",
    "\n",
    "        # Hyper params search grid\n",
    "        hyper_params_grid = {\n",
    "            'binSize': [x for x in range(25, 500, 25)]\n",
    "        },\n",
    "        \n",
    "    )\n",
    ")\n",
    "\n",
    "# Make all model variables visible locally\n",
    "locals().update(model_setup)"
   ]
  },
  {
   "cell_type": "markdown",
   "id": "c68122bd-2fdc-4def-a99e-0b08563ff89b",
   "metadata": {},
   "source": [
    "## Preprocessing"
   ]
  },
  {
   "cell_type": "code",
   "execution_count": 4,
   "id": "3b5b87d9-40c2-427f-949b-3bfa405d5467",
   "metadata": {},
   "outputs": [],
   "source": [
    "# Load data\n",
    "Y_data = pd.read_csv('/home/fesc/dddex/PatientScheduling/Data/Y_data.csv')\n",
    "X_data = pd.read_csv('/home/fesc/dddex/PatientScheduling/Data/X_data.csv')\n",
    "ID_data = pd.read_csv('/home/fesc/dddex/PatientScheduling/Data/ID_data.csv')"
   ]
  },
  {
   "cell_type": "code",
   "execution_count": 5,
   "id": "e25560a5-053f-4da1-8d68-618666783744",
   "metadata": {},
   "outputs": [],
   "source": [
    "# Train-test split\n",
    "y_train = np.array(Y_data.loc[ID_data.train_test == 'train']).flatten()\n",
    "X_train = np.array(X_data.loc[ID_data.train_test == 'train'])\n",
    "ID_train = ID_data.loc[ID_data.train_test == 'train']"
   ]
  },
  {
   "cell_type": "code",
   "execution_count": 6,
   "id": "ad230fa1-6786-4322-bb16-d6aef2635d8e",
   "metadata": {},
   "outputs": [],
   "source": [
    "# CV folds\n",
    "tscv = TimeSeriesSplit(n_splits=3)\n",
    "cv_folds = tscv.split(range(len(ID_train)))\n",
    "cv_folds = list(cv_folds)"
   ]
  },
  {
   "cell_type": "code",
   "execution_count": 7,
   "id": "706ddcbb-3a19-430a-a135-737e62884535",
   "metadata": {},
   "outputs": [],
   "source": [
    "# Initialize modules\n",
    "weightsmodel = WeightsModel()\n",
    "experiment = Experiment()"
   ]
  },
  {
   "cell_type": "markdown",
   "id": "2b691301-972b-4875-8f36-25f01830296b",
   "metadata": {},
   "source": [
    "## Tune point estimator"
   ]
  },
  {
   "cell_type": "code",
   "execution_count": 8,
   "id": "e4eb1997-8f4b-4fc6-809a-68624eef0955",
   "metadata": {},
   "outputs": [
    {
     "name": "stdout",
     "output_type": "stream",
     "text": [
      "Time: 0:00:08\n",
      ">> Execution time: 8.0 seconds\n",
      ">> CPU time: 1.0 seconds\n"
     ]
    }
   ],
   "source": [
    "# Update params\n",
    "locals().update(point_estimator_params)\n",
    "\n",
    "# Point estimator\n",
    "point_estimator = LGBMRegressor(**model_params)\n",
    "\n",
    "# Tune point estimator\n",
    "point_estimator = weightsmodel.tune_point_estimator(X_train, y_train, point_estimator, cv_folds, hyper_params_grid, \n",
    "                                                    tuning_params, random_search=True, print_time=True)"
   ]
  },
  {
   "cell_type": "markdown",
   "id": "21a384cb-8861-442c-96c2-c4168dd2d5c6",
   "metadata": {},
   "source": [
    "## Tune density estimator"
   ]
  },
  {
   "cell_type": "code",
   "execution_count": 9,
   "id": "990bbe9e-354a-4f57-b69d-bdfb878c4662",
   "metadata": {},
   "outputs": [
    {
     "name": "stdout",
     "output_type": "stream",
     "text": [
      "Time: 0:00:03\n",
      ">> Execution time: 3.0 seconds\n",
      ">> CPU time: 0.0 seconds\n"
     ]
    }
   ],
   "source": [
    "# Update params\n",
    "locals().update(density_estimator_params)\n",
    "\n",
    "# Density estimator\n",
    "density_estimator = LevelSetKDEx(estimator = point_estimator, **model_params)\n",
    "\n",
    "# Tune density estimator\n",
    "density_estimator = weightsmodel.tune_density_estimator(X_train, y_train, density_estimator, cv_folds, hyper_params_grid, \n",
    "                                                        tuning_params, random_search=False, print_time=True)"
   ]
  },
  {
   "cell_type": "markdown",
   "id": "3d1521e3-00cc-43b0-b370-119028af6da7",
   "metadata": {},
   "source": [
    "## Data-driven optimization"
   ]
  },
  {
   "cell_type": "code",
   "execution_count": 10,
   "id": "0796dab0-3c1e-40ce-aeed-902ef746a0f4",
   "metadata": {},
   "outputs": [],
   "source": [
    "# Update params\n",
    "locals().update(optimization_params)\n",
    "\n",
    "# Test dates\n",
    "dates = pd.Series(list(set(ID_data.loc[ID_data.train_test == 'test', 'date']))).sort_values()\n",
    "\n",
    "date = min(dates)\n",
    "\n",
    "results = experiment.run(\n",
    "    X = np.array(X_data),\n",
    "    y = np.array(Y_data),\n",
    "    date = date,\n",
    "    dates = ID_data['date'],\n",
    "    areas = ID_data['area'],\n",
    "    weightsModel = density_estimator,\n",
    "    cost_params = cost_params,\n",
    "    gurobi_params = gurobi_params,\n",
    "    K = K,\n",
    "    alpha = alpha,\n",
    "    print_status = False)"
   ]
  },
  {
   "cell_type": "code",
   "execution_count": null,
   "id": "3f56d74d-e47c-4d24-9eeb-71ac27271ba5",
   "metadata": {},
   "outputs": [],
   "source": [
    "results"
   ]
  },
  {
   "cell_type": "code",
   "execution_count": null,
   "id": "b30f22e3-565e-4e2b-93c7-45296b30bda1",
   "metadata": {},
   "outputs": [],
   "source": []
  },
  {
   "cell_type": "code",
   "execution_count": null,
   "id": "8334d73c-b24c-4665-8318-3fd662321f03",
   "metadata": {},
   "outputs": [],
   "source": []
  },
  {
   "cell_type": "code",
   "execution_count": null,
   "id": "50b39789-d4ff-4aca-bc7b-9e9f4ba4216b",
   "metadata": {},
   "outputs": [],
   "source": []
  },
  {
   "cell_type": "code",
   "execution_count": 17,
   "id": "a8e68b8f-cab4-43a9-ad67-017a61828f6e",
   "metadata": {},
   "outputs": [],
   "source": [
    "## in depth"
   ]
  },
  {
   "cell_type": "code",
   "execution_count": 149,
   "id": "1f8f66ba-8e72-4dd2-8633-09a5082338e8",
   "metadata": {},
   "outputs": [],
   "source": [
    "X = np.array(X_data)\n",
    "y = np.array(Y_data)\n",
    "date = date\n",
    "dates = ID_data['date']\n",
    "areas = ID_data['area']\n",
    "#weightsModel = density_estimator\n",
    "\n",
    "weightsModel = SampleAverageApproximation()\n",
    "\n",
    "\n",
    "cost_params = cost_params\n",
    "gurobi_params = gurobi_params\n",
    "K = 10**4\n",
    "alpha = 2\n",
    "print_status = False"
   ]
  },
  {
   "cell_type": "code",
   "execution_count": 150,
   "id": "a1636be4-9526-43bf-ac49-979d5789dd88",
   "metadata": {},
   "outputs": [],
   "source": [
    "# Train-test split\n",
    "y_train, y_test = y[dates < date].flatten(), y[dates == date].flatten()\n",
    "X_train, X_test = X[dates < date], X[dates == date]\n",
    "dates_train, dates_test = dates[dates < date], dates[dates == date]\n",
    "areas_train, areas_test = areas[dates < date], areas[dates == date]\n",
    "\n",
    "# Get time budget per area\n",
    "hist_durations = pd.DataFrame({\n",
    "    'duration': y_train, \n",
    "    'area': areas_train,\n",
    "}).groupby('area').agg(\n",
    "    median_duration=('duration', np.median)\n",
    ").reset_index()\n",
    "\n",
    "hist_durations = dict(zip(hist_durations.area, hist_durations.median_duration))\n",
    "\n",
    "# LSx and wSAA\n",
    "if not str(type(weightsModel)) == \"<class 'dddex.wSAA.SampleAverageApproximation'>\":\n",
    "\n",
    "    # Fit weights model\n",
    "    weightsModel.fit(X_train, y_train)"
   ]
  },
  {
   "cell_type": "code",
   "execution_count": 151,
   "id": "88cc8d75-5ba4-4adb-9f2d-5e6bc1a41ee6",
   "metadata": {},
   "outputs": [],
   "source": [
    "# Initialize\n",
    "results = pd.DataFrame()\n",
    "\n",
    "area = 'Bereich_Gastroskopie'\n",
    "\n",
    "\n",
    "# Initialize\n",
    "results_ = {}\n",
    "\n",
    "# Progress\n",
    "if print_status:\n",
    "    print('=====================================================================================================')\n",
    "    print('# Area:',area)\n",
    "\n",
    "# Timer\n",
    "weights_st_exec = time.time()\n",
    "weights_st_cpu = time.process_time() \n",
    "\n",
    "# Select test data for current area\n",
    "y_test_ = y_test[area == areas_test]\n",
    "X_test_ = X_test[area == areas_test]\n",
    "\n",
    "# Number of patient cases to schedule\n",
    "M = len(y_test_)\n",
    "\n",
    "# Set random sequence of patient cases\n",
    "#patient_sequence = np.arange(M)\n",
    "#np.random.shuffle(patient_sequence)\n",
    "\n",
    "#y_test_ = y_test_[patient_sequence]\n",
    "#X_test_ = X_test_[patient_sequence]\n",
    "\n",
    "# Set time budget (based on median duration per area x number of cases on test day)\n",
    "T = hist_durations[area] * M * alpha\n",
    "\n",
    "# SAA\n",
    "if str(type(weightsModel)) == \"<class 'dddex.wSAA.SampleAverageApproximation'>\":\n",
    "\n",
    "    # Fit SAA on data of current area\n",
    "    weightsModel.fit(y_train[area == areas_train])\n",
    "\n",
    "# Get estimated conditional distribution\n",
    "conditionalDistribution = weightsModel.getWeights(X_test_, outputType='summarized')\n",
    "\n",
    "# Timer\n",
    "weights_exec_time_sec = time.time()-weights_st_exec\n",
    "weights_cpu_time_sec = time.process_time()-weights_st_cpu\n"
   ]
  },
  {
   "cell_type": "code",
   "execution_count": 152,
   "id": "f3d133d7-d1af-4874-912b-3a5e45569443",
   "metadata": {},
   "outputs": [],
   "source": [
    "# Generate K scenarios\n",
    "scenarios = []\n",
    "\n",
    "# Timer\n",
    "scenarios_st_exec = time.time()\n",
    "scenarios_st_cpu = time.process_time() \n",
    "\n",
    "# Draw\n",
    "for k in range(K):    \n",
    "\n",
    "    # For each patient\n",
    "    scenario = []\n",
    "    for j in range(M):\n",
    "\n",
    "        # Weighted samples\n",
    "        weights = conditionalDistribution[j][0]\n",
    "        samples = conditionalDistribution[j][1]\n",
    "\n",
    "        # Add scenario for patient j\n",
    "        scenario += [np.random.choice(samples.flatten(), p=weights.flatten())]\n",
    "\n",
    "    # Add scenarios\n",
    "    scenarios += [scenario]\n",
    "\n",
    "# Scenarios\n",
    "scenarios = np.array(scenarios)   \n",
    "\n",
    "# Timer\n",
    "scenarios_exec_time_sec = time.time()-scenarios_st_exec\n",
    "scenarios_cpu_time_sec = time.process_time()-scenarios_st_cpu\n",
    "\n"
   ]
  },
  {
   "cell_type": "code",
   "execution_count": 153,
   "id": "31e95ea4-3f29-4ca9-bb0a-3b493015f6ca",
   "metadata": {},
   "outputs": [
    {
     "data": {
      "text/plain": [
       "16"
      ]
     },
     "execution_count": 153,
     "metadata": {},
     "output_type": "execute_result"
    }
   ],
   "source": [
    "j"
   ]
  },
  {
   "cell_type": "code",
   "execution_count": 154,
   "id": "0c953dd7-72b0-4cb0-bb03-b173baa292a1",
   "metadata": {},
   "outputs": [
    {
     "data": {
      "text/plain": [
       "array([0.0021645 , 0.00154607, 0.00309215, 0.00896722, 0.01948052,\n",
       "       0.03463203, 0.04421769, 0.05009276, 0.0615337 , 0.06246135,\n",
       "       0.08565244, 0.05998763, 0.06524428, 0.0445269 , 0.05040198,\n",
       "       0.05163884, 0.02813853, 0.02628324, 0.02380952, 0.0170068 ,\n",
       "       0.03741497, 0.01453309, 0.0126778 , 0.0170068 , 0.00711194,\n",
       "       0.01638837, 0.00927644, 0.00927644, 0.00618429, 0.00742115,\n",
       "       0.02380952, 0.00803958, 0.00463822, 0.00525665, 0.00371058,\n",
       "       0.00618429, 0.00340136, 0.00401979, 0.00247372, 0.00494743,\n",
       "       0.00401979, 0.0021645 , 0.00401979, 0.00247372, 0.00247372,\n",
       "       0.00340136, 0.00092764, 0.00123686, 0.00061843, 0.00123686,\n",
       "       0.00309215, 0.00030921, 0.00185529, 0.00092764, 0.00030921,\n",
       "       0.00061843, 0.00061843, 0.00061843, 0.00030921, 0.00092764,\n",
       "       0.00309215, 0.00061843, 0.00092764, 0.00092764, 0.00154607,\n",
       "       0.00061843, 0.00061843, 0.00030921, 0.00092764, 0.00092764,\n",
       "       0.00092764, 0.00030921, 0.00030921, 0.00092764, 0.00030921,\n",
       "       0.00030921, 0.00092764, 0.00030921, 0.00030921, 0.00030921,\n",
       "       0.00030921, 0.00030921, 0.00092764, 0.00061843, 0.00030921,\n",
       "       0.00030921, 0.00030921, 0.00030921, 0.00030921, 0.00030921,\n",
       "       0.00030921, 0.00030921, 0.00061843, 0.00061843, 0.00030921,\n",
       "       0.00030921, 0.00030921, 0.00030921, 0.00030921, 0.00030921])"
      ]
     },
     "execution_count": 154,
     "metadata": {},
     "output_type": "execute_result"
    }
   ],
   "source": [
    "weights"
   ]
  },
  {
   "cell_type": "code",
   "execution_count": 155,
   "id": "bb535010-30ef-4333-90f8-f7d8a6f7b59b",
   "metadata": {},
   "outputs": [
    {
     "data": {
      "text/plain": [
       "array([  0.,   1.,   2.,   3.,   4.,   5.,   6.,   7.,   8.,   9.,  10.,\n",
       "        11.,  12.,  13.,  14.,  15.,  16.,  17.,  18.,  19.,  20.,  21.,\n",
       "        22.,  23.,  24.,  25.,  26.,  27.,  28.,  29.,  30.,  31.,  32.,\n",
       "        33.,  34.,  35.,  36.,  37.,  38.,  39.,  40.,  41.,  42.,  43.,\n",
       "        44.,  45.,  46.,  47.,  48.,  49.,  50.,  51.,  52.,  53.,  54.,\n",
       "        55.,  56.,  57.,  58.,  59.,  60.,  61.,  62.,  63.,  64.,  65.,\n",
       "        66.,  68.,  69.,  70.,  71.,  73.,  74.,  75.,  78.,  79.,  80.,\n",
       "        81.,  83.,  84.,  85.,  88.,  90.,  92.,  93.,  96.,  97., 100.,\n",
       "       101., 103., 110., 116., 120., 122., 128., 130., 133., 137., 140.,\n",
       "       145.])"
      ]
     },
     "execution_count": 155,
     "metadata": {},
     "output_type": "execute_result"
    }
   ],
   "source": [
    "samples"
   ]
  },
  {
   "cell_type": "code",
   "execution_count": 156,
   "id": "17a5c11a-46ef-4358-b008-d7846c8daf16",
   "metadata": {},
   "outputs": [],
   "source": [
    "check = pd.DataFrame({'y': scenarios[:,16], 'n': 1}).groupby('y').agg({'n': sum}).reset_index()"
   ]
  },
  {
   "cell_type": "code",
   "execution_count": 157,
   "id": "0548c826-e56e-417f-84e2-0eba5186db9c",
   "metadata": {},
   "outputs": [],
   "source": [
    "check['percent'] = check['n']/K"
   ]
  },
  {
   "cell_type": "code",
   "execution_count": 158,
   "id": "2ecc2ced-074e-4e94-a30c-d5fcd60fd551",
   "metadata": {},
   "outputs": [
    {
     "data": {
      "text/html": [
       "<div>\n",
       "<style scoped>\n",
       "    .dataframe tbody tr th:only-of-type {\n",
       "        vertical-align: middle;\n",
       "    }\n",
       "\n",
       "    .dataframe tbody tr th {\n",
       "        vertical-align: top;\n",
       "    }\n",
       "\n",
       "    .dataframe thead th {\n",
       "        text-align: right;\n",
       "    }\n",
       "</style>\n",
       "<table border=\"1\" class=\"dataframe\">\n",
       "  <thead>\n",
       "    <tr style=\"text-align: right;\">\n",
       "      <th></th>\n",
       "      <th>y</th>\n",
       "      <th>n</th>\n",
       "      <th>percent</th>\n",
       "    </tr>\n",
       "  </thead>\n",
       "  <tbody>\n",
       "    <tr>\n",
       "      <th>0</th>\n",
       "      <td>0.0</td>\n",
       "      <td>25</td>\n",
       "      <td>0.0025</td>\n",
       "    </tr>\n",
       "    <tr>\n",
       "      <th>1</th>\n",
       "      <td>1.0</td>\n",
       "      <td>12</td>\n",
       "      <td>0.0012</td>\n",
       "    </tr>\n",
       "    <tr>\n",
       "      <th>2</th>\n",
       "      <td>2.0</td>\n",
       "      <td>26</td>\n",
       "      <td>0.0026</td>\n",
       "    </tr>\n",
       "    <tr>\n",
       "      <th>3</th>\n",
       "      <td>3.0</td>\n",
       "      <td>93</td>\n",
       "      <td>0.0093</td>\n",
       "    </tr>\n",
       "    <tr>\n",
       "      <th>4</th>\n",
       "      <td>4.0</td>\n",
       "      <td>192</td>\n",
       "      <td>0.0192</td>\n",
       "    </tr>\n",
       "    <tr>\n",
       "      <th>...</th>\n",
       "      <td>...</td>\n",
       "      <td>...</td>\n",
       "      <td>...</td>\n",
       "    </tr>\n",
       "    <tr>\n",
       "      <th>93</th>\n",
       "      <td>130.0</td>\n",
       "      <td>3</td>\n",
       "      <td>0.0003</td>\n",
       "    </tr>\n",
       "    <tr>\n",
       "      <th>94</th>\n",
       "      <td>133.0</td>\n",
       "      <td>6</td>\n",
       "      <td>0.0006</td>\n",
       "    </tr>\n",
       "    <tr>\n",
       "      <th>95</th>\n",
       "      <td>137.0</td>\n",
       "      <td>2</td>\n",
       "      <td>0.0002</td>\n",
       "    </tr>\n",
       "    <tr>\n",
       "      <th>96</th>\n",
       "      <td>140.0</td>\n",
       "      <td>6</td>\n",
       "      <td>0.0006</td>\n",
       "    </tr>\n",
       "    <tr>\n",
       "      <th>97</th>\n",
       "      <td>145.0</td>\n",
       "      <td>2</td>\n",
       "      <td>0.0002</td>\n",
       "    </tr>\n",
       "  </tbody>\n",
       "</table>\n",
       "<p>98 rows × 3 columns</p>\n",
       "</div>"
      ],
      "text/plain": [
       "        y    n  percent\n",
       "0     0.0   25   0.0025\n",
       "1     1.0   12   0.0012\n",
       "2     2.0   26   0.0026\n",
       "3     3.0   93   0.0093\n",
       "4     4.0  192   0.0192\n",
       "..    ...  ...      ...\n",
       "93  130.0    3   0.0003\n",
       "94  133.0    6   0.0006\n",
       "95  137.0    2   0.0002\n",
       "96  140.0    6   0.0006\n",
       "97  145.0    2   0.0002\n",
       "\n",
       "[98 rows x 3 columns]"
      ]
     },
     "execution_count": 158,
     "metadata": {},
     "output_type": "execute_result"
    }
   ],
   "source": [
    "check"
   ]
  },
  {
   "cell_type": "code",
   "execution_count": 159,
   "id": "a9e4b519-e42b-4354-b5ba-5e65d6ece580",
   "metadata": {},
   "outputs": [
    {
     "data": {
      "text/plain": [
       "[{'CR': 0.1, 'c_waiting_time': 1, 'c_overtime': 9},\n",
       " {'CR': 0.25, 'c_waiting_time': 1, 'c_overtime': 3},\n",
       " {'CR': 0.5, 'c_waiting_time': 1, 'c_overtime': 1},\n",
       " {'CR': 0.75, 'c_waiting_time': 3, 'c_overtime': 1},\n",
       " {'CR': 0.9, 'c_waiting_time': 9, 'c_overtime': 1}]"
      ]
     },
     "execution_count": 159,
     "metadata": {},
     "output_type": "execute_result"
    }
   ],
   "source": [
    "cost_params"
   ]
  },
  {
   "cell_type": "code",
   "execution_count": 160,
   "id": "82e6fb77-1e0b-47d7-bcbf-744acf9c28eb",
   "metadata": {},
   "outputs": [],
   "source": [
    "from DataDrivenPatientScheduling import PatientScheduling"
   ]
  },
  {
   "cell_type": "code",
   "execution_count": 161,
   "id": "b3d0b7d4-a3c1-49ee-8d12-e6a9becc285b",
   "metadata": {},
   "outputs": [],
   "source": [
    "cost_params_ = cost_params[2]\n",
    "\n",
    "# Progress\n",
    "if print_status:\n",
    "    print('## Cost param setting:',cost_params_)\n",
    "\n",
    "# Timer\n",
    "opt_st_exec = time.time()\n",
    "opt_st_cpu = time.process_time() \n",
    "\n",
    "# Optimization\n",
    "CR, c_waiting_time, c_overtime = cost_params_['CR'], cost_params_['c_waiting_time'], cost_params_['c_overtime']\n",
    "\n",
    "# Initialize optimization model\n",
    "ddps = PatientScheduling(c_waitingtime=c_waiting_time, c_overtime=c_overtime, T=T, **gurobi_params)\n",
    "\n",
    "# Set up optimization model with scenarios\n",
    "ddps.create(z=scenarios)\n",
    "\n",
    "# Solve\n",
    "schedule, times, status, solutions, gap = ddps.optimize()\n",
    "\n",
    "# Waiting time\n",
    "scheduled_start, scheduled_duration, actual_duration, waiting_time = [], [], [], []    \n",
    "\n",
    "for j in range(M):\n",
    "\n",
    "    scheduled_start += [schedule[j]]\n",
    "    scheduled_duration += [times[j]]\n",
    "    actual_duration += list(y[j])\n",
    "    waiting_time += [0] if j == 0 else [max([0]+[waiting_time[j-1]+actual_duration[j-1]-scheduled_duration[j-1]])]\n",
    "\n",
    "# Overtime (using last j)\n",
    "overtime = max([0]+[waiting_time[j]+actual_duration[j]-scheduled_duration[j]])\n",
    "\n",
    "# Cost\n",
    "cost = c_waiting_time * sum(waiting_time) + c_overtime * overtime\n",
    "\n",
    "# Timer\n",
    "optimization_exec_time_sec = time.time()-opt_st_exec\n",
    "optimization_cpu_time_sec = time.process_time()-opt_st_cpu\n",
    "\n",
    "# Store results\n",
    "result = {\n",
    "\n",
    "    'date': date,\n",
    "    'area': area,\n",
    "    'n_patients': M,\n",
    "    'n_scenarios': K,\n",
    "    'CR': CR,\n",
    "    'c_waiting_time': c_waiting_time,\n",
    "    'c_overtime': c_overtime,\n",
    "    'historical_time_budget': hist_durations[area] * M,\n",
    "    'time_budget_multiplier': alpha,\n",
    "    'total_time_budget': T,\n",
    "    'waiting_time': sum(waiting_time),\n",
    "    'overtime': overtime,\n",
    "    'cost': cost,\n",
    "    'scheduled_total_durations': sum(scheduled_duration),\n",
    "    'actual_total_durations': sum(actual_duration),\n",
    "    'optimization_exec_time_sec': optimization_exec_time_sec,\n",
    "    'optimization_cpu_time_sec': optimization_cpu_time_sec,\n",
    "    'scenarios_exec_time_sec': scenarios_exec_time_sec,\n",
    "    'scenarios_cpu_time_sec': scenarios_cpu_time_sec,\n",
    "    'weights_exec_time_sec': weights_exec_time_sec,\n",
    "    'weights_cpu_time_sec': weights_cpu_time_sec\n",
    "\n",
    "}\n",
    "\n"
   ]
  },
  {
   "cell_type": "code",
   "execution_count": 162,
   "id": "99d14f72-7e5d-43cc-8c03-00d26c7c25b4",
   "metadata": {},
   "outputs": [
    {
     "data": {
      "text/plain": [
       "{'date': '2019-10-23',\n",
       " 'area': 'Bereich_Gastroskopie',\n",
       " 'n_patients': 17,\n",
       " 'n_scenarios': 10000,\n",
       " 'CR': 0.5,\n",
       " 'c_waiting_time': 1,\n",
       " 'c_overtime': 1,\n",
       " 'historical_time_budget': 221.0,\n",
       " 'time_budget_multiplier': 2,\n",
       " 'total_time_budget': 442.0,\n",
       " 'waiting_time': 205.0,\n",
       " 'overtime': 40.0,\n",
       " 'cost': 245.0,\n",
       " 'scheduled_total_durations': 442.0,\n",
       " 'actual_total_durations': 424.0,\n",
       " 'optimization_exec_time_sec': 76.44097471237183,\n",
       " 'optimization_cpu_time_sec': 147.447834037,\n",
       " 'scenarios_exec_time_sec': 2.7560224533081055,\n",
       " 'scenarios_cpu_time_sec': 2.7710023000000064,\n",
       " 'weights_exec_time_sec': 0.00980687141418457,\n",
       " 'weights_cpu_time_sec': 0.01024515699999995}"
      ]
     },
     "execution_count": 162,
     "metadata": {},
     "output_type": "execute_result"
    }
   ],
   "source": [
    "#SAA\n",
    "result"
   ]
  },
  {
   "cell_type": "code",
   "execution_count": 146,
   "id": "48897227-c6db-4698-b48b-c7e4dc54ec82",
   "metadata": {},
   "outputs": [
    {
     "data": {
      "text/plain": [
       "{'date': '2019-10-23',\n",
       " 'area': 'Bereich_Gastroskopie',\n",
       " 'n_patients': 17,\n",
       " 'n_scenarios': 10000,\n",
       " 'CR': 0.5,\n",
       " 'c_waiting_time': 1,\n",
       " 'c_overtime': 1,\n",
       " 'historical_time_budget': 221.0,\n",
       " 'time_budget_multiplier': 2,\n",
       " 'total_time_budget': 442.0,\n",
       " 'waiting_time': 326.0,\n",
       " 'overtime': 41.0,\n",
       " 'cost': 367.0,\n",
       " 'scheduled_total_durations': 442.0,\n",
       " 'actual_total_durations': 424.0,\n",
       " 'optimization_exec_time_sec': 18.892744541168213,\n",
       " 'optimization_cpu_time_sec': 32.028778798000005,\n",
       " 'scenarios_exec_time_sec': 2.6017837524414062,\n",
       " 'scenarios_cpu_time_sec': 2.6208765570000025,\n",
       " 'weights_exec_time_sec': 0.001920461654663086,\n",
       " 'weights_cpu_time_sec': 0.002570519999991916}"
      ]
     },
     "execution_count": 146,
     "metadata": {},
     "output_type": "execute_result"
    }
   ],
   "source": [
    "result"
   ]
  },
  {
   "cell_type": "code",
   "execution_count": 147,
   "id": "ae8285a6-9a45-4cc5-9a64-399f034b12c2",
   "metadata": {},
   "outputs": [
    {
     "data": {
      "text/plain": [
       "array([  0.,  21.,  49.,  69.,  84., 121., 140., 167., 187., 207., 238.,\n",
       "       263., 281., 309., 339., 419., 442.])"
      ]
     },
     "execution_count": 147,
     "metadata": {},
     "output_type": "execute_result"
    }
   ],
   "source": [
    "schedule"
   ]
  },
  {
   "cell_type": "code",
   "execution_count": 148,
   "id": "f9e31bff-bcb0-42f8-bbb5-25f64ebb93be",
   "metadata": {},
   "outputs": [
    {
     "data": {
      "text/plain": [
       "[21.0,\n",
       " 28.0,\n",
       " 20.0,\n",
       " 15.0,\n",
       " 37.0,\n",
       " 19.0,\n",
       " 27.0,\n",
       " 20.0,\n",
       " 20.0,\n",
       " 31.0,\n",
       " 25.0,\n",
       " 18.0,\n",
       " 28.0,\n",
       " 30.0,\n",
       " 80.0,\n",
       " 23.0,\n",
       " -0.0]"
      ]
     },
     "execution_count": 148,
     "metadata": {},
     "output_type": "execute_result"
    }
   ],
   "source": [
    "times"
   ]
  },
  {
   "cell_type": "code",
   "execution_count": 163,
   "id": "4bcd8a54-dfd3-4e73-80c3-b2f068b3ba51",
   "metadata": {},
   "outputs": [
    {
     "data": {
      "text/plain": [
       "array([  0.,  20.,  47.,  74., 102., 131., 161., 190., 218., 247., 276.,\n",
       "       305., 335., 364., 392., 418., 442.])"
      ]
     },
     "execution_count": 163,
     "metadata": {},
     "output_type": "execute_result"
    }
   ],
   "source": [
    "#SAA\n",
    "schedule"
   ]
  },
  {
   "cell_type": "code",
   "execution_count": 164,
   "id": "3f81d971-42f5-49f9-b606-33401f405d38",
   "metadata": {},
   "outputs": [
    {
     "data": {
      "text/plain": [
       "[20.0,\n",
       " 27.0,\n",
       " 27.0,\n",
       " 28.0,\n",
       " 29.0,\n",
       " 30.0,\n",
       " 29.0,\n",
       " 28.0,\n",
       " 29.0,\n",
       " 29.0,\n",
       " 29.0,\n",
       " 30.0,\n",
       " 29.0,\n",
       " 28.0,\n",
       " 26.0,\n",
       " 24.0,\n",
       " -0.0]"
      ]
     },
     "execution_count": 164,
     "metadata": {},
     "output_type": "execute_result"
    }
   ],
   "source": [
    "# SAA\n",
    "times"
   ]
  },
  {
   "cell_type": "code",
   "execution_count": 78,
   "id": "4b372b89-7823-4656-9cda-5715622de2ca",
   "metadata": {},
   "outputs": [
    {
     "data": {
      "text/plain": [
       "276.25"
      ]
     },
     "execution_count": 78,
     "metadata": {},
     "output_type": "execute_result"
    }
   ],
   "source": [
    "T"
   ]
  },
  {
   "cell_type": "code",
   "execution_count": 96,
   "id": "020dad31-4a33-4d06-a735-16abbc9d4df7",
   "metadata": {},
   "outputs": [
    {
     "data": {
      "text/plain": [
       "424.0"
      ]
     },
     "execution_count": 96,
     "metadata": {},
     "output_type": "execute_result"
    }
   ],
   "source": [
    "sum(actual_duration)"
   ]
  },
  {
   "cell_type": "code",
   "execution_count": null,
   "id": "030463f5-4075-47d4-a811-11cbcc7ff25f",
   "metadata": {},
   "outputs": [],
   "source": []
  },
  {
   "cell_type": "code",
   "execution_count": null,
   "id": "666d4c70-ded3-4af7-8a35-43ce4d853ddc",
   "metadata": {},
   "outputs": [],
   "source": []
  },
  {
   "cell_type": "code",
   "execution_count": null,
   "id": "72597fb3-87f9-4ab3-bf6e-d57544c1b459",
   "metadata": {},
   "outputs": [],
   "source": []
  },
  {
   "cell_type": "code",
   "execution_count": null,
   "id": "9a85c072-992c-403d-b8af-aabab4df5cef",
   "metadata": {},
   "outputs": [],
   "source": []
  },
  {
   "cell_type": "code",
   "execution_count": 12,
   "id": "42e86413-afc4-4d70-9038-70c64c31373f",
   "metadata": {},
   "outputs": [],
   "source": [
    "# SAA\n",
    "locals().update(optimization_params)\n",
    "\n",
    "# Test dates\n",
    "dates = pd.Series(list(set(ID_data.loc[ID_data.train_test == 'test', 'date']))).sort_values()\n",
    "\n",
    "date = min(dates)\n",
    "\n",
    "results_saa = experiment.run(\n",
    "    X = np.array(X_data),\n",
    "    y = np.array(Y_data),\n",
    "    date = date,\n",
    "    dates = ID_data['date'],\n",
    "    areas = ID_data['area'],\n",
    "    weightsModel = SampleAverageApproximation(),\n",
    "    cost_params = cost_params,\n",
    "    gurobi_params = gurobi_params,\n",
    "    K = K,\n",
    "    alpha = alpha,\n",
    "    print_status = False)"
   ]
  },
  {
   "cell_type": "code",
   "execution_count": null,
   "id": "3d083c9a-0d00-4e80-93ce-d57ace03bf31",
   "metadata": {},
   "outputs": [],
   "source": []
  },
  {
   "cell_type": "code",
   "execution_count": 16,
   "id": "6be0d274-892c-492a-af9d-da3a38d98a14",
   "metadata": {},
   "outputs": [
    {
     "data": {
      "text/html": [
       "<div>\n",
       "<style scoped>\n",
       "    .dataframe tbody tr th:only-of-type {\n",
       "        vertical-align: middle;\n",
       "    }\n",
       "\n",
       "    .dataframe tbody tr th {\n",
       "        vertical-align: top;\n",
       "    }\n",
       "\n",
       "    .dataframe thead th {\n",
       "        text-align: right;\n",
       "    }\n",
       "</style>\n",
       "<table border=\"1\" class=\"dataframe\">\n",
       "  <thead>\n",
       "    <tr style=\"text-align: right;\">\n",
       "      <th></th>\n",
       "      <th>date</th>\n",
       "      <th>area</th>\n",
       "      <th>CR</th>\n",
       "      <th>n_patients</th>\n",
       "      <th>cost</th>\n",
       "      <th>overtime</th>\n",
       "      <th>waiting_time</th>\n",
       "      <th>n_patients_SAA</th>\n",
       "      <th>cost_SAA</th>\n",
       "      <th>overtime_SAA</th>\n",
       "      <th>waiting_time_SAA</th>\n",
       "    </tr>\n",
       "  </thead>\n",
       "  <tbody>\n",
       "    <tr>\n",
       "      <th>0</th>\n",
       "      <td>2019-10-23</td>\n",
       "      <td>Bereich_Koloskopie</td>\n",
       "      <td>0.10</td>\n",
       "      <td>7</td>\n",
       "      <td>141.0</td>\n",
       "      <td>9.0</td>\n",
       "      <td>60.0</td>\n",
       "      <td>7</td>\n",
       "      <td>149.0</td>\n",
       "      <td>9.0</td>\n",
       "      <td>68.0</td>\n",
       "    </tr>\n",
       "    <tr>\n",
       "      <th>1</th>\n",
       "      <td>2019-10-23</td>\n",
       "      <td>Bereich_Koloskopie</td>\n",
       "      <td>0.25</td>\n",
       "      <td>7</td>\n",
       "      <td>78.0</td>\n",
       "      <td>9.0</td>\n",
       "      <td>51.0</td>\n",
       "      <td>7</td>\n",
       "      <td>80.0</td>\n",
       "      <td>9.0</td>\n",
       "      <td>53.0</td>\n",
       "    </tr>\n",
       "    <tr>\n",
       "      <th>2</th>\n",
       "      <td>2019-10-23</td>\n",
       "      <td>Bereich_Koloskopie</td>\n",
       "      <td>0.50</td>\n",
       "      <td>7</td>\n",
       "      <td>54.0</td>\n",
       "      <td>9.0</td>\n",
       "      <td>45.0</td>\n",
       "      <td>7</td>\n",
       "      <td>52.0</td>\n",
       "      <td>9.0</td>\n",
       "      <td>43.0</td>\n",
       "    </tr>\n",
       "    <tr>\n",
       "      <th>3</th>\n",
       "      <td>2019-10-23</td>\n",
       "      <td>Bereich_Koloskopie</td>\n",
       "      <td>0.75</td>\n",
       "      <td>7</td>\n",
       "      <td>129.0</td>\n",
       "      <td>9.0</td>\n",
       "      <td>40.0</td>\n",
       "      <td>7</td>\n",
       "      <td>123.0</td>\n",
       "      <td>9.0</td>\n",
       "      <td>38.0</td>\n",
       "    </tr>\n",
       "    <tr>\n",
       "      <th>4</th>\n",
       "      <td>2019-10-23</td>\n",
       "      <td>Bereich_Koloskopie</td>\n",
       "      <td>0.90</td>\n",
       "      <td>7</td>\n",
       "      <td>351.0</td>\n",
       "      <td>9.0</td>\n",
       "      <td>38.0</td>\n",
       "      <td>7</td>\n",
       "      <td>342.0</td>\n",
       "      <td>9.0</td>\n",
       "      <td>37.0</td>\n",
       "    </tr>\n",
       "    <tr>\n",
       "      <th>5</th>\n",
       "      <td>2019-10-23</td>\n",
       "      <td>Bereich_Endosonographie</td>\n",
       "      <td>0.10</td>\n",
       "      <td>4</td>\n",
       "      <td>451.0</td>\n",
       "      <td>38.0</td>\n",
       "      <td>109.0</td>\n",
       "      <td>4</td>\n",
       "      <td>449.0</td>\n",
       "      <td>38.0</td>\n",
       "      <td>107.0</td>\n",
       "    </tr>\n",
       "    <tr>\n",
       "      <th>6</th>\n",
       "      <td>2019-10-23</td>\n",
       "      <td>Bereich_Endosonographie</td>\n",
       "      <td>0.25</td>\n",
       "      <td>4</td>\n",
       "      <td>211.0</td>\n",
       "      <td>38.0</td>\n",
       "      <td>97.0</td>\n",
       "      <td>4</td>\n",
       "      <td>213.0</td>\n",
       "      <td>38.0</td>\n",
       "      <td>99.0</td>\n",
       "    </tr>\n",
       "    <tr>\n",
       "      <th>7</th>\n",
       "      <td>2019-10-23</td>\n",
       "      <td>Bereich_Endosonographie</td>\n",
       "      <td>0.50</td>\n",
       "      <td>4</td>\n",
       "      <td>131.0</td>\n",
       "      <td>38.0</td>\n",
       "      <td>93.0</td>\n",
       "      <td>4</td>\n",
       "      <td>132.0</td>\n",
       "      <td>38.0</td>\n",
       "      <td>94.0</td>\n",
       "    </tr>\n",
       "    <tr>\n",
       "      <th>8</th>\n",
       "      <td>2019-10-23</td>\n",
       "      <td>Bereich_Endosonographie</td>\n",
       "      <td>0.75</td>\n",
       "      <td>4</td>\n",
       "      <td>305.0</td>\n",
       "      <td>38.0</td>\n",
       "      <td>89.0</td>\n",
       "      <td>4</td>\n",
       "      <td>308.0</td>\n",
       "      <td>38.0</td>\n",
       "      <td>90.0</td>\n",
       "    </tr>\n",
       "    <tr>\n",
       "      <th>9</th>\n",
       "      <td>2019-10-23</td>\n",
       "      <td>Bereich_Endosonographie</td>\n",
       "      <td>0.90</td>\n",
       "      <td>4</td>\n",
       "      <td>839.0</td>\n",
       "      <td>38.0</td>\n",
       "      <td>89.0</td>\n",
       "      <td>4</td>\n",
       "      <td>821.0</td>\n",
       "      <td>38.0</td>\n",
       "      <td>87.0</td>\n",
       "    </tr>\n",
       "    <tr>\n",
       "      <th>10</th>\n",
       "      <td>2019-10-23</td>\n",
       "      <td>Bereich_Bronchoskopie</td>\n",
       "      <td>0.10</td>\n",
       "      <td>1</td>\n",
       "      <td>576.0</td>\n",
       "      <td>64.0</td>\n",
       "      <td>0.0</td>\n",
       "      <td>1</td>\n",
       "      <td>576.0</td>\n",
       "      <td>64.0</td>\n",
       "      <td>0.0</td>\n",
       "    </tr>\n",
       "    <tr>\n",
       "      <th>11</th>\n",
       "      <td>2019-10-23</td>\n",
       "      <td>Bereich_Bronchoskopie</td>\n",
       "      <td>0.25</td>\n",
       "      <td>1</td>\n",
       "      <td>192.0</td>\n",
       "      <td>64.0</td>\n",
       "      <td>0.0</td>\n",
       "      <td>1</td>\n",
       "      <td>192.0</td>\n",
       "      <td>64.0</td>\n",
       "      <td>0.0</td>\n",
       "    </tr>\n",
       "    <tr>\n",
       "      <th>12</th>\n",
       "      <td>2019-10-23</td>\n",
       "      <td>Bereich_Bronchoskopie</td>\n",
       "      <td>0.50</td>\n",
       "      <td>1</td>\n",
       "      <td>64.0</td>\n",
       "      <td>64.0</td>\n",
       "      <td>0.0</td>\n",
       "      <td>1</td>\n",
       "      <td>64.0</td>\n",
       "      <td>64.0</td>\n",
       "      <td>0.0</td>\n",
       "    </tr>\n",
       "    <tr>\n",
       "      <th>13</th>\n",
       "      <td>2019-10-23</td>\n",
       "      <td>Bereich_Bronchoskopie</td>\n",
       "      <td>0.75</td>\n",
       "      <td>1</td>\n",
       "      <td>64.0</td>\n",
       "      <td>64.0</td>\n",
       "      <td>0.0</td>\n",
       "      <td>1</td>\n",
       "      <td>64.0</td>\n",
       "      <td>64.0</td>\n",
       "      <td>0.0</td>\n",
       "    </tr>\n",
       "    <tr>\n",
       "      <th>14</th>\n",
       "      <td>2019-10-23</td>\n",
       "      <td>Bereich_Bronchoskopie</td>\n",
       "      <td>0.90</td>\n",
       "      <td>1</td>\n",
       "      <td>64.0</td>\n",
       "      <td>64.0</td>\n",
       "      <td>0.0</td>\n",
       "      <td>1</td>\n",
       "      <td>64.0</td>\n",
       "      <td>64.0</td>\n",
       "      <td>0.0</td>\n",
       "    </tr>\n",
       "    <tr>\n",
       "      <th>15</th>\n",
       "      <td>2019-10-23</td>\n",
       "      <td>Bereich_Gastroskopie</td>\n",
       "      <td>0.10</td>\n",
       "      <td>17</td>\n",
       "      <td>2756.0</td>\n",
       "      <td>148.0</td>\n",
       "      <td>1424.0</td>\n",
       "      <td>17</td>\n",
       "      <td>2553.0</td>\n",
       "      <td>148.0</td>\n",
       "      <td>1221.0</td>\n",
       "    </tr>\n",
       "    <tr>\n",
       "      <th>16</th>\n",
       "      <td>2019-10-23</td>\n",
       "      <td>Bereich_Gastroskopie</td>\n",
       "      <td>0.25</td>\n",
       "      <td>17</td>\n",
       "      <td>1786.0</td>\n",
       "      <td>148.0</td>\n",
       "      <td>1342.0</td>\n",
       "      <td>17</td>\n",
       "      <td>1496.0</td>\n",
       "      <td>148.0</td>\n",
       "      <td>1052.0</td>\n",
       "    </tr>\n",
       "    <tr>\n",
       "      <th>17</th>\n",
       "      <td>2019-10-23</td>\n",
       "      <td>Bereich_Gastroskopie</td>\n",
       "      <td>0.50</td>\n",
       "      <td>17</td>\n",
       "      <td>1447.0</td>\n",
       "      <td>148.0</td>\n",
       "      <td>1299.0</td>\n",
       "      <td>17</td>\n",
       "      <td>1065.0</td>\n",
       "      <td>148.0</td>\n",
       "      <td>917.0</td>\n",
       "    </tr>\n",
       "    <tr>\n",
       "      <th>18</th>\n",
       "      <td>2019-10-23</td>\n",
       "      <td>Bereich_Gastroskopie</td>\n",
       "      <td>0.75</td>\n",
       "      <td>17</td>\n",
       "      <td>3913.0</td>\n",
       "      <td>148.0</td>\n",
       "      <td>1255.0</td>\n",
       "      <td>17</td>\n",
       "      <td>2767.0</td>\n",
       "      <td>148.0</td>\n",
       "      <td>873.0</td>\n",
       "    </tr>\n",
       "    <tr>\n",
       "      <th>19</th>\n",
       "      <td>2019-10-23</td>\n",
       "      <td>Bereich_Gastroskopie</td>\n",
       "      <td>0.90</td>\n",
       "      <td>17</td>\n",
       "      <td>11308.0</td>\n",
       "      <td>148.0</td>\n",
       "      <td>1240.0</td>\n",
       "      <td>17</td>\n",
       "      <td>7798.0</td>\n",
       "      <td>148.0</td>\n",
       "      <td>850.0</td>\n",
       "    </tr>\n",
       "    <tr>\n",
       "      <th>20</th>\n",
       "      <td>2019-10-23</td>\n",
       "      <td>Bereich_ERCP</td>\n",
       "      <td>0.10</td>\n",
       "      <td>1</td>\n",
       "      <td>576.0</td>\n",
       "      <td>64.0</td>\n",
       "      <td>0.0</td>\n",
       "      <td>1</td>\n",
       "      <td>576.0</td>\n",
       "      <td>64.0</td>\n",
       "      <td>0.0</td>\n",
       "    </tr>\n",
       "    <tr>\n",
       "      <th>21</th>\n",
       "      <td>2019-10-23</td>\n",
       "      <td>Bereich_ERCP</td>\n",
       "      <td>0.25</td>\n",
       "      <td>1</td>\n",
       "      <td>192.0</td>\n",
       "      <td>64.0</td>\n",
       "      <td>0.0</td>\n",
       "      <td>1</td>\n",
       "      <td>192.0</td>\n",
       "      <td>64.0</td>\n",
       "      <td>0.0</td>\n",
       "    </tr>\n",
       "    <tr>\n",
       "      <th>22</th>\n",
       "      <td>2019-10-23</td>\n",
       "      <td>Bereich_ERCP</td>\n",
       "      <td>0.50</td>\n",
       "      <td>1</td>\n",
       "      <td>64.0</td>\n",
       "      <td>64.0</td>\n",
       "      <td>0.0</td>\n",
       "      <td>1</td>\n",
       "      <td>64.0</td>\n",
       "      <td>64.0</td>\n",
       "      <td>0.0</td>\n",
       "    </tr>\n",
       "    <tr>\n",
       "      <th>23</th>\n",
       "      <td>2019-10-23</td>\n",
       "      <td>Bereich_ERCP</td>\n",
       "      <td>0.75</td>\n",
       "      <td>1</td>\n",
       "      <td>64.0</td>\n",
       "      <td>64.0</td>\n",
       "      <td>0.0</td>\n",
       "      <td>1</td>\n",
       "      <td>64.0</td>\n",
       "      <td>64.0</td>\n",
       "      <td>0.0</td>\n",
       "    </tr>\n",
       "    <tr>\n",
       "      <th>24</th>\n",
       "      <td>2019-10-23</td>\n",
       "      <td>Bereich_ERCP</td>\n",
       "      <td>0.90</td>\n",
       "      <td>1</td>\n",
       "      <td>64.0</td>\n",
       "      <td>64.0</td>\n",
       "      <td>0.0</td>\n",
       "      <td>1</td>\n",
       "      <td>64.0</td>\n",
       "      <td>64.0</td>\n",
       "      <td>0.0</td>\n",
       "    </tr>\n",
       "  </tbody>\n",
       "</table>\n",
       "</div>"
      ],
      "text/plain": [
       "          date                     area    CR  n_patients     cost  overtime  \\\n",
       "0   2019-10-23       Bereich_Koloskopie  0.10           7    141.0       9.0   \n",
       "1   2019-10-23       Bereich_Koloskopie  0.25           7     78.0       9.0   \n",
       "2   2019-10-23       Bereich_Koloskopie  0.50           7     54.0       9.0   \n",
       "3   2019-10-23       Bereich_Koloskopie  0.75           7    129.0       9.0   \n",
       "4   2019-10-23       Bereich_Koloskopie  0.90           7    351.0       9.0   \n",
       "5   2019-10-23  Bereich_Endosonographie  0.10           4    451.0      38.0   \n",
       "6   2019-10-23  Bereich_Endosonographie  0.25           4    211.0      38.0   \n",
       "7   2019-10-23  Bereich_Endosonographie  0.50           4    131.0      38.0   \n",
       "8   2019-10-23  Bereich_Endosonographie  0.75           4    305.0      38.0   \n",
       "9   2019-10-23  Bereich_Endosonographie  0.90           4    839.0      38.0   \n",
       "10  2019-10-23    Bereich_Bronchoskopie  0.10           1    576.0      64.0   \n",
       "11  2019-10-23    Bereich_Bronchoskopie  0.25           1    192.0      64.0   \n",
       "12  2019-10-23    Bereich_Bronchoskopie  0.50           1     64.0      64.0   \n",
       "13  2019-10-23    Bereich_Bronchoskopie  0.75           1     64.0      64.0   \n",
       "14  2019-10-23    Bereich_Bronchoskopie  0.90           1     64.0      64.0   \n",
       "15  2019-10-23     Bereich_Gastroskopie  0.10          17   2756.0     148.0   \n",
       "16  2019-10-23     Bereich_Gastroskopie  0.25          17   1786.0     148.0   \n",
       "17  2019-10-23     Bereich_Gastroskopie  0.50          17   1447.0     148.0   \n",
       "18  2019-10-23     Bereich_Gastroskopie  0.75          17   3913.0     148.0   \n",
       "19  2019-10-23     Bereich_Gastroskopie  0.90          17  11308.0     148.0   \n",
       "20  2019-10-23             Bereich_ERCP  0.10           1    576.0      64.0   \n",
       "21  2019-10-23             Bereich_ERCP  0.25           1    192.0      64.0   \n",
       "22  2019-10-23             Bereich_ERCP  0.50           1     64.0      64.0   \n",
       "23  2019-10-23             Bereich_ERCP  0.75           1     64.0      64.0   \n",
       "24  2019-10-23             Bereich_ERCP  0.90           1     64.0      64.0   \n",
       "\n",
       "    waiting_time  n_patients_SAA  cost_SAA  overtime_SAA  waiting_time_SAA  \n",
       "0           60.0               7     149.0           9.0              68.0  \n",
       "1           51.0               7      80.0           9.0              53.0  \n",
       "2           45.0               7      52.0           9.0              43.0  \n",
       "3           40.0               7     123.0           9.0              38.0  \n",
       "4           38.0               7     342.0           9.0              37.0  \n",
       "5          109.0               4     449.0          38.0             107.0  \n",
       "6           97.0               4     213.0          38.0              99.0  \n",
       "7           93.0               4     132.0          38.0              94.0  \n",
       "8           89.0               4     308.0          38.0              90.0  \n",
       "9           89.0               4     821.0          38.0              87.0  \n",
       "10           0.0               1     576.0          64.0               0.0  \n",
       "11           0.0               1     192.0          64.0               0.0  \n",
       "12           0.0               1      64.0          64.0               0.0  \n",
       "13           0.0               1      64.0          64.0               0.0  \n",
       "14           0.0               1      64.0          64.0               0.0  \n",
       "15        1424.0              17    2553.0         148.0            1221.0  \n",
       "16        1342.0              17    1496.0         148.0            1052.0  \n",
       "17        1299.0              17    1065.0         148.0             917.0  \n",
       "18        1255.0              17    2767.0         148.0             873.0  \n",
       "19        1240.0              17    7798.0         148.0             850.0  \n",
       "20           0.0               1     576.0          64.0               0.0  \n",
       "21           0.0               1     192.0          64.0               0.0  \n",
       "22           0.0               1      64.0          64.0               0.0  \n",
       "23           0.0               1      64.0          64.0               0.0  \n",
       "24           0.0               1      64.0          64.0               0.0  "
      ]
     },
     "execution_count": 16,
     "metadata": {},
     "output_type": "execute_result"
    }
   ],
   "source": [
    "pd.merge(\n",
    "    left=results[['date', 'area', 'CR', 'n_patients', 'cost', 'overtime', 'waiting_time']],\n",
    "    right=results_saa[['date', 'area', 'CR', 'n_patients', 'cost', 'overtime', 'waiting_time']],\n",
    "    on=['date', 'area', 'CR'],\n",
    "    suffixes=('', '_SAA')\n",
    ")"
   ]
  },
  {
   "cell_type": "code",
   "execution_count": null,
   "id": "a1058120-4e91-4ff6-96d0-85f1af12a676",
   "metadata": {},
   "outputs": [],
   "source": []
  },
  {
   "cell_type": "code",
   "execution_count": null,
   "id": "fa60f498-120e-4410-a9b0-3ba7816eae7a",
   "metadata": {},
   "outputs": [],
   "source": []
  }
 ],
 "metadata": {
  "kernelspec": {
   "display_name": "dddex",
   "language": "python",
   "name": "dddex"
  },
  "language_info": {
   "codemirror_mode": {
    "name": "ipython",
    "version": 3
   },
   "file_extension": ".py",
   "mimetype": "text/x-python",
   "name": "python",
   "nbconvert_exporter": "python",
   "pygments_lexer": "ipython3",
   "version": "3.8.16"
  }
 },
 "nbformat": 4,
 "nbformat_minor": 5
}
