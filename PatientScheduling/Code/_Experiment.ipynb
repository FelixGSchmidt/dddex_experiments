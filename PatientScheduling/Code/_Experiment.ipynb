{
 "cells": [
  {
   "cell_type": "markdown",
   "id": "31d7bc07-6fe5-4427-9498-d9dd36cdcf9c",
   "metadata": {},
   "source": [
    "# Init"
   ]
  },
  {
   "cell_type": "code",
   "execution_count": 1,
   "id": "f3b6ee14-d0ab-47a7-ad24-ee4018560cee",
   "metadata": {},
   "outputs": [],
   "source": [
    "# Import utils\n",
    "import numpy as np\n",
    "import pandas as pd\n",
    "import math\n",
    "import time\n",
    "import json\n",
    "import pyreadr\n",
    "import pickle\n",
    "from joblib import dump, load\n",
    "import os\n",
    "import copy\n",
    "import datetime\n",
    "\n",
    "\n",
    "# Import Gurobi\n",
    "import gurobipy as gp\n",
    "from gurobipy import GRB\n",
    "\n",
    "# Optimization Module\n",
    "from DataDrivenPatientScheduling import PatientScheduling"
   ]
  },
  {
   "cell_type": "markdown",
   "id": "62b364b3-8ec8-4a61-b538-0c52c6db182c",
   "metadata": {},
   "source": [
    "# Preprocessing"
   ]
  },
  {
   "cell_type": "code",
   "execution_count": null,
   "id": "2cd4edd3-2d67-4170-9253-549295e61ac3",
   "metadata": {},
   "outputs": [],
   "source": []
  },
  {
   "cell_type": "code",
   "execution_count": null,
   "id": "1279ee57-be11-4757-983d-fe525273145b",
   "metadata": {},
   "outputs": [],
   "source": []
  },
  {
   "cell_type": "code",
   "execution_count": null,
   "id": "60a48b89-e5d1-45b5-acd3-44fd4bdcb1db",
   "metadata": {},
   "outputs": [],
   "source": []
  },
  {
   "cell_type": "code",
   "execution_count": null,
   "id": "5ba63ebf-5ecb-424d-bc74-955c2a17027e",
   "metadata": {},
   "outputs": [],
   "source": []
  },
  {
   "cell_type": "markdown",
   "id": "3fc36fad-fc96-4d88-a33b-c790ed53ddcf",
   "metadata": {},
   "source": []
  },
  {
   "cell_type": "code",
   "execution_count": null,
   "id": "2bfab34e-5e70-43b5-b85f-e9d5dd9a62ce",
   "metadata": {},
   "outputs": [],
   "source": []
  },
  {
   "cell_type": "markdown",
   "id": "c5b15c22-7384-4671-b681-bd73ccd6dc0a",
   "metadata": {},
   "source": [
    "# Conditional scenario sampling based on weights"
   ]
  },
  {
   "cell_type": "markdown",
   "id": "63d75412-5d55-4f99-aa26-84bc74ec3d7b",
   "metadata": {},
   "source": [
    "For each patient $j=1,...,M$ for the current day $t$, we have $N_t$ historical samples. Given patient $j$ and the associated feature vector $\\boldsymbol{x}_{j,t}$, we have $N_t$ weights for these samples. With this, we have an approximation of the empirical probability distribution of surgery duration. We use the approximated distribution to draw $K$ scenarios for each patient $j=1,...,M$."
   ]
  },
  {
   "cell_type": "code",
   "execution_count": 2,
   "id": "3b799a93-e654-4ab3-90be-0864429aca8f",
   "metadata": {},
   "outputs": [],
   "source": [
    "M = 10\n",
    "N = 250\n",
    "K = 10**5\n",
    "\n",
    "# Dummy samples (to be replaced)\n",
    "samples = np.random.rand(M, N) * 48\n",
    "\n",
    "# Dummy weights (to be replaced)\n",
    "weights = np.random.rand(M, N)\n",
    "weights = (1 / np.sum(weights, axis=1)).reshape(-1,1) * weights"
   ]
  },
  {
   "cell_type": "code",
   "execution_count": 3,
   "id": "18e0ae39-e17e-4a5e-b76c-75ef26212cfd",
   "metadata": {},
   "outputs": [],
   "source": [
    "# Draw\n",
    "scenarios = []\n",
    "for k in range(K):    \n",
    "    scenario = []\n",
    "    for j in range(M):\n",
    "        scenario += [np.random.choice(samples[j,].flatten(), p=weights[j,].flatten())]\n",
    "        \n",
    "    scenarios += [scenario]"
   ]
  },
  {
   "cell_type": "code",
   "execution_count": 4,
   "id": "2bb986e2-aab4-47c1-8607-4ce276b8a10d",
   "metadata": {},
   "outputs": [
    {
     "data": {
      "text/plain": [
       "(100000, 10)"
      ]
     },
     "execution_count": 4,
     "metadata": {},
     "output_type": "execute_result"
    }
   ],
   "source": [
    "scenarios = np.array(scenarios)\n",
    "scenarios.shape"
   ]
  },
  {
   "cell_type": "code",
   "execution_count": null,
   "id": "02a7d95e-3dd4-4677-bfcc-24438b7b6b05",
   "metadata": {},
   "outputs": [],
   "source": []
  },
  {
   "cell_type": "code",
   "execution_count": null,
   "id": "9a901851-d971-4f1f-b173-cbdb8bf9d9da",
   "metadata": {},
   "outputs": [],
   "source": []
  },
  {
   "cell_type": "code",
   "execution_count": 5,
   "id": "6d6ba864-fff7-47e2-aa05-1f5a2f4beb98",
   "metadata": {},
   "outputs": [],
   "source": [
    "# Initialize model\n",
    "ddps = PatientScheduling(c_waitingtime=1, c_overtime=1, T=600)"
   ]
  },
  {
   "cell_type": "code",
   "execution_count": 6,
   "id": "81b5d6f8-7e54-4758-aec4-b3175a699c61",
   "metadata": {},
   "outputs": [
    {
     "name": "stdout",
     "output_type": "stream",
     "text": [
      "Set parameter Username\n",
      "Academic license - for non-commercial use only - expires 2023-12-04\n"
     ]
    }
   ],
   "source": [
    "# Set up model with scenarios\n",
    "ddps.create(z=scenarios)"
   ]
  },
  {
   "cell_type": "code",
   "execution_count": 7,
   "id": "bd7b2e83-a6ee-4dd4-be0c-bc0e94ce46fb",
   "metadata": {},
   "outputs": [
    {
     "name": "stdout",
     "output_type": "stream",
     "text": [
      "Set parameter Threads to value 32\n",
      "Gurobi Optimizer version 10.0.0 build v10.0.0rc2 (linux64)\n",
      "\n",
      "CPU model: AMD EPYC 7713P 64-Core Processor, instruction set [SSE2|AVX|AVX2]\n",
      "Thread count: 64 physical cores, 128 logical processors, using up to 32 threads\n",
      "\n",
      "Optimize a model with 1000001 rows, 1100010 columns and 3000010 nonzeros\n",
      "Model fingerprint: 0xe2ac39c4\n",
      "Variable types: 0 continuous, 1100010 integer (0 binary)\n",
      "Coefficient statistics:\n",
      "  Matrix range     [1e+00, 1e+00]\n",
      "  Objective range  [1e-05, 1e-05]\n",
      "  Bounds range     [0e+00, 0e+00]\n",
      "  RHS range        [6e-03, 6e+02]\n",
      "Found heuristic solution: objective 120.2667800\n",
      "Presolve removed 100000 rows and 200001 columns\n",
      "Presolve time: 4.80s\n",
      "Presolved: 900001 rows, 900009 columns, 2600009 nonzeros\n",
      "Variable types: 0 continuous, 900009 integer (1322 binary)\n",
      "Deterministic concurrent LP optimizer: primal simplex, dual simplex, and barrier\n",
      "Showing barrier log only...\n",
      "\n",
      "Root barrier log...\n",
      "\n",
      "Ordering time: 1.92s\n",
      "\n",
      "Barrier statistics:\n",
      " Dense cols : 9\n",
      " AA' NZ     : 1.700e+06\n",
      " Factor NZ  : 1.260e+07 (roughly 800 MB of memory)\n",
      " Factor Ops : 1.824e+08 (less than 1 second per iteration)\n",
      " Threads    : 30\n",
      "\n",
      "                  Objective                Residual\n",
      "Iter       Primal          Dual         Primal    Dual     Compl     Time\n",
      "   0   2.16859474e+03 -1.35729336e+06  1.74e+02 6.53e-18  2.65e+00    12s\n",
      "   1   7.90643315e+02 -9.62797251e+05  2.68e+00 1.31e-02  3.74e-01    13s\n",
      "\n",
      "Barrier performed 1 iterations in 12.73 seconds (9.70 work units)\n",
      "Barrier solve interrupted - model solved by another algorithm\n",
      "\n",
      "Concurrent spin time: 2.51s (can be avoided by choosing Method=3)\n",
      "\n",
      "Solved with dual simplex\n",
      "\n",
      "Root relaxation: objective 2.419905e+01, 8 iterations, 5.75 seconds (1.79 work units)\n",
      "\n",
      "    Nodes    |    Current Node    |     Objective Bounds      |     Work\n",
      " Expl Unexpl |  Obj  Depth IntInf | Incumbent    BestBd   Gap | It/Node Time\n",
      "\n",
      "*    0     0               0      24.1990500   24.19905  0.00%     -   12s\n",
      "\n",
      "Explored 1 nodes (8 simplex iterations) in 12.90 seconds (9.75 work units)\n",
      "Thread count was 32 (of 128 available processors)\n",
      "\n",
      "Solution count 2: 24.199 120.267 \n",
      "\n",
      "Optimal solution found (tolerance 1.00e-04)\n",
      "Best objective 2.419905000000e+01, best bound 2.419905000000e+01, gap 0.0000%\n"
     ]
    }
   ],
   "source": [
    "# Solve\n",
    "result = ddps.optimize(LogToConsole=1, Threads=32)"
   ]
  },
  {
   "cell_type": "code",
   "execution_count": 9,
   "id": "a886a117-ec07-47de-8c22-b1c476f03824",
   "metadata": {},
   "outputs": [],
   "source": [
    "# Apply schedule\n",
    "schedule, times, status, solutions, gap = result"
   ]
  },
  {
   "cell_type": "code",
   "execution_count": 10,
   "id": "047f8399-fcde-4d46-9ed6-563d324b5bf5",
   "metadata": {},
   "outputs": [
    {
     "data": {
      "text/plain": [
       "array([  0., 216., 264., 312., 360., 408., 456., 504., 552., 600.])"
      ]
     },
     "execution_count": 10,
     "metadata": {},
     "output_type": "execute_result"
    }
   ],
   "source": [
    "schedule"
   ]
  },
  {
   "cell_type": "code",
   "execution_count": null,
   "id": "837d3d3f-0569-4164-a15d-77fcf40a72fc",
   "metadata": {},
   "outputs": [],
   "source": []
  },
  {
   "cell_type": "code",
   "execution_count": null,
   "id": "f9130ac5-da60-4bc6-9491-0372da94fcac",
   "metadata": {},
   "outputs": [],
   "source": []
  },
  {
   "cell_type": "code",
   "execution_count": null,
   "id": "7a4d0a2e-5cb1-4da5-ba8a-4c2a12a5e2bb",
   "metadata": {},
   "outputs": [],
   "source": []
  },
  {
   "cell_type": "code",
   "execution_count": null,
   "id": "6892c7db-e848-4c32-9418-78b3ee21c936",
   "metadata": {},
   "outputs": [],
   "source": []
  },
  {
   "cell_type": "code",
   "execution_count": null,
   "id": "37f44daa-34ce-40d5-927d-90b810625b03",
   "metadata": {},
   "outputs": [],
   "source": []
  },
  {
   "cell_type": "code",
   "execution_count": null,
   "id": "1148246f-6fb5-4963-a16e-457a10f9c2e0",
   "metadata": {},
   "outputs": [],
   "source": []
  },
  {
   "cell_type": "code",
   "execution_count": null,
   "id": "3169ed89-5672-4f0f-8acc-81ea94a8c3e6",
   "metadata": {},
   "outputs": [],
   "source": []
  },
  {
   "cell_type": "code",
   "execution_count": null,
   "id": "7dfcfb77-1e45-4d2f-ab8e-83d52ced82af",
   "metadata": {},
   "outputs": [],
   "source": []
  }
 ],
 "metadata": {
  "kernelspec": {
   "display_name": "dddex",
   "language": "python",
   "name": "dddex"
  },
  "language_info": {
   "codemirror_mode": {
    "name": "ipython",
    "version": 3
   },
   "file_extension": ".py",
   "mimetype": "text/x-python",
   "name": "python",
   "nbconvert_exporter": "python",
   "pygments_lexer": "ipython3",
   "version": "3.8.16"
  }
 },
 "nbformat": 4,
 "nbformat_minor": 5
}
