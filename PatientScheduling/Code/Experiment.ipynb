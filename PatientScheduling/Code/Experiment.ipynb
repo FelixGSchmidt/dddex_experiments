{
 "cells": [
  {
   "cell_type": "code",
   "execution_count": 107,
   "id": "f3b6ee14-d0ab-47a7-ad24-ee4018560cee",
   "metadata": {},
   "outputs": [],
   "source": [
    "# Import utils\n",
    "import numpy as np\n",
    "import pandas as pd\n",
    "import math\n",
    "import time\n",
    "import json\n",
    "import pyreadr\n",
    "import pickle\n",
    "from joblib import dump, load\n",
    "import os\n",
    "import copy\n",
    "import datetime\n",
    "\n",
    "\n",
    "# Import Gurobi\n",
    "import gurobipy as gp\n",
    "from gurobipy import GRB"
   ]
  },
  {
   "cell_type": "markdown",
   "id": "8c95c5ad-d613-4a25-a0f4-7580a1d5c94e",
   "metadata": {},
   "source": [
    "# Optimization"
   ]
  },
  {
   "cell_type": "code",
   "execution_count": 80,
   "id": "758ad701-d14c-41ef-bcac-15fc97d61050",
   "metadata": {},
   "outputs": [],
   "source": [
    "n_patients = 10\n",
    "n_samples = 10000\n",
    "c_w = 1\n",
    "c_l = 2\n",
    "T = 8 * 60"
   ]
  },
  {
   "cell_type": "code",
   "execution_count": 81,
   "id": "c513c4da-6bdf-4c2e-87fc-562f546b0777",
   "metadata": {},
   "outputs": [],
   "source": [
    "z = np.array([np.array([100 for s in range(n_samples)]) for i in range(n_patients)])"
   ]
  },
  {
   "cell_type": "code",
   "execution_count": 82,
   "id": "3c8bc0de-0ef0-4a43-83ee-1058a8f8a078",
   "metadata": {},
   "outputs": [],
   "source": [
    "# Model\n",
    "m = gp.Model()"
   ]
  },
  {
   "cell_type": "code",
   "execution_count": 83,
   "id": "5f46b790-d312-45b5-a57c-0a018a9bf064",
   "metadata": {},
   "outputs": [],
   "source": [
    "# Primary decision variable\n",
    "x = m.addVars(n_patients, vtype='I', lb=0, name='x')\n",
    "\n",
    "# Auxiary decision variable (waiting time)\n",
    "w = m.addVars(n_patients, n_samples, vtype='I', lb=0, name='w')        \n",
    "\n",
    "# Auxiary decision variable (overtime)\n",
    "l = m.addVars(n_samples, vtype='I', lb=0, name='l') "
   ]
  },
  {
   "cell_type": "code",
   "execution_count": 84,
   "id": "1a5b8e2b-0488-4f39-8413-ee07b6be95b1",
   "metadata": {},
   "outputs": [],
   "source": [
    "# Constraints\n",
    "C1 = m.addConstrs(\n",
    "    \n",
    "    w[i,s] + z[i,s] - x[i] <= w[i+1,s]\n",
    "    \n",
    "    for i in range(n_patients-1)\n",
    "    for s in range(n_samples)\n",
    "\n",
    ")  \n",
    "\n",
    "C2 = m.addConstrs(\n",
    "    \n",
    "    w[n_patients-1,s] + z[n_patients-1,s] + x[n_patients-1] <= l[s]\n",
    "    \n",
    "    for s in range(n_samples)\n",
    "\n",
    ")    \n",
    "\n",
    "C3 = m.addConstr(\n",
    "    \n",
    "    gp.quicksum(x[i] for i in range(n_patients)) <= T\n",
    "\n",
    ")    "
   ]
  },
  {
   "cell_type": "code",
   "execution_count": 85,
   "id": "90489f81-04f3-4838-8086-18d2a43cc2d7",
   "metadata": {},
   "outputs": [],
   "source": [
    "# Objective \n",
    "OBJ = m.setObjective(\n",
    "\n",
    "    # Weighted sum\n",
    "    gp.quicksum(\n",
    "        \n",
    "        1/n_samples * (                                         \n",
    "\n",
    "            # Waiting time\n",
    "            c_w * gp.quicksum(w[i,s] for i in range(1, n_patients)) + \n",
    "\n",
    "            # Overtime\n",
    "            c_l * l[s]\n",
    "\n",
    "\n",
    "        ) for s in range(n_samples)),        \n",
    "\n",
    "    # min\n",
    "    GRB.MINIMIZE\n",
    ")"
   ]
  },
  {
   "cell_type": "code",
   "execution_count": 86,
   "id": "1057cdfe-18fe-44ea-b71a-f636c907dd73",
   "metadata": {},
   "outputs": [
    {
     "name": "stdout",
     "output_type": "stream",
     "text": [
      "Gurobi Optimizer version 10.0.0 build v10.0.0rc2 (linux64)\n",
      "\n",
      "CPU model: AMD EPYC 7713P 64-Core Processor, instruction set [SSE2|AVX|AVX2]\n",
      "Thread count: 64 physical cores, 128 logical processors, using up to 32 threads\n",
      "\n",
      "Optimize a model with 100001 rows, 110010 columns and 300010 nonzeros\n",
      "Model fingerprint: 0x0bf2d367\n",
      "Variable types: 0 continuous, 110010 integer (0 binary)\n",
      "Coefficient statistics:\n",
      "  Matrix range     [1e+00, 1e+00]\n",
      "  Objective range  [1e-04, 2e-04]\n",
      "  Bounds range     [0e+00, 0e+00]\n",
      "  RHS range        [1e+02, 5e+02]\n",
      "Presolve removed 99992 rows and 109993 columns\n",
      "Presolve time: 0.20s\n",
      "Presolved: 9 rows, 17 columns, 33 nonzeros\n",
      "Variable types: 0 continuous, 17 integer (0 binary)\n",
      "Found heuristic solution: objective 3599.0000000\n",
      "\n",
      "Root relaxation: objective 2.140000e+03, 12 iterations, 0.00 seconds (0.00 work units)\n",
      "\n",
      "    Nodes    |    Current Node    |     Objective Bounds      |     Work\n",
      " Expl Unexpl |  Obj  Depth IntInf | Incumbent    BestBd   Gap | It/Node Time\n",
      "\n",
      "*    0     0               0    2140.0000000 2140.00000  0.00%     -    0s\n",
      "\n",
      "Explored 1 nodes (12 simplex iterations) in 0.24 seconds (0.37 work units)\n",
      "Thread count was 32 (of 128 available processors)\n",
      "\n",
      "Solution count 2: 2140 3599 \n",
      "\n",
      "Optimal solution found (tolerance 1.00e-04)\n",
      "Best objective 2.140000000000e+03, best bound 2.140000000000e+03, gap 0.0000%\n"
     ]
    }
   ],
   "source": [
    "# Optimize\n",
    "m.optimize()          "
   ]
  },
  {
   "cell_type": "code",
   "execution_count": 87,
   "id": "fc3700f9-9d24-4252-a8a2-d2ba246fa900",
   "metadata": {},
   "outputs": [
    {
     "data": {
      "text/plain": [
       "<gurobi.Model MIP instance Unnamed: 100001 constrs, 110010 vars, Parameter changes: Username=(user-defined)>"
      ]
     },
     "execution_count": 87,
     "metadata": {},
     "output_type": "execute_result"
    }
   ],
   "source": [
    "m"
   ]
  },
  {
   "cell_type": "code",
   "execution_count": 90,
   "id": "2aa448ad-db1d-4ab1-aaa8-00e32920b80f",
   "metadata": {},
   "outputs": [],
   "source": [
    "# Results\n",
    "v_opt = m.objVal\n",
    "x_hats = [var.xn for var in m.getVars() if 'x' in var.VarName]"
   ]
  },
  {
   "cell_type": "code",
   "execution_count": 91,
   "id": "a80a7103-62f4-4ba1-b536-26f8a3ca3028",
   "metadata": {},
   "outputs": [
    {
     "data": {
      "text/plain": [
       "[100.0, 100.0, 100.0, 100.0, 80.0, -0.0, -0.0, -0.0, -0.0, -0.0]"
      ]
     },
     "execution_count": 91,
     "metadata": {},
     "output_type": "execute_result"
    }
   ],
   "source": [
    "x_hats"
   ]
  },
  {
   "cell_type": "code",
   "execution_count": null,
   "id": "c5179a40-5619-4ab4-acfb-04cf1a38705d",
   "metadata": {},
   "outputs": [],
   "source": []
  },
  {
   "cell_type": "code",
   "execution_count": null,
   "id": "412d1b93-db98-4715-a524-1133a693c3e8",
   "metadata": {},
   "outputs": [],
   "source": []
  },
  {
   "cell_type": "code",
   "execution_count": null,
   "id": "86d20f54-2ada-4c64-8210-cb6b23ce62e9",
   "metadata": {},
   "outputs": [],
   "source": []
  },
  {
   "cell_type": "code",
   "execution_count": null,
   "id": "d8e66086-a858-47dd-819c-26a9a4b5d7b5",
   "metadata": {},
   "outputs": [],
   "source": [
    "## How to use wSAA? \n",
    "\n",
    "\"\"\"\n",
    "\n",
    "Each patient's scenario has a different weight, i.e., we need to 'multiply' over patients in \"AND\" logic ...\n",
    "\n",
    "However, would we then need the actual permutation of all possible patient-scenarios?\n",
    "\n",
    "In the paper they 'draw' from the joint distribution ...\n",
    "\n",
    "\"\"\""
   ]
  },
  {
   "cell_type": "code",
   "execution_count": null,
   "id": "f1601ceb-62ee-48da-80ae-9530c7b5655b",
   "metadata": {},
   "outputs": [],
   "source": []
  },
  {
   "cell_type": "markdown",
   "id": "62b364b3-8ec8-4a61-b538-0c52c6db182c",
   "metadata": {},
   "source": [
    "# Preprocessing"
   ]
  },
  {
   "cell_type": "code",
   "execution_count": 99,
   "id": "8aa2bffa-3327-4ea6-8980-954fda834df1",
   "metadata": {},
   "outputs": [
    {
     "data": {
      "text/html": [
       "<div>\n",
       "<style scoped>\n",
       "    .dataframe tbody tr th:only-of-type {\n",
       "        vertical-align: middle;\n",
       "    }\n",
       "\n",
       "    .dataframe tbody tr th {\n",
       "        vertical-align: top;\n",
       "    }\n",
       "\n",
       "    .dataframe thead th {\n",
       "        text-align: right;\n",
       "    }\n",
       "</style>\n",
       "<table border=\"1\" class=\"dataframe\">\n",
       "  <thead>\n",
       "    <tr style=\"text-align: right;\">\n",
       "      <th></th>\n",
       "      <th>Unnamed: 0</th>\n",
       "      <th>Datum</th>\n",
       "      <th>patient_id</th>\n",
       "      <th>Dauer</th>\n",
       "      <th>Alter</th>\n",
       "      <th>Geschlecht</th>\n",
       "      <th>Notfall</th>\n",
       "      <th>Aufenthalt</th>\n",
       "      <th>ASA</th>\n",
       "      <th>Bereich_Bronchoskopie</th>\n",
       "      <th>...</th>\n",
       "      <th>ÖGD180</th>\n",
       "      <th>ÖGD190</th>\n",
       "      <th>ÖGD200</th>\n",
       "      <th>ÖGD210</th>\n",
       "      <th>ÖGD220</th>\n",
       "      <th>ÖGD230</th>\n",
       "      <th>ÖGD240</th>\n",
       "      <th>ÖGD250</th>\n",
       "      <th>KOLO150</th>\n",
       "      <th>KW</th>\n",
       "    </tr>\n",
       "  </thead>\n",
       "  <tbody>\n",
       "    <tr>\n",
       "      <th>0</th>\n",
       "      <td>0</td>\n",
       "      <td>01.01.19</td>\n",
       "      <td>0</td>\n",
       "      <td>64.0</td>\n",
       "      <td>70</td>\n",
       "      <td>1</td>\n",
       "      <td>0</td>\n",
       "      <td>1</td>\n",
       "      <td>1</td>\n",
       "      <td>0</td>\n",
       "      <td>...</td>\n",
       "      <td>0</td>\n",
       "      <td>0</td>\n",
       "      <td>0</td>\n",
       "      <td>0</td>\n",
       "      <td>0</td>\n",
       "      <td>0</td>\n",
       "      <td>1</td>\n",
       "      <td>0</td>\n",
       "      <td>0</td>\n",
       "      <td>1.0</td>\n",
       "    </tr>\n",
       "    <tr>\n",
       "      <th>1</th>\n",
       "      <td>1</td>\n",
       "      <td>01.01.19</td>\n",
       "      <td>1</td>\n",
       "      <td>27.0</td>\n",
       "      <td>26</td>\n",
       "      <td>1</td>\n",
       "      <td>0</td>\n",
       "      <td>1</td>\n",
       "      <td>1</td>\n",
       "      <td>0</td>\n",
       "      <td>...</td>\n",
       "      <td>0</td>\n",
       "      <td>0</td>\n",
       "      <td>0</td>\n",
       "      <td>0</td>\n",
       "      <td>0</td>\n",
       "      <td>0</td>\n",
       "      <td>0</td>\n",
       "      <td>0</td>\n",
       "      <td>0</td>\n",
       "      <td>1.0</td>\n",
       "    </tr>\n",
       "    <tr>\n",
       "      <th>2</th>\n",
       "      <td>2</td>\n",
       "      <td>01.01.19</td>\n",
       "      <td>2</td>\n",
       "      <td>13.0</td>\n",
       "      <td>82</td>\n",
       "      <td>1</td>\n",
       "      <td>0</td>\n",
       "      <td>1</td>\n",
       "      <td>1</td>\n",
       "      <td>0</td>\n",
       "      <td>...</td>\n",
       "      <td>0</td>\n",
       "      <td>0</td>\n",
       "      <td>0</td>\n",
       "      <td>0</td>\n",
       "      <td>0</td>\n",
       "      <td>0</td>\n",
       "      <td>0</td>\n",
       "      <td>0</td>\n",
       "      <td>0</td>\n",
       "      <td>1.0</td>\n",
       "    </tr>\n",
       "    <tr>\n",
       "      <th>3</th>\n",
       "      <td>3</td>\n",
       "      <td>01.01.19</td>\n",
       "      <td>3</td>\n",
       "      <td>19.0</td>\n",
       "      <td>67</td>\n",
       "      <td>1</td>\n",
       "      <td>0</td>\n",
       "      <td>1</td>\n",
       "      <td>1</td>\n",
       "      <td>0</td>\n",
       "      <td>...</td>\n",
       "      <td>0</td>\n",
       "      <td>0</td>\n",
       "      <td>0</td>\n",
       "      <td>0</td>\n",
       "      <td>0</td>\n",
       "      <td>0</td>\n",
       "      <td>0</td>\n",
       "      <td>0</td>\n",
       "      <td>0</td>\n",
       "      <td>1.0</td>\n",
       "    </tr>\n",
       "    <tr>\n",
       "      <th>4</th>\n",
       "      <td>4</td>\n",
       "      <td>01.01.19</td>\n",
       "      <td>4</td>\n",
       "      <td>9.0</td>\n",
       "      <td>79</td>\n",
       "      <td>1</td>\n",
       "      <td>0</td>\n",
       "      <td>1</td>\n",
       "      <td>1</td>\n",
       "      <td>0</td>\n",
       "      <td>...</td>\n",
       "      <td>0</td>\n",
       "      <td>0</td>\n",
       "      <td>0</td>\n",
       "      <td>0</td>\n",
       "      <td>0</td>\n",
       "      <td>0</td>\n",
       "      <td>0</td>\n",
       "      <td>0</td>\n",
       "      <td>0</td>\n",
       "      <td>1.0</td>\n",
       "    </tr>\n",
       "  </tbody>\n",
       "</table>\n",
       "<p>5 rows × 178 columns</p>\n",
       "</div>"
      ],
      "text/plain": [
       "   Unnamed: 0     Datum  patient_id  Dauer  Alter  Geschlecht  Notfall  \\\n",
       "0           0  01.01.19           0   64.0     70           1        0   \n",
       "1           1  01.01.19           1   27.0     26           1        0   \n",
       "2           2  01.01.19           2   13.0     82           1        0   \n",
       "3           3  01.01.19           3   19.0     67           1        0   \n",
       "4           4  01.01.19           4    9.0     79           1        0   \n",
       "\n",
       "   Aufenthalt  ASA  Bereich_Bronchoskopie  ...  ÖGD180  ÖGD190  ÖGD200  \\\n",
       "0           1    1                      0  ...       0       0       0   \n",
       "1           1    1                      0  ...       0       0       0   \n",
       "2           1    1                      0  ...       0       0       0   \n",
       "3           1    1                      0  ...       0       0       0   \n",
       "4           1    1                      0  ...       0       0       0   \n",
       "\n",
       "   ÖGD210  ÖGD220  ÖGD230  ÖGD240  ÖGD250  KOLO150   KW  \n",
       "0       0       0       0       1       0        0  1.0  \n",
       "1       0       0       0       0       0        0  1.0  \n",
       "2       0       0       0       0       0        0  1.0  \n",
       "3       0       0       0       0       0        0  1.0  \n",
       "4       0       0       0       0       0        0  1.0  \n",
       "\n",
       "[5 rows x 178 columns]"
      ]
     },
     "execution_count": 99,
     "metadata": {},
     "output_type": "execute_result"
    }
   ],
   "source": [
    "data = pd.read_csv('/home/fesc/dddex/PatientScheduling/Data/dataHCScheduling.csv')\n",
    "data.head(5)"
   ]
  },
  {
   "cell_type": "code",
   "execution_count": 95,
   "id": "a5171e36-b716-4979-994e-7d85a354d5c2",
   "metadata": {},
   "outputs": [
    {
     "data": {
      "text/html": [
       "<div>\n",
       "<style scoped>\n",
       "    .dataframe tbody tr th:only-of-type {\n",
       "        vertical-align: middle;\n",
       "    }\n",
       "\n",
       "    .dataframe tbody tr th {\n",
       "        vertical-align: top;\n",
       "    }\n",
       "\n",
       "    .dataframe thead th {\n",
       "        text-align: right;\n",
       "    }\n",
       "</style>\n",
       "<table border=\"1\" class=\"dataframe\">\n",
       "  <thead>\n",
       "    <tr style=\"text-align: right;\">\n",
       "      <th></th>\n",
       "      <th>Datum</th>\n",
       "      <th>patient_id</th>\n",
       "    </tr>\n",
       "  </thead>\n",
       "  <tbody>\n",
       "    <tr>\n",
       "      <th>0</th>\n",
       "      <td>01.01.19</td>\n",
       "      <td>63</td>\n",
       "    </tr>\n",
       "    <tr>\n",
       "      <th>1</th>\n",
       "      <td>01.02.19</td>\n",
       "      <td>31</td>\n",
       "    </tr>\n",
       "    <tr>\n",
       "      <th>2</th>\n",
       "      <td>01.03.19</td>\n",
       "      <td>32</td>\n",
       "    </tr>\n",
       "    <tr>\n",
       "      <th>3</th>\n",
       "      <td>01.04.19</td>\n",
       "      <td>36</td>\n",
       "    </tr>\n",
       "    <tr>\n",
       "      <th>4</th>\n",
       "      <td>01.06.19</td>\n",
       "      <td>1</td>\n",
       "    </tr>\n",
       "    <tr>\n",
       "      <th>...</th>\n",
       "      <td>...</td>\n",
       "      <td>...</td>\n",
       "    </tr>\n",
       "    <tr>\n",
       "      <th>313</th>\n",
       "      <td>31.03.19</td>\n",
       "      <td>2</td>\n",
       "    </tr>\n",
       "    <tr>\n",
       "      <th>314</th>\n",
       "      <td>31.05.19</td>\n",
       "      <td>17</td>\n",
       "    </tr>\n",
       "    <tr>\n",
       "      <th>315</th>\n",
       "      <td>31.07.19</td>\n",
       "      <td>34</td>\n",
       "    </tr>\n",
       "    <tr>\n",
       "      <th>316</th>\n",
       "      <td>31.08.19</td>\n",
       "      <td>2</td>\n",
       "    </tr>\n",
       "    <tr>\n",
       "      <th>317</th>\n",
       "      <td>31.10.19</td>\n",
       "      <td>27</td>\n",
       "    </tr>\n",
       "  </tbody>\n",
       "</table>\n",
       "<p>318 rows × 2 columns</p>\n",
       "</div>"
      ],
      "text/plain": [
       "        Datum  patient_id\n",
       "0    01.01.19          63\n",
       "1    01.02.19          31\n",
       "2    01.03.19          32\n",
       "3    01.04.19          36\n",
       "4    01.06.19           1\n",
       "..        ...         ...\n",
       "313  31.03.19           2\n",
       "314  31.05.19          17\n",
       "315  31.07.19          34\n",
       "316  31.08.19           2\n",
       "317  31.10.19          27\n",
       "\n",
       "[318 rows x 2 columns]"
      ]
     },
     "execution_count": 95,
     "metadata": {},
     "output_type": "execute_result"
    }
   ],
   "source": [
    "data.groupby(['Datum']).agg({'patient_id': len}).reset_index()"
   ]
  },
  {
   "cell_type": "code",
   "execution_count": 142,
   "id": "343f907c-90fe-4e92-bdc6-131be0bf6e9c",
   "metadata": {},
   "outputs": [],
   "source": [
    "treatments = [\n",
    "    \n",
    "    'Bereich_Bronchoskopie', # bronchoscopy\n",
    "    'Bereich_ERCP',          # endoscopic retrograde cholangiopancreatography\n",
    "    'Bereich_Endosonographie', # endosonography\n",
    "    'Bereich_Gastroskopie', # gastroscopy\n",
    "    'Bereich_Koloskopie' # colonoscopy\n",
    "    \n",
    "]\n",
    "\n",
    "rooms = [\n",
    "\n",
    "    ['Bereich_Bronchoskopie'],\n",
    "    ['Bereich_Bronchoskopie', 'Bereich_ERCP', 'Bereich_Gastroskopie', 'Bereich_Koloskopie'],\n",
    "    ['Bereich_Bronchoskopie', 'Bereich_Endosonographie', 'Bereich_Gastroskopie', 'Bereich_Koloskopie'],\n",
    "    ['Bereich_Gastroskopie'],\n",
    "    ['Bereich_Koloskopie']\n",
    "\n",
    "]"
   ]
  },
  {
   "cell_type": "code",
   "execution_count": 217,
   "id": "8f728124-486c-4d9a-8067-c1058410a850",
   "metadata": {},
   "outputs": [],
   "source": [
    "treatment = [treatments[i] for i in np.where(np.array(data[treatments]) == 1)[1]]\n",
    "data['treatment'] = treatment"
   ]
  },
  {
   "cell_type": "code",
   "execution_count": null,
   "id": "90dba9df-f67c-43a6-963e-2cf568111bea",
   "metadata": {},
   "outputs": [],
   "source": []
  },
  {
   "cell_type": "code",
   "execution_count": 223,
   "id": "6d7e9b83-1caa-47a1-aa06-61408eca8a28",
   "metadata": {},
   "outputs": [
    {
     "data": {
      "image/png": "[encoded data removed]",
      "text/plain": [
       "<Figure size 432x288 with 1 Axes>"
      ]
     },
     "metadata": {
      "needs_background": "light"
     },
     "output_type": "display_data"
    }
   ],
   "source": [
    "import matplotlib.pyplot as plt\n",
    "data.groupby(['Datum', 'treatment']).agg({'Dauer': np.mean}).reset_index().groupby('treatment')['Dauer'].plot(legend='True')\n",
    "plt.show()"
   ]
  },
  {
   "cell_type": "code",
   "execution_count": 216,
   "id": "7e6d1700-7ae6-460b-93ab-dc5855ae6a9c",
   "metadata": {},
   "outputs": [
    {
     "data": {
      "image/png": "[encoded data removed]",
      "text/plain": [
       "<Figure size 1080x504 with 1 Axes>"
      ]
     },
     "metadata": {
      "needs_background": "light"
     },
     "output_type": "display_data"
    }
   ],
   "source": [
    "# plot setup\n",
    "#fig,ax= plt.subplots()\n",
    "#fig.set_size_inches(15, 7)\n",
    "\n",
    "groups = data.groupby('treatment')\n",
    "\n",
    "\n",
    "# Plot\n",
    "fig, ax = plt.subplots()\n",
    "fig.set_size_inches(15, 7)\n",
    "\n",
    "for treatment, group in groups:\n",
    "    ax.plot(group.Datum, group.Dauer, marker='o', linestyle='', ms=2, label=treatment)\n",
    "ax.legend()\n",
    "plt.yscale('log')\n",
    "plt.show()"
   ]
  },
  {
   "cell_type": "code",
   "execution_count": null,
   "id": "957341f1-f169-4882-a08c-56f9c7fe9b85",
   "metadata": {},
   "outputs": [],
   "source": []
  },
  {
   "cell_type": "code",
   "execution_count": 232,
   "id": "444e0e50-3d96-49b9-bdb6-3dbc1e2bc194",
   "metadata": {},
   "outputs": [
    {
     "data": {
      "text/html": [
       "<div>\n",
       "<style scoped>\n",
       "    .dataframe tbody tr th:only-of-type {\n",
       "        vertical-align: middle;\n",
       "    }\n",
       "\n",
       "    .dataframe tbody tr th {\n",
       "        vertical-align: top;\n",
       "    }\n",
       "\n",
       "    .dataframe thead th {\n",
       "        text-align: right;\n",
       "    }\n",
       "</style>\n",
       "<table border=\"1\" class=\"dataframe\">\n",
       "  <thead>\n",
       "    <tr style=\"text-align: right;\">\n",
       "      <th></th>\n",
       "      <th>treatment</th>\n",
       "      <th>patient_id</th>\n",
       "      <th>Dauer</th>\n",
       "    </tr>\n",
       "  </thead>\n",
       "  <tbody>\n",
       "    <tr>\n",
       "      <th>0</th>\n",
       "      <td>Bereich_Bronchoskopie</td>\n",
       "      <td>2.455357</td>\n",
       "      <td>25.733854</td>\n",
       "    </tr>\n",
       "    <tr>\n",
       "      <th>1</th>\n",
       "      <td>Bereich_ERCP</td>\n",
       "      <td>2.290179</td>\n",
       "      <td>42.021227</td>\n",
       "    </tr>\n",
       "    <tr>\n",
       "      <th>2</th>\n",
       "      <td>Bereich_Endosonographie</td>\n",
       "      <td>2.739130</td>\n",
       "      <td>20.407522</td>\n",
       "    </tr>\n",
       "    <tr>\n",
       "      <th>3</th>\n",
       "      <td>Bereich_Gastroskopie</td>\n",
       "      <td>12.961415</td>\n",
       "      <td>19.147167</td>\n",
       "    </tr>\n",
       "    <tr>\n",
       "      <th>4</th>\n",
       "      <td>Bereich_Koloskopie</td>\n",
       "      <td>6.660156</td>\n",
       "      <td>31.334181</td>\n",
       "    </tr>\n",
       "  </tbody>\n",
       "</table>\n",
       "</div>"
      ],
      "text/plain": [
       "                 treatment  patient_id      Dauer\n",
       "0    Bereich_Bronchoskopie    2.455357  25.733854\n",
       "1             Bereich_ERCP    2.290179  42.021227\n",
       "2  Bereich_Endosonographie    2.739130  20.407522\n",
       "3     Bereich_Gastroskopie   12.961415  19.147167\n",
       "4       Bereich_Koloskopie    6.660156  31.334181"
      ]
     },
     "execution_count": 232,
     "metadata": {},
     "output_type": "execute_result"
    }
   ],
   "source": [
    "summary = data.groupby(['Datum', 'treatment']).agg({\n",
    "    'patient_id': len,\n",
    "    'Dauer': np.mean,\n",
    "}).groupby('treatment').agg({\n",
    "    'patient_id': np.mean,\n",
    "    'Dauer': np.mean}).reset_index()\n",
    "summary"
   ]
  },
  {
   "cell_type": "code",
   "execution_count": 234,
   "id": "49a7ab27-007a-4c68-af51-d5dca0548c0a",
   "metadata": {},
   "outputs": [
    {
     "data": {
      "text/plain": [
       "0    1.053097\n",
       "1    1.603935\n",
       "2    0.931648\n",
       "3    4.136240\n",
       "4    3.478176\n",
       "dtype: float64"
      ]
     },
     "execution_count": 234,
     "metadata": {},
     "output_type": "execute_result"
    }
   ],
   "source": [
    "summary.patient_id * summary.Dauer / 60"
   ]
  },
  {
   "cell_type": "code",
   "execution_count": null,
   "id": "9fb78173-ceda-4b2e-8750-e15ab084f87c",
   "metadata": {},
   "outputs": [],
   "source": []
  },
  {
   "cell_type": "markdown",
   "id": "79d6ab32-6ed7-4f39-a912-51734cf528ef",
   "metadata": {},
   "source": [
    "## Random Room and Sequence assignment"
   ]
  },
  {
   "cell_type": "code",
   "execution_count": null,
   "id": "0665f4fa-a2fb-4607-a9cf-2d93fcd7bc80",
   "metadata": {},
   "outputs": [],
   "source": []
  },
  {
   "cell_type": "code",
   "execution_count": null,
   "id": "83f06c95-2cf8-49be-be30-23b7406093ba",
   "metadata": {},
   "outputs": [],
   "source": []
  },
  {
   "cell_type": "code",
   "execution_count": null,
   "id": "293272c5-7516-4013-adeb-d062985ad76f",
   "metadata": {},
   "outputs": [],
   "source": []
  },
  {
   "cell_type": "markdown",
   "id": "28b16a44-c216-402d-9e5a-74dbf7790709",
   "metadata": {},
   "source": [
    "## Adding setup and wrap-up time"
   ]
  },
  {
   "cell_type": "code",
   "execution_count": 236,
   "id": "a8186385-7d61-430f-8e34-20b61a7adebe",
   "metadata": {},
   "outputs": [],
   "source": [
    "preSurgeryTime = 15\n",
    "postSurgeryTime = 30"
   ]
  },
  {
   "cell_type": "code",
   "execution_count": 237,
   "id": "13a59e7a-1a5f-4cba-8ca6-866ba5fb9d87",
   "metadata": {},
   "outputs": [],
   "source": [
    "data['duration'] = preSurgeryTime + data.Dauer + postSurgeryTime"
   ]
  },
  {
   "cell_type": "code",
   "execution_count": null,
   "id": "ba8fc38a-6a40-4b98-bd40-c701580ad3b5",
   "metadata": {},
   "outputs": [],
   "source": []
  },
  {
   "cell_type": "code",
   "execution_count": 238,
   "id": "d66e303e-d6fa-4446-baac-d7338346b2df",
   "metadata": {},
   "outputs": [],
   "source": [
    "# What is the total working time?"
   ]
  },
  {
   "cell_type": "code",
   "execution_count": null,
   "id": "b46aea6c-116c-4cc1-8c75-c0b6a7ed9e27",
   "metadata": {},
   "outputs": [],
   "source": []
  },
  {
   "cell_type": "code",
   "execution_count": 239,
   "id": "19338330-dcc7-4f89-a93f-e53629cc428b",
   "metadata": {},
   "outputs": [],
   "source": [
    "# What are the features / columns in the data (apart from the obvious ones)"
   ]
  },
  {
   "cell_type": "code",
   "execution_count": null,
   "id": "d3cc5c47-ccce-41ea-b79c-dd2e81729ddc",
   "metadata": {},
   "outputs": [],
   "source": []
  },
  {
   "cell_type": "code",
   "execution_count": null,
   "id": "e72822e7-ab2e-4b93-93f2-a131e8a14778",
   "metadata": {},
   "outputs": [],
   "source": []
  },
  {
   "cell_type": "code",
   "execution_count": null,
   "id": "fe57d1d8-14aa-4da6-90fd-6140ecc24370",
   "metadata": {},
   "outputs": [],
   "source": []
  },
  {
   "cell_type": "code",
   "execution_count": null,
   "id": "2cd4edd3-2d67-4170-9253-549295e61ac3",
   "metadata": {},
   "outputs": [],
   "source": []
  },
  {
   "cell_type": "code",
   "execution_count": null,
   "id": "1279ee57-be11-4757-983d-fe525273145b",
   "metadata": {},
   "outputs": [],
   "source": []
  },
  {
   "cell_type": "code",
   "execution_count": 102,
   "id": "d75e47e2-e648-47f3-8fbb-6f12850ed8f8",
   "metadata": {},
   "outputs": [],
   "source": [
    "def getRoomData():\n",
    "\n",
    "    roomData = pd.DataFrame([[[0]],            # Raum: Bronchoskopie    # Behandlungstypen: Bronchoskopie\n",
    "                             [[0, 1, 3, 4]],   # Raum: ERCP             # Behandlungstypen: alles außer Endosonographie\n",
    "                             [[0, 2, 3, 4]],   # Raum: Endosonographie  # Behandlungstypen: alles außer ERCP\n",
    "                             [[3]],            # Raum: Gastroskopie     # Behandlungstypen: Gastroskopie\n",
    "                             [[4]]],           # Raum: Koloskopie       # Behandlungstypen: Koloskopie\n",
    "                            columns = ['type'])\n",
    "    \n",
    "    return roomData"
   ]
  },
  {
   "cell_type": "code",
   "execution_count": 103,
   "id": "877b2243-23e4-4125-8988-8ebec73d9cb4",
   "metadata": {},
   "outputs": [],
   "source": [
    "rooms = getRoomData()"
   ]
  },
  {
   "cell_type": "code",
   "execution_count": 104,
   "id": "34ec3d55-e33e-41d4-ac37-2c6fe111af41",
   "metadata": {},
   "outputs": [
    {
     "data": {
      "text/html": [
       "<div>\n",
       "<style scoped>\n",
       "    .dataframe tbody tr th:only-of-type {\n",
       "        vertical-align: middle;\n",
       "    }\n",
       "\n",
       "    .dataframe tbody tr th {\n",
       "        vertical-align: top;\n",
       "    }\n",
       "\n",
       "    .dataframe thead th {\n",
       "        text-align: right;\n",
       "    }\n",
       "</style>\n",
       "<table border=\"1\" class=\"dataframe\">\n",
       "  <thead>\n",
       "    <tr style=\"text-align: right;\">\n",
       "      <th></th>\n",
       "      <th>type</th>\n",
       "    </tr>\n",
       "  </thead>\n",
       "  <tbody>\n",
       "    <tr>\n",
       "      <th>0</th>\n",
       "      <td>[0]</td>\n",
       "    </tr>\n",
       "    <tr>\n",
       "      <th>1</th>\n",
       "      <td>[0, 1, 3, 4]</td>\n",
       "    </tr>\n",
       "    <tr>\n",
       "      <th>2</th>\n",
       "      <td>[0, 2, 3, 4]</td>\n",
       "    </tr>\n",
       "    <tr>\n",
       "      <th>3</th>\n",
       "      <td>[3]</td>\n",
       "    </tr>\n",
       "    <tr>\n",
       "      <th>4</th>\n",
       "      <td>[4]</td>\n",
       "    </tr>\n",
       "  </tbody>\n",
       "</table>\n",
       "</div>"
      ],
      "text/plain": [
       "           type\n",
       "0           [0]\n",
       "1  [0, 1, 3, 4]\n",
       "2  [0, 2, 3, 4]\n",
       "3           [3]\n",
       "4           [4]"
      ]
     },
     "execution_count": 104,
     "metadata": {},
     "output_type": "execute_result"
    }
   ],
   "source": [
    "rooms"
   ]
  },
  {
   "cell_type": "code",
   "execution_count": 141,
   "id": "4d6d9910-d131-424a-a1d9-97fdcf27e497",
   "metadata": {},
   "outputs": [
    {
     "data": {
      "text/plain": [
       "0       0\n",
       "1       0\n",
       "2       0\n",
       "3       0\n",
       "4       0\n",
       "       ..\n",
       "7361    0\n",
       "7362    0\n",
       "7363    0\n",
       "7364    0\n",
       "7365    0\n",
       "Name: Bereich_Bronchoskopie, Length: 7366, dtype: int64"
      ]
     },
     "execution_count": 141,
     "metadata": {},
     "output_type": "execute_result"
    }
   ],
   "source": [
    "def getTreatmentData(dataTest, date):\n",
    "\n",
    "    treatmentCols = np.array(['Bereich_Bronchoskopie', \n",
    "                              'Bereich_ERCP', \n",
    "                              'Bereich_Endosonographie', \n",
    "                              'Bereich_Gastroskopie', \n",
    "                              'Bereich_Koloskopie'])\n",
    "\n",
    "    booleanDay = dataTest['Datum'] == date\n",
    "    dataTestDay = dataTest[booleanDay]\n",
    "\n",
    "    treatmentSeries = dataTestDay[treatmentCols].idxmax(axis = 1)\n",
    "    treatmentsAsNumbers = [np.where(treatmentCols == treatmentSeries[i])[0][0] for i in treatmentSeries.index]\n",
    "\n",
    "    treatmentData = pd.DataFrame({'patient_id': dataTestDay['patient_id'], 'type': treatmentsAsNumbers}).set_index('patient_id')\n",
    "\n",
    "    return treatmentData"
   ]
  },
  {
   "cell_type": "code",
   "execution_count": null,
   "id": "09915122-fd4d-48dc-bd3b-ddfe84e09e26",
   "metadata": {},
   "outputs": [],
   "source": []
  },
  {
   "cell_type": "code",
   "execution_count": null,
   "id": "18bde9f6-7819-4068-9e8b-6169773d7843",
   "metadata": {},
   "outputs": [],
   "source": []
  },
  {
   "cell_type": "code",
   "execution_count": null,
   "id": "d0f03c5b-9c2e-4661-a83b-438f2b29cbb7",
   "metadata": {},
   "outputs": [],
   "source": []
  },
  {
   "cell_type": "code",
   "execution_count": null,
   "id": "c638c6c2-d47d-4917-907e-f8cae67c0766",
   "metadata": {},
   "outputs": [],
   "source": []
  },
  {
   "cell_type": "code",
   "execution_count": 112,
   "id": "fcf60eae-d772-4fa2-be1c-431a33832f07",
   "metadata": {},
   "outputs": [
    {
     "data": {
      "text/plain": [
       "0       01.01.19\n",
       "1       01.01.19\n",
       "2       01.01.19\n",
       "3       01.01.19\n",
       "4       01.01.19\n",
       "          ...   \n",
       "7361    27.12.19\n",
       "7362    28.12.19\n",
       "7363    29.12.19\n",
       "7364    29.12.19\n",
       "7365    29.12.19\n",
       "Name: Datum, Length: 7366, dtype: object"
      ]
     },
     "execution_count": 112,
     "metadata": {},
     "output_type": "execute_result"
    }
   ],
   "source": [
    "data['Datum']"
   ]
  },
  {
   "cell_type": "code",
   "execution_count": 110,
   "id": "73a480b0-20fd-4ea5-aa68-f0852e454020",
   "metadata": {},
   "outputs": [],
   "source": [
    "date = datetime.date(year=2019, month=12, day=1)"
   ]
  },
  {
   "cell_type": "code",
   "execution_count": 113,
   "id": "8fba4935-ab52-4756-9e3d-e529b9496c14",
   "metadata": {},
   "outputs": [
    {
     "data": {
      "text/plain": [
       "6"
      ]
     },
     "execution_count": 113,
     "metadata": {},
     "output_type": "execute_result"
    }
   ],
   "source": [
    "date.weekday()"
   ]
  },
  {
   "cell_type": "code",
   "execution_count": 131,
   "id": "d786ab98-291f-490f-b546-8d442ae4a492",
   "metadata": {},
   "outputs": [],
   "source": [
    "date = [int(i) for i in reversed(data['Datum'].iloc[0].split('.'))]"
   ]
  },
  {
   "cell_type": "code",
   "execution_count": 133,
   "id": "c23a70fc-4a8a-4ad7-9df2-653612dbddbb",
   "metadata": {},
   "outputs": [],
   "source": [
    "date = datetime.date(year=date[0], month=date[1], day=date[2])"
   ]
  },
  {
   "cell_type": "code",
   "execution_count": null,
   "id": "91c2e047-11ac-4155-b3c7-5a2621154ecc",
   "metadata": {},
   "outputs": [],
   "source": []
  },
  {
   "cell_type": "code",
   "execution_count": null,
   "id": "00c8aeca-af62-46a6-a50c-180ebdbd86e0",
   "metadata": {},
   "outputs": [],
   "source": []
  },
  {
   "cell_type": "code",
   "execution_count": null,
   "id": "71745a1c-c3f5-47cc-844f-7fa73759b3b5",
   "metadata": {},
   "outputs": [],
   "source": []
  },
  {
   "cell_type": "code",
   "execution_count": null,
   "id": "18e0ae39-e17e-4a5e-b76c-75ef26212cfd",
   "metadata": {},
   "outputs": [],
   "source": []
  },
  {
   "cell_type": "code",
   "execution_count": null,
   "id": "bd7b2e83-a6ee-4dd4-be0c-bc0e94ce46fb",
   "metadata": {},
   "outputs": [],
   "source": []
  },
  {
   "cell_type": "code",
   "execution_count": null,
   "id": "a886a117-ec07-47de-8c22-b1c476f03824",
   "metadata": {},
   "outputs": [],
   "source": []
  },
  {
   "cell_type": "code",
   "execution_count": null,
   "id": "d64c7587-8c8f-4072-8432-972dab46160c",
   "metadata": {},
   "outputs": [],
   "source": []
  },
  {
   "cell_type": "code",
   "execution_count": null,
   "id": "0e8d9af5-959d-4d8f-8606-dad5282fb6f1",
   "metadata": {},
   "outputs": [],
   "source": [
    "def getSingleScenario(scenarioIndex, distributionDictDay):\n",
    "    \n",
    "    patientsOfDay = distributionDictDay.keys()\n",
    "    \n",
    "    randomProbsDict = {ID: uniform(size = 1) for ID in patientsOfDay}    \n",
    "    sample = [distributionDictDay[ID][1][np.where(distributionDictDay[ID][0] >= randomProbsDict[ID])[0][0]] for ID in patientsOfDay]\n",
    "    \n",
    "    scenarioIndices = np.repeat(scenarioIndex, len(patientsOfDay))\n",
    "    \n",
    "    scenarioData = pd.DataFrame([patientsOfDay, scenarioIndices, sample]).transpose()\n",
    "    scenarioData.columns = ['patient_id', 'scenario', 'duration']\n",
    "\n",
    "    return scenarioData    "
   ]
  },
  {
   "cell_type": "code",
   "execution_count": null,
   "id": "05381dfe-2d84-41af-9c73-1a5d078e7c74",
   "metadata": {},
   "outputs": [],
   "source": [
    "def getScenariosPerDay(YTrain, dataTest, weightsDataDict, nScenarios):\n",
    "    \n",
    "    patientIDs = weightsDataDict.keys()\n",
    "    distributionDict = {patientId: \n",
    "                        getDistributionOfPatient(YTrain = YTrain, \n",
    "                                                 weights = weightsDataDict[patientId][0], \n",
    "                                                 indicesPosWeight = weightsDataDict[patientId][1])\n",
    "                        for patientId in patientIDs}\n",
    "    \n",
    "    #---\n",
    "    \n",
    "    dates = dataTest['Datum'].unique()\n",
    "    scenariosPerDayDict = dict()\n",
    "    \n",
    "    for date in dates:\n",
    "    \n",
    "        dataTestDay = dataTest[dataTest['Datum'] == date]\n",
    "        patientsOfDay = dataTestDay['patient_id']\n",
    "        distributionDictDay = {patient_id: distributionDict[patient_id] for patient_id in patientsOfDay}\n",
    "        \n",
    "        scenarioData = [getSingleScenario(scenarioIndex, distributionDictDay) for scenarioIndex in np.arange(nScenarios)]\n",
    "        scenarioDf = pd.concat(scenarioData, axis = 0).set_index(['patient_id', 'scenario'])\n",
    "        \n",
    "        scenariosPerDayDict[date] = scenarioDf\n",
    "        \n",
    "    return scenariosPerDayDict"
   ]
  },
  {
   "cell_type": "code",
   "execution_count": null,
   "id": "e8ea0721-4bc2-4e8c-8b2d-81c851fc0c15",
   "metadata": {},
   "outputs": [],
   "source": []
  },
  {
   "cell_type": "code",
   "execution_count": null,
   "id": "5fb6ac87-bec6-4d02-8e69-f0cb86e1e80c",
   "metadata": {},
   "outputs": [],
   "source": []
  },
  {
   "cell_type": "code",
   "execution_count": null,
   "id": "a10d5378-79f6-4c54-9a34-cef61d09c913",
   "metadata": {},
   "outputs": [],
   "source": []
  }
 ],
 "metadata": {
  "kernelspec": {
   "display_name": "dddex",
   "language": "python",
   "name": "dddex"
  },
  "language_info": {
   "codemirror_mode": {
    "name": "ipython",
    "version": 3
   },
   "file_extension": ".py",
   "mimetype": "text/x-python",
   "name": "python",
   "nbconvert_exporter": "python",
   "pygments_lexer": "ipython3",
   "version": "3.8.16"
  }
 },
 "nbformat": 4,
 "nbformat_minor": 5
}
