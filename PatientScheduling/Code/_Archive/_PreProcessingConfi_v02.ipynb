{
 "cells": [
  {
   "cell_type": "markdown",
   "id": "bf55d2f0-c88d-4eba-a988-5877e308d5b9",
   "metadata": {},
   "source": [
    "# Init"
   ]
  },
  {
   "cell_type": "code",
   "execution_count": 1,
   "id": "b000de9e-467f-4fa1-9210-b19aeb1b41ed",
   "metadata": {},
   "outputs": [],
   "source": [
    "# Import utils\n",
    "import numpy as np\n",
    "import pandas as pd\n",
    "import math\n",
    "import time\n",
    "import json\n",
    "import pyreadr\n",
    "import pickle\n",
    "from joblib import dump, load\n",
    "import random\n",
    "import string\n",
    "import os\n",
    "import copy\n",
    "import datetime\n",
    "from sklearn.preprocessing import OneHotEncoder\n",
    "import matplotlib.pyplot as plt"
   ]
  },
  {
   "cell_type": "code",
   "execution_count": 2,
   "id": "f4498350-02ee-469f-9ba7-8185c73fe4f3",
   "metadata": {},
   "outputs": [],
   "source": [
    "# Generate a random key\n",
    "def get_random_key(l):\n",
    "    \n",
    "    \"\"\"\n",
    "    \n",
    "    Generates random key of letters and numbers where l defines the desired length.\n",
    "    \n",
    "    \"\"\"\n",
    "    \n",
    "    elements = string.ascii_letters + string.digits\n",
    "    key = ''.join(random.choice(elements) for i in range(l))\n",
    "    \n",
    "    return key"
   ]
  },
  {
   "cell_type": "markdown",
   "id": "89d9fea8-3ec2-4f00-83e0-04799530fcb2",
   "metadata": {},
   "source": [
    "# Pre-process raw data\n",
    "\n",
    "The data consists of the following information:\n",
    "\n",
    "* **Patient**: id, age, sex, health status, ...\n",
    "\n",
    "* **Treatment**: duration, date, area, treatment details (DVGS codes, codes for used endoscopes, indicators for emergency, stay/ambulant treatemnts), ...\n",
    "\n",
    "* **Surgeons**: information on surgeons, assistants, and nurses that conducted the treatment\n",
    "\n",
    "Each row in the data belongs to one surgery / treatment / examination."
   ]
  },
  {
   "cell_type": "code",
   "execution_count": 3,
   "id": "8cdda4fa-5f2d-4e7e-b3db-a4da01e17eaf",
   "metadata": {},
   "outputs": [],
   "source": [
    "# Load raw data\n",
    "data = pd.read_csv('/home/fesc/dddex/PatientScheduling/Data/dataHCScheduling2.csv', sep=';')"
   ]
  },
  {
   "cell_type": "code",
   "execution_count": 4,
   "id": "4bcd76ec-541a-496f-b10f-14c93b7c8b12",
   "metadata": {},
   "outputs": [],
   "source": [
    "# Format dates and add columns for year, month, ...\n",
    "for r in range(len(data)):\n",
    "    \n",
    "    date = [int(i) for i in reversed(data['Datum'].iloc[r].split('.'))]\n",
    "\n",
    "    data.loc[r, 'year'] = 2000+date[0]\n",
    "    data.loc[r, 'month'] = date[1]\n",
    "    data.loc[r, 'week'] = datetime.date(year=2000+date[0], month=date[1], day=date[2]).isocalendar()[1]\n",
    "    data.loc[r, 'day'] = date[2]\n",
    "    data.loc[r, 'weekday'] = datetime.date(year=2000+date[0], month=date[1], day=date[2]).weekday()\n",
    "    data.loc[r, 'date'] = datetime.date(year=2000+date[0], month=date[1], day=date[2])"
   ]
  },
  {
   "cell_type": "code",
   "execution_count": 5,
   "id": "ac8a2656-24ae-4435-89e1-496a2ef232a4",
   "metadata": {},
   "outputs": [],
   "source": [
    "# 1-hot encode weekday\n",
    "enc = OneHotEncoder()\n",
    "enc = enc.fit(np.array(data['weekday']).reshape(-1,1))\n",
    "weekday = enc.transform(np.array(data['weekday']).reshape(-1,1)).toarray()\n",
    "cols = enc.get_feature_names_out(['weekday'])\n",
    "data[cols] = weekday"
   ]
  },
  {
   "cell_type": "code",
   "execution_count": 6,
   "id": "1c2e38ac-7748-4dac-9770-c75e9e99511a",
   "metadata": {},
   "outputs": [],
   "source": [
    "# Add areas\n",
    "areas = [\n",
    "    \n",
    "    'Bereich_Bronchoskopie', # bronchoscopy\n",
    "    'Bereich_ERCP',          # endoscopic retrograde cholangiopancreatography\n",
    "    'Bereich_Endosonographie', # endosonography\n",
    "    'Bereich_Gastroskopie', # gastroscopy\n",
    "    'Bereich_Koloskopie' # colonoscopy\n",
    "    \n",
    "]\n",
    "\n",
    "area = [areas[i] for i in np.where(np.array(data[areas]) == 1)[1]]\n",
    "data['area'] = area"
   ]
  },
  {
   "cell_type": "code",
   "execution_count": 7,
   "id": "04040c88-e8e9-4991-b3ab-ac0b7460bc29",
   "metadata": {},
   "outputs": [],
   "source": [
    "# 1-hot encode type of hospitalization ('Aufenthalt')\n",
    "data = data.rename(columns={'Aufenthalt': 'hospitalization'})\n",
    "enc = OneHotEncoder()\n",
    "enc = enc.fit(np.array(data['hospitalization']).reshape(-1,1))\n",
    "hospitalization = enc.transform(np.array(data['hospitalization']).reshape(-1,1)).toarray()\n",
    "cols = enc.get_feature_names_out(['hospitalization'])\n",
    "data[cols] = hospitalization"
   ]
  },
  {
   "cell_type": "code",
   "execution_count": 8,
   "id": "2e2726a4-d6ff-4557-82f1-86d735905f2e",
   "metadata": {},
   "outputs": [],
   "source": [
    "# 1-hot encode health status (ASA code)\n",
    "data = data.rename(columns={'ASA': 'health_status_code'})\n",
    "enc = OneHotEncoder()\n",
    "enc = enc.fit(np.array(data['health_status_code']).reshape(-1,1))\n",
    "health_status_code = enc.transform(np.array(data['health_status_code']).reshape(-1,1)).toarray()\n",
    "cols = enc.get_feature_names_out(['health_status_code'])\n",
    "data[cols] = health_status_code"
   ]
  },
  {
   "cell_type": "code",
   "execution_count": 9,
   "id": "1a640b16-1265-42de-8f6f-a3676898e496",
   "metadata": {},
   "outputs": [],
   "source": [
    "# Team setup\n",
    "surgeons = [\n",
    "\n",
    "    'Brand', 'Bumm', 'Dick', 'Döring', 'Engel', 'Flemming', 'Flüchter', 'Geier',\n",
    "    'Gernert', 'Groneberg', 'Götze', 'Hann', 'Hartlapp', 'Hose', 'Jung', 'Kienle',\n",
    "    'Koscher', 'Kudlich', 'Köhler', 'Maniuc', 'Matthes', 'Megerle', 'Meining',\n",
    "    'Meir', 'Mersi', 'Messerschmidt', 'Petri', 'Plaßmeiner', 'Reibetanz', 'Reimer',\n",
    "    'Scheurlen', 'Schoettker', 'Schweinfurth', 'Stationsarzt Neuologie', 'Steinhardt',\n",
    "    'Stier', 'Weich', 'Weiß', 'Wierlemann', 'Yilmaz'\n",
    "    \n",
    "]\n",
    "\n",
    "assistants = [\n",
    "\n",
    "    'Akpinar', 'Boehn', 'Endres', 'Estenfelder', 'Hospitant', 'Lau', 'Mennig', 'Nöth',\n",
    "    'OTA', 'Pfützner', 'Purrer', 'Saam', 'Seelbach', 'Smol', 'Streit', 'Thiergärtner',\n",
    "    'Uhlein', 'Wiesemann'\n",
    "]"
   ]
  },
  {
   "cell_type": "markdown",
   "id": "55c05828-aad5-4071-a443-cbaabe83f68e",
   "metadata": {},
   "source": [
    "# Clean erratic data"
   ]
  },
  {
   "cell_type": "code",
   "execution_count": 10,
   "id": "119e68a5-e2b1-40fc-9d27-78581498f03f",
   "metadata": {},
   "outputs": [],
   "source": [
    "# Remove erratic dates (there are 2 erratic dates in 2020)\n",
    "data = data.loc[data['date'] <= datetime.date(2019, 12, 31)]"
   ]
  },
  {
   "cell_type": "code",
   "execution_count": 11,
   "id": "286b8b1a-3979-441f-8639-4d2d5e6b14fc",
   "metadata": {},
   "outputs": [],
   "source": [
    "# Remove NaN in sex\n",
    "data = data.loc[~np.isnan(data.Geschlecht)]"
   ]
  },
  {
   "cell_type": "markdown",
   "id": "01c83202-8c95-4475-bdcd-d841847d1bc3",
   "metadata": {},
   "source": [
    "# Sanetize data"
   ]
  },
  {
   "cell_type": "code",
   "execution_count": 12,
   "id": "53525a6b-8363-4256-a0ef-894322dc4df5",
   "metadata": {},
   "outputs": [
    {
     "name": "stdout",
     "output_type": "stream",
     "text": [
      "Random key generation worked: True\n"
     ]
    }
   ],
   "source": [
    "# Surgeon names\n",
    "surgeons_sanetized = dict([(surgeon, 'surgeon_'+get_random_key(16))\n",
    "                           for (surgeon, i) in zip(surgeons, range(len(surgeons)))])\n",
    "\n",
    "check = len(set(surgeons_sanetized.values())) == len(surgeons)\n",
    "print('Random key generation worked:', check)\n",
    "\n",
    "data = data.rename(columns=surgeons_sanetized)"
   ]
  },
  {
   "cell_type": "code",
   "execution_count": 13,
   "id": "7262f664-0156-4c21-ba40-f17fdb5f9ff2",
   "metadata": {},
   "outputs": [
    {
     "name": "stdout",
     "output_type": "stream",
     "text": [
      "Random key generation worked: True\n"
     ]
    }
   ],
   "source": [
    "# Assistant names\n",
    "assistants_sanetized = dict([(assistant, 'assistant_'+get_random_key(16))\n",
    "                             for (assistant, i) in zip(assistants, range(len(assistants)))])\n",
    "\n",
    "check = len(set(assistants_sanetized.values())) == len(assistants)\n",
    "print('Random key generation worked:', check)\n",
    "\n",
    "data = data.rename(columns=assistants_sanetized)"
   ]
  },
  {
   "cell_type": "code",
   "execution_count": 14,
   "id": "b9ceca6f-ce64-41d7-8f70-1a585337f30d",
   "metadata": {},
   "outputs": [
    {
     "name": "stdout",
     "output_type": "stream",
     "text": [
      "Random key generation worked: True\n"
     ]
    }
   ],
   "source": [
    "# Area names\n",
    "areas_sanetized = dict([(area, 'area_'+get_random_key(16)) \n",
    "                        for (area, i) in zip(areas, range(len(areas)))])\n",
    "\n",
    "check = len(set(areas_sanetized.values())) == len(areas)\n",
    "print('Random key generation worked:', check)\n",
    "\n",
    "data = data.rename(columns=areas_sanetized)\n",
    "data['area'] = data['area'].replace(areas_sanetized, regex=True)"
   ]
  },
  {
   "cell_type": "code",
   "execution_count": 15,
   "id": "64f68279-cdf2-4f36-8588-f9eae64d293b",
   "metadata": {},
   "outputs": [
    {
     "name": "stdout",
     "output_type": "stream",
     "text": [
      "Random key generation worked: True\n"
     ]
    }
   ],
   "source": [
    "# Endoscope codes\n",
    "endoscope_codes = [\n",
    "    \n",
    "    '1U047K185','2C738K060','2G411K040','3U048K046','5G402K039',\n",
    "    'A120031','A120183','A120762','A121432','CFH180AL','CFHQ190AL',\n",
    "    'CFHQ190L','CFQ160','CFQ160AI','CFQ160AL','CFQ180AL','CFUE190',\n",
    "    'EC760PV','EG34J10U','EG3670URK','EG36J10UR','EG3870UTK','EG38J10UT',\n",
    "    'EG580UR','EG580UT','EG760CT','EG760R','EGUTK','G120515','G120560',\n",
    "    'G3870','GCUCT180','GFUCT180','GIF140','GIF180','GIF1T140',\n",
    "    'GIF1TH190','GIF2T160','GIFH180','GIFH190','GIFHQ190','GIFHQ190L',\n",
    "    'GIFQ140','GIFQ160','GIFQ165','GIFQ180','GIFXP','GIFXP160','GIFXP180',\n",
    "    'GIFXP180N','GIFXP190N','GIFXP','GITTQ160','GIVEN','H121383',\n",
    "    'H180','HQ190','IFQ180','JF140R','K120064', 'PCF140L','PCFH180AL',\n",
    "    'PCFH190','Q180','SB3','SIFQ180','Spyglass', 'TJF160R','TJF160VR',\n",
    "    'TJFQ180V','TL2900156'\n",
    "\n",
    "]\n",
    "\n",
    "endoscope_codes = [endoscope_code for endoscope_code in endoscope_codes if endoscope_code in data.columns]\n",
    "\n",
    "endoscope_codes_sanetized = dict([(endoscope_code, 'endoscope_code_'+get_random_key(16))\n",
    "                                 for (endoscope_code, i) in zip(endoscope_codes, range(len(endoscope_codes)))])\n",
    "\n",
    "check = len(set(endoscope_codes_sanetized.values())) == len(endoscope_codes)\n",
    "print('Random key generation worked:', check)\n",
    "\n",
    "data = data.rename(columns=endoscope_codes_sanetized)"
   ]
  },
  {
   "cell_type": "code",
   "execution_count": 16,
   "id": "b2d8921b-24e2-4648-9b70-98e564a18cbc",
   "metadata": {},
   "outputs": [
    {
     "name": "stdout",
     "output_type": "stream",
     "text": [
      "Random key generation worked: True\n"
     ]
    }
   ],
   "source": [
    "# Examination codes\n",
    "examination_codes = [\n",
    "\n",
    "    'ERCP010', 'ERCP020', 'ERCP030', 'ERCP040', 'ERCP050', 'ERCP060', 'ERCP070', 'ERCP080',\n",
    "    'ERCP090', 'ERCP100', 'ERCP110', 'ERCP120', 'ERCP130', 'ERCP140',\n",
    "    'EUSOGT010', 'EUSOGT020', 'EUSOGT030', 'EUSUGT010', 'EUSUGT020',\n",
    "    'INTESTO010', 'INTESTO040',\n",
    "    'KOLO010', 'KOLO020', 'KOLO030', 'KOLO040', 'KOLO050', 'KOLO060', 'KOLO070', 'KOLO080',\n",
    "    'KOLO090', 'KOLO100', 'KOLO110', 'KOLO120', 'KOLO130', 'KOLO150', 'KOLO170',\n",
    "    'PEG-Kontrolle',\n",
    "    'PROKTO020',\n",
    "    'SPEZ010',\n",
    "    'ÖGD010', 'ÖGD020', 'ÖGD030', 'ÖGD040', 'ÖGD050', 'ÖGD060', 'ÖGD070', 'ÖGD080', 'ÖGD090',\n",
    "    'ÖGD100', 'ÖGD110', 'ÖGD120', 'ÖGD130', 'ÖGD140', 'ÖGD150', 'ÖGD160', 'ÖGD170', 'ÖGD180',\n",
    "    'ÖGD190', 'ÖGD200', 'ÖGD210', 'ÖGD220', 'ÖGD230', 'ÖGD240', 'ÖGD250'\n",
    "\n",
    "]\n",
    "\n",
    "examination_codes = [examination_code for \n",
    "                     examination_code in examination_codes \n",
    "                     if examination_code not in endoscope_codes]\n",
    "\n",
    "examination_codes_sanetized = dict([(examination_code, 'examination_code_'+get_random_key(16))\n",
    "                                 for (examination_code, i) in zip(examination_codes, range(len(examination_codes)))])\n",
    "\n",
    "check = len(set(examination_codes_sanetized.values())) == len(examination_codes)\n",
    "print('Random key generation worked:', check)\n",
    "\n",
    "data = data.rename(columns=examination_codes_sanetized)"
   ]
  },
  {
   "cell_type": "code",
   "execution_count": 17,
   "id": "3906f86c-b169-44d3-9316-5fcc1ee18731",
   "metadata": {},
   "outputs": [
    {
     "name": "stdout",
     "output_type": "stream",
     "text": [
      "Random key generation worked: True\n"
     ]
    }
   ],
   "source": [
    "# Month\n",
    "month_codes = [col for col in data.columns if 'Monat' in col]\n",
    "\n",
    "month_codes_sanetized = dict(zip(month_codes, ['month_'+get_random_key(16) \n",
    "                                               for month_code in month_codes]))\n",
    "\n",
    "check = len(set(month_codes_sanetized.values())) == len(month_codes)\n",
    "print('Random key generation worked:', check)\n",
    "\n",
    "data = data.rename(columns=month_codes_sanetized)"
   ]
  },
  {
   "cell_type": "code",
   "execution_count": 18,
   "id": "75689eec-70d8-425e-8fb1-6537e7b55f2d",
   "metadata": {},
   "outputs": [
    {
     "name": "stdout",
     "output_type": "stream",
     "text": [
      "Random key generation worked: True\n"
     ]
    }
   ],
   "source": [
    "# Weekday\n",
    "weekday_codes = [col for col in data.columns if 'weekday_' in col]\n",
    "\n",
    "weekday_codes_sanetized = dict(zip(weekday_codes, ['weekday_'+get_random_key(16) \n",
    "                                                   for weekday_code in weekday_codes]))\n",
    "\n",
    "check = len(set(weekday_codes_sanetized.values())) == len(weekday_codes)\n",
    "print('Random key generation worked:', check)\n",
    "\n",
    "data = data.rename(columns=weekday_codes_sanetized)"
   ]
  },
  {
   "cell_type": "code",
   "execution_count": 19,
   "id": "57434000-df91-4cff-a836-c20daceb21ed",
   "metadata": {},
   "outputs": [],
   "source": [
    "# Date\n",
    "dates = sorted(list(set(data['date'])))\n",
    "dates = pd.DataFrame.from_dict(dict([(date, i+1) for (date, i) in zip(dates, range(len(dates)))]), \n",
    "                               orient='index', columns=['i'])\n",
    "dates = dates.reset_index().rename(columns={'index': 'date'})\n",
    "\n",
    "data = pd.merge(left=data,\n",
    "        right=dates,\n",
    "        on = 'date')\n",
    "data = data.drop(columns='date')\n",
    "data = data.rename(columns={'i': 'date'})"
   ]
  },
  {
   "cell_type": "code",
   "execution_count": 20,
   "id": "a6063340-7eb8-445a-be10-fd47c82467bf",
   "metadata": {},
   "outputs": [
    {
     "name": "stdout",
     "output_type": "stream",
     "text": [
      "Random key generation worked: True\n"
     ]
    }
   ],
   "source": [
    "# Patient\n",
    "patients = list(set(data['patient_id']))\n",
    "\n",
    "patients_sanetized = dict([(patient, 'patient_'+get_random_key(32)) \n",
    "                           for (patient, i) in zip(patients, range(len(patients)))])\n",
    "\n",
    "check = len(set(patients_sanetized.values())) == len(patients)\n",
    "print('Random key generation worked:', check)\n",
    "\n",
    "data['patient_id'] = data['patient_id'].replace(patients_sanetized, regex=True)"
   ]
  },
  {
   "cell_type": "code",
   "execution_count": 21,
   "id": "944c4b45-9f34-461e-93bd-df4c2d47fba2",
   "metadata": {},
   "outputs": [
    {
     "name": "stdout",
     "output_type": "stream",
     "text": [
      "Random key generation worked: True\n"
     ]
    }
   ],
   "source": [
    "# Health status\n",
    "health_status_codes = [col for col in data.columns if 'health_status_code_' in col]\n",
    "\n",
    "health_status_codes_sanetized = dict(zip(health_status_codes, ['health_status_'+get_random_key(16) \n",
    "                                               for health_status_code in health_status_codes]))\n",
    "\n",
    "check = len(set(health_status_codes_sanetized.values())) == len(health_status_codes)\n",
    "print('Random key generation worked:', check)\n",
    "\n",
    "data = data.rename(columns=health_status_codes_sanetized)"
   ]
  },
  {
   "cell_type": "code",
   "execution_count": 22,
   "id": "e6a85240-64f9-459e-a90e-0a444002aefd",
   "metadata": {},
   "outputs": [
    {
     "name": "stdout",
     "output_type": "stream",
     "text": [
      "Random key generation worked: True\n"
     ]
    }
   ],
   "source": [
    "# Hospitalization\n",
    "hospitalization_codes = [col for col in data.columns if 'hospitalization_' in col]\n",
    "\n",
    "hospitalization_codes_sanetized = dict(zip(hospitalization_codes, ['hospitalization_'+get_random_key(16) \n",
    "                                               for hospitalization_code in hospitalization_codes]))\n",
    "\n",
    "check = len(set(hospitalization_codes_sanetized.values())) == len(hospitalization_codes)\n",
    "print('Random key generation worked:', check)\n",
    "\n",
    "data = data.rename(columns=hospitalization_codes_sanetized)"
   ]
  },
  {
   "cell_type": "code",
   "execution_count": 23,
   "id": "e64f48b5-3e2d-466f-849d-5e1b77bf3803",
   "metadata": {},
   "outputs": [],
   "source": [
    "# Rename columns to english\n",
    "data = data.rename(columns={\n",
    "    \n",
    "    'Notfall': 'emergency',\n",
    "    'Beratung': 'consultation',\n",
    "    'Alter': 'age',\n",
    "    'Geschlecht': 'sex',\n",
    "    'Dauer': 'duration'\n",
    "\n",
    "})"
   ]
  },
  {
   "cell_type": "code",
   "execution_count": 24,
   "id": "e47e4173-0a60-4ed8-9559-7869fed0b649",
   "metadata": {},
   "outputs": [],
   "source": [
    "# Columns to be removed\n",
    "remove = [\n",
    "    \n",
    "    'year',\n",
    "    'month',\n",
    "    'week',\n",
    "    'weekday',\n",
    "    'day',\n",
    "    'Datum',\n",
    "    'hospitalization',\n",
    "    'health_status_code'\n",
    "\n",
    "]\n",
    "\n",
    "data = data.drop(columns=remove)"
   ]
  },
  {
   "cell_type": "markdown",
   "id": "b9eb2ed0-e855-47f7-b1db-82343cfaccdb",
   "metadata": {},
   "source": [
    "# Save"
   ]
  },
  {
   "cell_type": "code",
   "execution_count": 25,
   "id": "ef31840b-295c-4521-8d29-f3c4ebec18e7",
   "metadata": {},
   "outputs": [
    {
     "data": {
      "text/plain": [
       "{'age',\n",
       " 'area',\n",
       " 'area_9BjwrnFuXmkSUqNd',\n",
       " 'area_G1tK48shDUB3Jm8n',\n",
       " 'area_WVLukn2XWHS6OyQZ',\n",
       " 'area_Y6F5RxDwY1dwMg8j',\n",
       " 'area_pxfcVXf6XvBT0sZD',\n",
       " 'assistant_1DzIl8Gj8OURXBUl',\n",
       " 'assistant_4d3oCQJFFnhFuyuW',\n",
       " 'assistant_4d5eJ5VclUXVaKaw',\n",
       " 'assistant_6ADM7UQdhVW6vIJR',\n",
       " 'assistant_E3IeIwEnec1cXyby',\n",
       " 'assistant_GleWV5QHmlmGUeV5',\n",
       " 'assistant_KAvUKX8MBxkgQ2fc',\n",
       " 'assistant_L64DwW6iStCXilUI',\n",
       " 'assistant_NN2mlrEM2e8cNpww',\n",
       " 'assistant_Ojae1XfvqfMXnOI8',\n",
       " 'assistant_Q9BiXmnpX0KoVmKU',\n",
       " 'assistant_TuU5L75bxBolF50S',\n",
       " 'assistant_V5SA1zKn1Z6Tl9Ng',\n",
       " 'assistant_ZFjJ0p9TeEDy8ZjP',\n",
       " 'assistant_bNAcOudnEl5DKgo5',\n",
       " 'assistant_wZdbtLC5OK5mFpqn',\n",
       " 'assistant_xbJhvXrXQDIHw88B',\n",
       " 'assistant_yn5KXkyhzX3Ynz8T',\n",
       " 'consultation',\n",
       " 'date',\n",
       " 'duration',\n",
       " 'emergency',\n",
       " 'endoscope_code_253UureneBA1YA5e',\n",
       " 'endoscope_code_48M3wyaOI7jjaQoJ',\n",
       " 'endoscope_code_87LonqHlo4WwbK9O',\n",
       " 'endoscope_code_BC2sz3pOsb2LS78A',\n",
       " 'endoscope_code_BSI449uODTGy7ST0',\n",
       " 'endoscope_code_De8E4JOL75pAIX6A',\n",
       " 'endoscope_code_JEhe2zwZcyVWIhgr',\n",
       " 'endoscope_code_MQwVXSNsW9S8yhok',\n",
       " 'endoscope_code_O7JjtrDTnnt1EFAS',\n",
       " 'endoscope_code_RtWJJdTgeHZKaPBE',\n",
       " 'endoscope_code_YNsckGZpvzNjqe1t',\n",
       " 'endoscope_code_c7YACvym0nvWBV92',\n",
       " 'endoscope_code_ntRnx19ecpwAR2z8',\n",
       " 'endoscope_code_pJsSuDwFxmBPrwHL',\n",
       " 'endoscope_code_qGgFPdEy11UBVcFI',\n",
       " 'endoscope_code_sKahaOwgdzhtPqwk',\n",
       " 'endoscope_code_uCWJu6dHaP1Ok0Pa',\n",
       " 'endoscope_code_wsl5RmOT8Nf3JCT8',\n",
       " 'endoscope_code_zF3YR4uVkCn29bu1',\n",
       " 'examination_code_19lxSl8z4vS00Xqs',\n",
       " 'examination_code_24mqP25mv0QOKTGR',\n",
       " 'examination_code_2t4caa01UgbLkXEw',\n",
       " 'examination_code_45KbidB3ljJpgcuW',\n",
       " 'examination_code_4M0ewjWJCySuqa36',\n",
       " 'examination_code_5fkNQpLf3LOsZAkZ',\n",
       " 'examination_code_5gHzL4LJN2DYC37g',\n",
       " 'examination_code_6WRJI2DQt3ze9Djt',\n",
       " 'examination_code_6YfiLdsDm9hzAHI8',\n",
       " 'examination_code_6ucyNXUQrCJIPUH1',\n",
       " 'examination_code_7WCZYIcKdEI3hHEB',\n",
       " 'examination_code_8NcKiRF9qW2tNNpe',\n",
       " 'examination_code_9qk7xIVlpYFiJcuT',\n",
       " 'examination_code_AetKy8wovPaDrlrU',\n",
       " 'examination_code_Ame8zOtP9gGO9BnT',\n",
       " 'examination_code_BeegIbrhr2MagK2B',\n",
       " 'examination_code_DglpJ4zZJXLckAcw',\n",
       " 'examination_code_G6n6LMVMirEPQwEO',\n",
       " 'examination_code_G97Z93rvZb9u5WAK',\n",
       " 'examination_code_HrU6uRN5Hrnnc1kp',\n",
       " 'examination_code_HsPsir564Rg4gedE',\n",
       " 'examination_code_Ivf0nmJMN1YKaTxj',\n",
       " 'examination_code_KvhxXTUe2JedcFdp',\n",
       " 'examination_code_MDxzLcoKBPOA3xvH',\n",
       " 'examination_code_MnRzj1plehtsKNnh',\n",
       " 'examination_code_OEhC5Vtgc9kUlXCU',\n",
       " 'examination_code_Pi7xYLsDN7O1Z5Vn',\n",
       " 'examination_code_QM2B0rlbPGS3PdP0',\n",
       " 'examination_code_SsPNzUN4tXIwA7xm',\n",
       " 'examination_code_TrgYjQbHZ3d07IdL',\n",
       " 'examination_code_UAjqsaxyrvTV1L4u',\n",
       " 'examination_code_V4MD47rsGqw4tH9j',\n",
       " 'examination_code_XGOxfblnea1TdDvc',\n",
       " 'examination_code_XyQwT0VO1gRy5p66',\n",
       " 'examination_code_Y2d3DJfOZ6b33CWQ',\n",
       " 'examination_code_YL7GTCbPI90SFwhT',\n",
       " 'examination_code_ZJEgZL157Wpp6uNH',\n",
       " 'examination_code_bYsNPIFCHnsgKAHW',\n",
       " 'examination_code_cVF0ltlHl2FpQGLc',\n",
       " 'examination_code_cr2edOlDbT40azaw',\n",
       " 'examination_code_eCsljsKhCqQpg0ZR',\n",
       " 'examination_code_eKemsJHoci77UFuX',\n",
       " 'examination_code_ej7WPYrLsgL9e4CS',\n",
       " 'examination_code_fqleyC291KF74lVU',\n",
       " 'examination_code_gR7L57kP3FuixxdF',\n",
       " 'examination_code_gueN9duxKLXfP8bc',\n",
       " 'examination_code_jK37FAyVvBjVb3KA',\n",
       " 'examination_code_joIyZ1f9o6DncZwj',\n",
       " 'examination_code_leXYa4QvLih5dhNK',\n",
       " 'examination_code_lqn0iqtEzDguvDhI',\n",
       " 'examination_code_mp7ZyBcvuendffQ4',\n",
       " 'examination_code_ohAhWYZjF2pSF2YZ',\n",
       " 'examination_code_okbXIJ5FKfBplAnF',\n",
       " 'examination_code_r05YBtJSG9Oo1h4f',\n",
       " 'examination_code_rz3Udfz2Z2VW8MDT',\n",
       " 'examination_code_t0xXxPUcJHIR3piu',\n",
       " 'examination_code_t8d4MAYkMxBoOPXM',\n",
       " 'examination_code_tptC5EqNbCIInl91',\n",
       " 'examination_code_vERja0nUVXmP3d36',\n",
       " 'examination_code_wXhRbvsmd6OzhWNi',\n",
       " 'examination_code_x1XeapvqC1Z12NaQ',\n",
       " 'examination_code_x513A7qVxyaHdYJW',\n",
       " 'examination_code_x6BsORzYN7UlQdOg',\n",
       " 'examination_code_zIpKoEbexs3qlOSy',\n",
       " 'health_status_KijtrfW06LJqR5uP',\n",
       " 'health_status_ZdLuqlrjNUewpOzF',\n",
       " 'health_status_cgBi79OTBP8YmEEG',\n",
       " 'health_status_pbxL8GKfQbMFUuJh',\n",
       " 'health_status_uqOcmNGr1QMy0Qd7',\n",
       " 'hospitalization_1dX9qtfku3nUd0Mu',\n",
       " 'hospitalization_HDAB86IfinUuNkFh',\n",
       " 'hospitalization_Ivl0HKFrB72q7LuC',\n",
       " 'month_2eN8ifeSm2CvMMY4',\n",
       " 'month_71bj1TrBWhuYLOOW',\n",
       " 'month_8F5Kxlo5Mue39Nfa',\n",
       " 'month_DWsWRlgMQ3TlRY28',\n",
       " 'month_Gu9mLBWjyV2jmtLX',\n",
       " 'month_IfubTbw3DmfyJvaD',\n",
       " 'month_NsOdNTLOTH1tlftQ',\n",
       " 'month_RdC4658DZak8AfiR',\n",
       " 'month_S88qlK9aCBJbxtbr',\n",
       " 'month_bl6vkskRVVz4Lbig',\n",
       " 'month_cLTqfm1Sc7geKC4S',\n",
       " 'month_knEA6WdH2w64SydZ',\n",
       " 'patient_id',\n",
       " 'sex',\n",
       " 'surgeon_11W9duLbSNbyiPSv',\n",
       " 'surgeon_2mINq5UdrMAvJLZT',\n",
       " 'surgeon_3glzZ5JN9mqRkhIv',\n",
       " 'surgeon_7AUggi8lA2oqzY7u',\n",
       " 'surgeon_9FtFwonXoiAOb9rZ',\n",
       " 'surgeon_9X6JSaK79mPrwyRN',\n",
       " 'surgeon_AufQNHjrvOw6r1xs',\n",
       " 'surgeon_AxtDLFxnQMVwYd7d',\n",
       " 'surgeon_DQvDxu3CT9ppTpMC',\n",
       " 'surgeon_Knw5JwQ5aMAyJW2d',\n",
       " 'surgeon_LQuOdQ5UfV1uv64B',\n",
       " 'surgeon_Mymd5dg79sBHmw6S',\n",
       " 'surgeon_OXUkeygP5wRqUICN',\n",
       " 'surgeon_PIsok6f0AWYOXEJ8',\n",
       " 'surgeon_QSgdJhvCAH13ZKkV',\n",
       " 'surgeon_TKebZffnZJwKnf5L',\n",
       " 'surgeon_U5wJyej8ljKI7l3E',\n",
       " 'surgeon_ViWluFIrZTJBUVJU',\n",
       " 'surgeon_W6nYcQNknKlgr9OA',\n",
       " 'surgeon_Wajc67bnK4j9gBZX',\n",
       " 'surgeon_XNHecYErBie1ZLKB',\n",
       " 'surgeon_ZmxOJEvK1Pg2jJBy',\n",
       " 'surgeon_Zr7xIsMBllYINShJ',\n",
       " 'surgeon_aTZBZNc7sQSNsznV',\n",
       " 'surgeon_bFDl5iFd9R8dYK1f',\n",
       " 'surgeon_biipHZJvq2hqucRO',\n",
       " 'surgeon_cS40XvCC8l1j8qSw',\n",
       " 'surgeon_jbtm2FD5XaY2Q1Ak',\n",
       " 'surgeon_jgzi6Ak5rGBIeLNN',\n",
       " 'surgeon_mkWlbTLuAUhSmedS',\n",
       " 'surgeon_owhEiB739QeZwZxB',\n",
       " 'surgeon_pJhtCkljhCVtnkby',\n",
       " 'surgeon_r1SNT8AOPl9RXpiW',\n",
       " 'surgeon_rReSQRf8VltAXD2Y',\n",
       " 'surgeon_tjhLQxWaKQbydfKm',\n",
       " 'surgeon_w7KogXUGRdaNYi30',\n",
       " 'surgeon_yOP3Y76Xg8Voj2jY',\n",
       " 'surgeon_yX9XGSBX6RfCfr3m',\n",
       " 'surgeon_yXUYcauIzhRwaKG8',\n",
       " 'surgeon_ycgKLhjmgbjQUo0e',\n",
       " 'weekday_948tKMhk5TM2CQaa',\n",
       " 'weekday_KsMsn5Y9KgTYGDNq',\n",
       " 'weekday_NVkt7XQk0myQ8pIF',\n",
       " 'weekday_P520U3I2Ook8CJ9q',\n",
       " 'weekday_QTxpUUMJGDBu6eeV',\n",
       " 'weekday_Ue1fjVehIbgK9OUJ',\n",
       " 'weekday_quAfaIM1towGoxcf'}"
      ]
     },
     "execution_count": 25,
     "metadata": {},
     "output_type": "execute_result"
    }
   ],
   "source": [
    "# See all columns\n",
    "set(data.columns)"
   ]
  },
  {
   "cell_type": "code",
   "execution_count": 26,
   "id": "293cb33b-6689-4243-9f63-597ebbc02060",
   "metadata": {},
   "outputs": [],
   "source": [
    "# Save\n",
    "data.to_csv('/home/fesc/dddex/PatientScheduling/Data/data.csv', sep=',', index=False)"
   ]
  },
  {
   "cell_type": "code",
   "execution_count": null,
   "id": "3ddafdd5-6791-40bf-a69e-e297bdd215e0",
   "metadata": {},
   "outputs": [],
   "source": []
  }
 ],
 "metadata": {
  "kernelspec": {
   "display_name": "dddex",
   "language": "python",
   "name": "dddex"
  },
  "language_info": {
   "codemirror_mode": {
    "name": "ipython",
    "version": 3
   },
   "file_extension": ".py",
   "mimetype": "text/x-python",
   "name": "python",
   "nbconvert_exporter": "python",
   "pygments_lexer": "ipython3",
   "version": "3.8.16"
  }
 },
 "nbformat": 4,
 "nbformat_minor": 5
}
