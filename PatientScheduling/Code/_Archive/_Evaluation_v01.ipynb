{
 "cells": [
  {
   "cell_type": "code",
   "execution_count": 1,
   "id": "3d6a0fad-f1db-4835-b5a4-e1a975ee45f0",
   "metadata": {},
   "outputs": [],
   "source": [
    "# Import utils\n",
    "import numpy as np\n",
    "import pandas as pd\n",
    "import math\n",
    "import time\n",
    "import json\n",
    "import pyreadr\n",
    "import pickle\n",
    "from joblib import dump, load, Parallel, delayed\n",
    "import os\n",
    "import copy\n",
    "import datetime as dt\n",
    "from tqdm import tqdm\n",
    "import seaborn as sns\n",
    "import matplotlib as mpl\n",
    "import matplotlib.pyplot as plt\n",
    "from plotnine import *\n",
    "from scipy import stats\n",
    "\n",
    "\n",
    "# Import ML models\n",
    "import sklearn\n",
    "from sklearn.model_selection import RandomizedSearchCV\n",
    "from sklearn.model_selection import GridSearchCV\n",
    "from sklearn.model_selection import TimeSeriesSplit\n",
    "\n",
    "from lightgbm import LGBMRegressor\n",
    "from sklearn.ensemble import RandomForestRegressor\n",
    "from sklearn.neighbors import KNeighborsRegressor\n",
    "\n",
    "from dddex.levelSetKDEx_univariate import LevelSetKDEx, LevelSetKDEx_NN\n",
    "from dddex.wSAA import RandomForestWSAA, SampleAverageApproximation\n",
    "\n",
    "# Weights & Biases\n",
    "import wandb\n",
    "\n",
    "# Import Gurobi\n",
    "import gurobipy as gp\n",
    "from gurobipy import GRB\n",
    "\n",
    "# Optimization Module\n",
    "from DataDrivenPatientScheduling import WeightsModel\n",
    "from DataDrivenPatientScheduling import Experiment"
   ]
  },
  {
   "cell_type": "code",
   "execution_count": 2,
   "id": "c17bc92a-6e85-4856-850d-1f9f364d8c9c",
   "metadata": {},
   "outputs": [],
   "source": [
    "# Setup directories and model names\n",
    "directories_setup = dict(\n",
    "\n",
    "    # Paths\n",
    "    path_data = '/home/fesc/dddex/PatientScheduling/Data',\n",
    "    path_models = '/home/fesc/dddex/PatientScheduling/Data/Models',\n",
    "    path_results = '/home/fesc/dddex/PatientScheduling/Data/Results',\n",
    "    \n",
    "    # Models\n",
    "    models = dict(\n",
    "        LSx_LGBM = 'LSx_LGBM',\n",
    "        LSx_NN_LGBM = 'LSx_NN_LGBM',\n",
    "        wSAA_RF = 'wSAA_RF',\n",
    "        SAA = 'SAA'\n",
    "    )\n",
    ")\n",
    "\n",
    "# Make all experiment variables visible locally\n",
    "locals().update(directories_setup)"
   ]
  },
  {
   "cell_type": "code",
   "execution_count": 3,
   "id": "ac1e0184-27a2-4f93-b517-539a12f8d90d",
   "metadata": {},
   "outputs": [],
   "source": [
    "# Setup the experiment\n",
    "optimization_params = dict(\n",
    "\n",
    "    # Cost params\n",
    "    cost_params = [\n",
    "\n",
    "        {'CR': 0.10, 'c_waiting_time': 1, 'c_overtime': 9},\n",
    "        {'CR': 0.25, 'c_waiting_time': 1, 'c_overtime': 3},\n",
    "        {'CR': 0.50, 'c_waiting_time': 1, 'c_overtime': 1},\n",
    "        {'CR': 0.75, 'c_waiting_time': 3, 'c_overtime': 1},\n",
    "        {'CR': 0.90, 'c_waiting_time': 9, 'c_overtime': 1}\n",
    "\n",
    "    ],\n",
    "\n",
    "    # Number of scenarios\n",
    "    K = [10**1, 10**2, 10**3, 10**4],\n",
    "\n",
    "    # Time budget multiplier\n",
    "    rho = [0.85, 1, 1.15]\n",
    "\n",
    ")\n",
    "\n",
    "# Make all experiment variables visible locally\n",
    "locals().update(optimization_params)"
   ]
  },
  {
   "cell_type": "markdown",
   "id": "6ea23ac7-a142-4a71-bb9c-251aaa6ef1aa",
   "metadata": {},
   "source": [
    "# Pre-processing"
   ]
  },
  {
   "cell_type": "code",
   "execution_count": 4,
   "id": "792f4a4e-58fb-469e-bd3f-5f2176b73082",
   "metadata": {},
   "outputs": [],
   "source": [
    "# Load and combine all data\n",
    "results = pd.DataFrame()\n",
    "for K_ in K:\n",
    "    for rho_ in rho:\n",
    "        for model in models:\n",
    "            \n",
    "            # Read\n",
    "            result = pd.read_csv(path_results+'/'+model+'_K'+str(K_)+'_rho'+str(rho_)+'.csv')\n",
    "            result['model'] = copy.deepcopy(model)\n",
    "            \n",
    "            results = pd.concat([results, result])\n",
    "            \n",
    "# Finalize\n",
    "results = results.reset_index(drop=True)"
   ]
  },
  {
   "cell_type": "code",
   "execution_count": 5,
   "id": "59184957-6954-4e4e-b86c-399b85514be7",
   "metadata": {},
   "outputs": [],
   "source": [
    "# Baseline\n",
    "results = pd.merge(\n",
    "    left = results.loc[results.model != 'SAA'],\n",
    "    right = results.loc[results.model == 'SAA', \n",
    "                        ['n_scenarios', 'utilization', 'area', 'CR', 'date', 'cost', 'waiting_time', 'overtime']],\n",
    "    on = ['n_scenarios', 'utilization', 'area', 'CR', 'date'],\n",
    "    suffixes = ('', '_SAA')\n",
    ")"
   ]
  },
  {
   "cell_type": "code",
   "execution_count": 6,
   "id": "371f494e-a294-4a8e-8cf5-3e6a5b7a376e",
   "metadata": {},
   "outputs": [],
   "source": [
    "# Cost performance \n",
    "results['pq'] = results.cost / results.cost_SAA\n",
    "results.loc[results.cost == results.cost_SAA, 'pq'] = 1.0"
   ]
  },
  {
   "cell_type": "code",
   "execution_count": 42,
   "id": "24caf106-d7ce-4354-a800-27a26c645625",
   "metadata": {},
   "outputs": [],
   "source": [
    "def plotCoPres(data, figsize=(9,4), dotsize=2, display=0.95, **kwargs):\n",
    "\n",
    "    if len(data.model.unique()) > 5:\n",
    "        print('Max number of models exceeded (limited to 5 models)')\n",
    "        return None\n",
    "    \n",
    "    # Model colors\n",
    "    colors = ['blue', 'black', 'red', 'green', 'yellow']\n",
    "    positions = [0,1,2,3,4]\n",
    "    \n",
    "    # Specify limits showing at least 'upper' percent of data\n",
    "    ylim_top = data.groupby(['CR', 'model']).agg(q = ('pq', lambda x: np.quantile(x, display))).reset_index().q.max()\n",
    "    ylim_bottom = data.pq.min()*0.66\n",
    "\n",
    "    # Initialize figure / sub-plots\n",
    "    fig, axes = plt.subplots(ncols=len(data.CR.unique()), sharey=True)\n",
    "    fig.subplots_adjust(wspace=0)\n",
    "\n",
    "    # Create and iterate over sub-plots (per service level)\n",
    "    for ax, CR in zip(axes, data.CR.unique()):\n",
    "\n",
    "        # Volins (per model)\n",
    "        vp = ax.violinplot([data.pq[(data.CR==CR) & (data.model==model)] for model in data.model.unique()], \n",
    "                           positions=[positions[i] for i in range(len(data.model.unique()))], showextrema=False)\n",
    "\n",
    "        # Dots (per model)\n",
    "        dp = sns.swarmplot(ax=ax, x='model', y='pq', hue='model', data=data.loc[data.CR==CR], \n",
    "                           size=dotsize, alpha=0.33, palette=[colors[i] for i in range(len(data.model.unique()))])\n",
    "        \n",
    "        # Boxplots (per model)\n",
    "        bp = ax.boxplot(x=[data.pq[(data.CR==CR) & (data.model==model)] for model in data.model.unique()],\n",
    "                        positions=[positions[i] for i in range(len(data.model.unique()))], \n",
    "                        medianprops={'color': 'black', 'linewidth': 2.5}, \n",
    "                        widths=0.33, showfliers=False, showcaps=False, whis=0, patch_artist=True)\n",
    "\n",
    "        # Baseline (per model)\n",
    "        ax.axhline(y=1, linewidth=1, linestyle='--', color='grey')\n",
    "\n",
    "        # Color coding for violins and boxplots\n",
    "        for i in range(len(data.model.unique())):\n",
    "\n",
    "            # Violins\n",
    "            vp['bodies'][i].set_facecolor('grey')\n",
    "\n",
    "            # Boxplots\n",
    "            bp['boxes'][i].set_color(colors[i])\n",
    "            bp['boxes'][i].set_facecolor([0,0,0,0])\n",
    "            #bp['whiskers'][i].set_color(colors[i])\n",
    "            #bp['caps'][i].set_color(colors[i])\n",
    "            bp['medians'][i].set_color(colors[i])\n",
    "\n",
    "\n",
    "        # Remove x-axis ticks\n",
    "        ax.tick_params(\n",
    "            axis='x',          \n",
    "            which='both',      \n",
    "            bottom=False,      \n",
    "            labelbottom=False) \n",
    "\n",
    "        # Set axis inner axis titles\n",
    "        ax.set_xlabel(xlabel='{:.2f}'.format(CR))\n",
    "        ax.set_ylabel(ylabel='normalized cost', fontsize=10, fontweight='bold')\n",
    "        ax.xaxis.set_label_position('bottom')\n",
    "        ax.label_outer()\n",
    "\n",
    "        # Set limits\n",
    "        ax.set_ylim(bottom=0.7, top=1.1)\n",
    "\n",
    "        # Add margin\n",
    "        ax.margins(0.05) \n",
    "\n",
    "        # Remove legends per sub-plot\n",
    "        ax.get_legend().remove()\n",
    "\n",
    "\n",
    "    # Add figure legend    \n",
    "    #fig.legend(\n",
    "    #    [bp['boxes'][i] for i in range(len(data.model.unique()))], \n",
    "    #    data.model.unique(), \n",
    "    #    loc=(0.444,0.79)\n",
    "    #)\n",
    "    \n",
    "    fig.legend(\n",
    "        [bp['boxes'][i] for i in range(len(data.model.unique()))], \n",
    "        data.model.unique(), \n",
    "        bbox_to_anchor=[0.5, 0.95], \n",
    "        loc='center', ncol=len(data.model.unique())\n",
    "    )\n",
    "    \n",
    "    \n",
    "\n",
    "    # Add figure sub-title (below)\n",
    "    plt.title('Critical ratio', fontsize=10, fontweight='bold', x=-2.5, y=-0.175)\n",
    "\n",
    "    # Set size\n",
    "    fig.set_size_inches(figsize)\n",
    "\n",
    "    # Show plot\n",
    "    plt.show()\n",
    "\n",
    "    return fig"
   ]
  },
  {
   "cell_type": "markdown",
   "id": "2d4fb05d-cf2d-457c-a162-1e2fb2568551",
   "metadata": {},
   "source": [
    "# Cost performance"
   ]
  },
  {
   "cell_type": "code",
   "execution_count": 43,
   "id": "653e923c-69f7-4780-a798-7d59da6cb777",
   "metadata": {},
   "outputs": [],
   "source": [
    "sel = (results.n_scenarios == 10000) & (results.utilization == 1) & (~np.isinf(results.pq)) & (results.n_patients >= 3)\n",
    "plotData = results.loc[sel]"
   ]
  },
  {
   "cell_type": "code",
   "execution_count": 44,
   "id": "e854d413-bfe3-4b50-bfdb-decf9093a582",
   "metadata": {},
   "outputs": [
    {
     "name": "stderr",
     "output_type": "stream",
     "text": [
      "/home/fesc/.conda/envs/dddex/lib/python3.8/site-packages/seaborn/categorical.py:3544: UserWarning: 13.9% of the points cannot be placed; you may want to decrease the size of the markers or use stripplot.\n",
      "/home/fesc/.conda/envs/dddex/lib/python3.8/site-packages/seaborn/categorical.py:3544: UserWarning: 14.5% of the points cannot be placed; you may want to decrease the size of the markers or use stripplot.\n",
      "/home/fesc/.conda/envs/dddex/lib/python3.8/site-packages/seaborn/categorical.py:3544: UserWarning: 21.2% of the points cannot be placed; you may want to decrease the size of the markers or use stripplot.\n",
      "/home/fesc/.conda/envs/dddex/lib/python3.8/site-packages/seaborn/categorical.py:3544: UserWarning: 13.0% of the points cannot be placed; you may want to decrease the size of the markers or use stripplot.\n",
      "/home/fesc/.conda/envs/dddex/lib/python3.8/site-packages/seaborn/categorical.py:3544: UserWarning: 7.8% of the points cannot be placed; you may want to decrease the size of the markers or use stripplot.\n",
      "/home/fesc/.conda/envs/dddex/lib/python3.8/site-packages/seaborn/categorical.py:3544: UserWarning: 8.4% of the points cannot be placed; you may want to decrease the size of the markers or use stripplot.\n",
      "/home/fesc/.conda/envs/dddex/lib/python3.8/site-packages/seaborn/categorical.py:3544: UserWarning: 16.9% of the points cannot be placed; you may want to decrease the size of the markers or use stripplot.\n",
      "/home/fesc/.conda/envs/dddex/lib/python3.8/site-packages/seaborn/categorical.py:3544: UserWarning: 13.0% of the points cannot be placed; you may want to decrease the size of the markers or use stripplot.\n",
      "/home/fesc/.conda/envs/dddex/lib/python3.8/site-packages/seaborn/categorical.py:3544: UserWarning: 11.7% of the points cannot be placed; you may want to decrease the size of the markers or use stripplot.\n",
      "/home/fesc/.conda/envs/dddex/lib/python3.8/site-packages/seaborn/categorical.py:3544: UserWarning: 11.7% of the points cannot be placed; you may want to decrease the size of the markers or use stripplot.\n",
      "/home/fesc/.conda/envs/dddex/lib/python3.8/site-packages/seaborn/categorical.py:3544: UserWarning: 11.7% of the points cannot be placed; you may want to decrease the size of the markers or use stripplot.\n",
      "/home/fesc/.conda/envs/dddex/lib/python3.8/site-packages/seaborn/categorical.py:3544: UserWarning: 11.7% of the points cannot be placed; you may want to decrease the size of the markers or use stripplot.\n"
     ]
    },
    {
     "data": {
      "image/png": "[encoded data removed]",
      "text/plain": [
       "<Figure size 648x288 with 5 Axes>"
      ]
     },
     "metadata": {
      "needs_background": "light"
     },
     "output_type": "display_data"
    }
   ],
   "source": [
    "plot = plotCoPres(plotData, dotsize=1)"
   ]
  },
  {
   "cell_type": "code",
   "execution_count": 41,
   "id": "210632d9-daf8-4d0f-ab55-1fd4bce19326",
   "metadata": {},
   "outputs": [
    {
     "data": {
      "text/html": [
       "<div>\n",
       "<style scoped>\n",
       "    .dataframe tbody tr th:only-of-type {\n",
       "        vertical-align: middle;\n",
       "    }\n",
       "\n",
       "    .dataframe tbody tr th {\n",
       "        vertical-align: top;\n",
       "    }\n",
       "\n",
       "    .dataframe thead th {\n",
       "        text-align: right;\n",
       "    }\n",
       "</style>\n",
       "<table border=\"1\" class=\"dataframe\">\n",
       "  <thead>\n",
       "    <tr style=\"text-align: right;\">\n",
       "      <th></th>\n",
       "      <th>count</th>\n",
       "      <th>mean</th>\n",
       "      <th>std</th>\n",
       "      <th>min</th>\n",
       "      <th>25%</th>\n",
       "      <th>50%</th>\n",
       "      <th>75%</th>\n",
       "      <th>max</th>\n",
       "    </tr>\n",
       "    <tr>\n",
       "      <th>CR</th>\n",
       "      <th></th>\n",
       "      <th></th>\n",
       "      <th></th>\n",
       "      <th></th>\n",
       "      <th></th>\n",
       "      <th></th>\n",
       "      <th></th>\n",
       "      <th></th>\n",
       "    </tr>\n",
       "  </thead>\n",
       "  <tbody>\n",
       "    <tr>\n",
       "      <th>0.10</th>\n",
       "      <td>454.0</td>\n",
       "      <td>1.027084</td>\n",
       "      <td>0.881246</td>\n",
       "      <td>0.000000</td>\n",
       "      <td>0.856322</td>\n",
       "      <td>0.977538</td>\n",
       "      <td>1.011012</td>\n",
       "      <td>10.125000</td>\n",
       "    </tr>\n",
       "    <tr>\n",
       "      <th>0.25</th>\n",
       "      <td>459.0</td>\n",
       "      <td>0.913218</td>\n",
       "      <td>0.298442</td>\n",
       "      <td>0.000000</td>\n",
       "      <td>0.800000</td>\n",
       "      <td>0.944737</td>\n",
       "      <td>1.013923</td>\n",
       "      <td>3.166667</td>\n",
       "    </tr>\n",
       "    <tr>\n",
       "      <th>0.50</th>\n",
       "      <td>462.0</td>\n",
       "      <td>0.930428</td>\n",
       "      <td>0.264945</td>\n",
       "      <td>0.000000</td>\n",
       "      <td>0.800000</td>\n",
       "      <td>0.952317</td>\n",
       "      <td>1.030044</td>\n",
       "      <td>2.700000</td>\n",
       "    </tr>\n",
       "    <tr>\n",
       "      <th>0.75</th>\n",
       "      <td>462.0</td>\n",
       "      <td>0.924047</td>\n",
       "      <td>0.325410</td>\n",
       "      <td>0.000000</td>\n",
       "      <td>0.779004</td>\n",
       "      <td>0.972415</td>\n",
       "      <td>1.000000</td>\n",
       "      <td>5.363636</td>\n",
       "    </tr>\n",
       "    <tr>\n",
       "      <th>0.90</th>\n",
       "      <td>462.0</td>\n",
       "      <td>0.956996</td>\n",
       "      <td>0.777509</td>\n",
       "      <td>0.076923</td>\n",
       "      <td>0.765587</td>\n",
       "      <td>0.955921</td>\n",
       "      <td>1.000000</td>\n",
       "      <td>14.636364</td>\n",
       "    </tr>\n",
       "  </tbody>\n",
       "</table>\n",
       "</div>"
      ],
      "text/plain": [
       "      count      mean       std       min       25%       50%       75%  \\\n",
       "CR                                                                        \n",
       "0.10  454.0  1.027084  0.881246  0.000000  0.856322  0.977538  1.011012   \n",
       "0.25  459.0  0.913218  0.298442  0.000000  0.800000  0.944737  1.013923   \n",
       "0.50  462.0  0.930428  0.264945  0.000000  0.800000  0.952317  1.030044   \n",
       "0.75  462.0  0.924047  0.325410  0.000000  0.779004  0.972415  1.000000   \n",
       "0.90  462.0  0.956996  0.777509  0.076923  0.765587  0.955921  1.000000   \n",
       "\n",
       "            max  \n",
       "CR               \n",
       "0.10  10.125000  \n",
       "0.25   3.166667  \n",
       "0.50   2.700000  \n",
       "0.75   5.363636  \n",
       "0.90  14.636364  "
      ]
     },
     "execution_count": 41,
     "metadata": {},
     "output_type": "execute_result"
    }
   ],
   "source": [
    "plotData.groupby('CR').pq.describe()"
   ]
  },
  {
   "cell_type": "code",
   "execution_count": 11,
   "id": "f9e9b0d1-ddf0-4e5d-bcfb-8f742503743d",
   "metadata": {},
   "outputs": [
    {
     "data": {
      "text/plain": [
       "0.25"
      ]
     },
     "execution_count": 11,
     "metadata": {},
     "output_type": "execute_result"
    }
   ],
   "source": [
    "1/(4)"
   ]
  },
  {
   "cell_type": "code",
   "execution_count": null,
   "id": "89bff7b0-1b75-459f-afbb-ad2d43fc791c",
   "metadata": {},
   "outputs": [],
   "source": [
    "sum(np.isinf(plotData.pq))"
   ]
  },
  {
   "cell_type": "code",
   "execution_count": null,
   "id": "267bc260-c941-4972-8c2e-ed4c61388b1e",
   "metadata": {},
   "outputs": [],
   "source": []
  },
  {
   "cell_type": "markdown",
   "id": "80fd559d-9752-48e9-b3df-ff0dae1438ac",
   "metadata": {},
   "source": [
    "# Cost over scenarios"
   ]
  },
  {
   "cell_type": "code",
   "execution_count": null,
   "id": "996207bb-6689-4454-9cec-180055a0069c",
   "metadata": {},
   "outputs": [],
   "source": [
    "rho = 0.85\n",
    "CR = 0.25\n",
    "area = 'Bereich_Gastroskopie'\n",
    "sel = (results.utilization == rho) & (results.CR == CR) & (results.area == area)"
   ]
  },
  {
   "cell_type": "code",
   "execution_count": null,
   "id": "98ca347d-fb59-4425-bac6-5422fe9ac562",
   "metadata": {},
   "outputs": [],
   "source": [
    "results_ = results.loc[sel]"
   ]
  },
  {
   "cell_type": "code",
   "execution_count": null,
   "id": "16171ff4-610d-4ed2-84a3-a36e6e018220",
   "metadata": {},
   "outputs": [],
   "source": [
    "results_.loc[results_.model=='LSx_LGBM'].groupby('n_scenarios').agg({'cost': sum})"
   ]
  },
  {
   "cell_type": "code",
   "execution_count": null,
   "id": "f4c22b9d-57f9-40e3-a09c-194d43146c36",
   "metadata": {},
   "outputs": [],
   "source": []
  },
  {
   "cell_type": "code",
   "execution_count": null,
   "id": "8a542748-aed5-4ada-8975-1e737ba944ec",
   "metadata": {},
   "outputs": [],
   "source": []
  },
  {
   "cell_type": "markdown",
   "id": "d9af2252-a332-47d0-b3eb-a925209a66d3",
   "metadata": {},
   "source": [
    "# Cost over utilization"
   ]
  },
  {
   "cell_type": "code",
   "execution_count": null,
   "id": "73da6844-6675-439b-9511-61728812aa63",
   "metadata": {},
   "outputs": [],
   "source": []
  },
  {
   "cell_type": "code",
   "execution_count": null,
   "id": "cbc45c8f-2356-4d89-9649-624d870e77d1",
   "metadata": {},
   "outputs": [],
   "source": []
  },
  {
   "cell_type": "code",
   "execution_count": null,
   "id": "794d713d-dc89-48b8-8671-2c1b62a1960c",
   "metadata": {},
   "outputs": [],
   "source": []
  },
  {
   "cell_type": "code",
   "execution_count": null,
   "id": "2b028438-dd7f-40af-861c-013145ab72ec",
   "metadata": {},
   "outputs": [],
   "source": []
  },
  {
   "cell_type": "code",
   "execution_count": null,
   "id": "bae51c12-d61d-4731-b631-d7d8665af013",
   "metadata": {},
   "outputs": [],
   "source": []
  }
 ],
 "metadata": {
  "kernelspec": {
   "display_name": "dddex",
   "language": "python",
   "name": "dddex"
  },
  "language_info": {
   "codemirror_mode": {
    "name": "ipython",
    "version": 3
   },
   "file_extension": ".py",
   "mimetype": "text/x-python",
   "name": "python",
   "nbconvert_exporter": "python",
   "pygments_lexer": "ipython3",
   "version": "3.8.16"
  }
 },
 "nbformat": 4,
 "nbformat_minor": 5
}
