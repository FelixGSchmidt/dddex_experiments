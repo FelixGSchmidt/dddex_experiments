{
 "cells": [
  {
   "cell_type": "markdown",
   "id": "d6c604ae-e669-445f-8d0f-081b4074392a",
   "metadata": {},
   "source": [
    "# Init"
   ]
  },
  {
   "cell_type": "code",
   "execution_count": 1,
   "id": "53b68497-c38b-4f45-903b-988e4af47325",
   "metadata": {},
   "outputs": [],
   "source": [
    "# Import utils\n",
    "import numpy as np\n",
    "import pandas as pd\n",
    "import math\n",
    "import seaborn as sns\n",
    "import matplotlib as mpl\n",
    "import matplotlib.pyplot as plt\n",
    "from plotnine import *\n",
    "from scipy import stats\n",
    "import copy\n",
    "import time\n",
    "import datetime as dt\n",
    "import pickle\n",
    "import pyreadr\n",
    "import json\n",
    "import pickle\n",
    "from joblib import dump, load, Parallel, delayed\n",
    "import os\n",
    "import wandb\n",
    "\n",
    "from Experiment import PostProcessing"
   ]
  },
  {
   "cell_type": "code",
   "execution_count": 2,
   "id": "b730f128-d99e-49b3-bfea-0d64d6bf0733",
   "metadata": {},
   "outputs": [],
   "source": [
    "# Setup\n",
    "evaluation_setup = {\n",
    "\n",
    "    'home_dir': '/home/fesc/dddex/Newsvendor',\n",
    "    'results_dir': './Data',\n",
    "    'plot_dir': './Plots',\n",
    "    \n",
    "    # Experiment data sets:\n",
    "    'Bakery': 'Bakery',\n",
    "    'M5': 'M5',\n",
    "    'SID': 'SID'\n",
    "\n",
    "}\n",
    "\n",
    "# Make available\n",
    "locals().update(evaluation_setup)\n",
    "\n",
    "# Set working directory\n",
    "os.chdir(home_dir)"
   ]
  },
  {
   "cell_type": "markdown",
   "id": "2ef7e51b-f2ff-47ff-9288-c5cc75827c30",
   "metadata": {},
   "source": [
    "# Download latest results from Weights & Biases"
   ]
  },
  {
   "cell_type": "code",
   "execution_count": 3,
   "id": "17f561c8-4ea3-419a-8cdb-d25b6d897772",
   "metadata": {},
   "outputs": [
    {
     "name": "stderr",
     "output_type": "stream",
     "text": [
      "Failed to detect the name of this notebook, you can set it manually with the WANDB_NOTEBOOK_NAME environment variable to enable code saving.\n",
      "\u001b[34m\u001b[1mwandb\u001b[0m: Currently logged in as: \u001b[33mfelix-g-schmidt\u001b[0m (\u001b[33md3wue\u001b[0m). Use \u001b[1m`wandb login --relogin`\u001b[0m to force relogin\n"
     ]
    }
   ],
   "source": [
    "# Login and connect to weights & biases\n",
    "wandb.login()\n",
    "api = wandb.Api()"
   ]
  },
  {
   "cell_type": "code",
   "execution_count": 4,
   "id": "3497cc51-7efc-4bc6-bf86-a7c8fd505043",
   "metadata": {},
   "outputs": [],
   "source": [
    "# Initialize post processing module\n",
    "postproc = PostProcessing()"
   ]
  },
  {
   "cell_type": "code",
   "execution_count": 6,
   "id": "af736083-d9ae-43ae-8872-d96b19f9438a",
   "metadata": {},
   "outputs": [
    {
     "name": "stderr",
     "output_type": "stream",
     "text": [
      "\u001b[34m\u001b[1mwandb\u001b[0m:   21 of 21 files downloaded.  \n",
      "\u001b[34m\u001b[1mwandb\u001b[0m: Downloading large artifact decisionData:latest, 2590.21MB. 21 files... \n",
      "\u001b[34m\u001b[1mwandb\u001b[0m:   21 of 21 files downloaded.  \n",
      "Done. 0:0:0.2\n",
      "\u001b[34m\u001b[1mwandb\u001b[0m:   21 of 21 files downloaded.  \n",
      "\u001b[34m\u001b[1mwandb\u001b[0m: Downloading large artifact decisionData:latest, 592.99MB. 21 files... \n",
      "\u001b[34m\u001b[1mwandb\u001b[0m:   21 of 21 files downloaded.  \n",
      "Done. 0:0:0.1\n",
      "\u001b[34m\u001b[1mwandb\u001b[0m:   5 of 5 files downloaded.  \n",
      "\u001b[34m\u001b[1mwandb\u001b[0m: Downloading large artifact decisionData:latest, 4498.19MB. 5 files... \n",
      "\u001b[34m\u001b[1mwandb\u001b[0m:   5 of 5 files downloaded.  \n",
      "Done. 0:0:33.0\n"
     ]
    }
   ],
   "source": [
    "# Get latest results from weights & biases\n",
    "postproc.get_from_wandb(\n",
    "    api=api,\n",
    "    entity=['d3wue'], \n",
    "    project=[Bakery, M5, SID], \n",
    "    artifact=['costData', 'decisionData'],\n",
    "    alias=['latest'], \n",
    "    results_dir=results_dir, \n",
    "    project_prefix=['modelling']\n",
    ")"
   ]
  },
  {
   "cell_type": "code",
   "execution_count": null,
   "id": "d6841c76-2aaa-4f58-a80f-7197ef168b6d",
   "metadata": {},
   "outputs": [],
   "source": []
  },
  {
   "cell_type": "code",
   "execution_count": null,
   "id": "043dbc57-e83a-4807-865d-5d1203e6cf01",
   "metadata": {},
   "outputs": [],
   "source": []
  },
  {
   "cell_type": "markdown",
   "id": "65b16942-a4ba-4653-a39f-86ae1b6d1b22",
   "metadata": {},
   "source": [
    "# Aggregate results"
   ]
  },
  {
   "cell_type": "code",
   "execution_count": 6,
   "id": "6379ce8a-379a-4fca-9d0e-853a1ac8882b",
   "metadata": {},
   "outputs": [],
   "source": [
    "# Initialize post processing module\n",
    "postproc = PostProcessing()"
   ]
  },
  {
   "cell_type": "code",
   "execution_count": 7,
   "id": "f5bf4ad0-39a0-4119-ae80-e0209fd948b7",
   "metadata": {},
   "outputs": [],
   "source": [
    "results_Bakery = postproc.aggregate(path=results_dir+'/'+Bakery+'/costData', remove_files=True, save_results=True)\n",
    "results_M5 = postproc.aggregate(path=results_dir+'/'+M5+'/costData', remove_files=True, save_results=True)\n",
    "results_SID = postproc.aggregate(path=results_dir+'/'+SID+'/costData', remove_files=True, save_results=True)"
   ]
  },
  {
   "cell_type": "code",
   "execution_count": null,
   "id": "ca6c1c53-8f43-4962-a779-7c05ac8efe52",
   "metadata": {},
   "outputs": [],
   "source": []
  },
  {
   "cell_type": "code",
   "execution_count": null,
   "id": "70198829-ba0c-47e9-a9e1-2e7954d84a41",
   "metadata": {},
   "outputs": [],
   "source": []
  },
  {
   "cell_type": "code",
   "execution_count": null,
   "id": "0323b568-cb7c-4e30-9632-d0edd79a7094",
   "metadata": {},
   "outputs": [],
   "source": []
  },
  {
   "cell_type": "code",
   "execution_count": null,
   "id": "8431deb9-85e2-4293-b7ae-aa20663b6932",
   "metadata": {},
   "outputs": [],
   "source": []
  },
  {
   "cell_type": "code",
   "execution_count": null,
   "id": "8e73780a-d78b-4668-8d3d-fb89723774a3",
   "metadata": {},
   "outputs": [],
   "source": []
  },
  {
   "cell_type": "code",
   "execution_count": null,
   "id": "3e1763a5-fca4-4ff6-85f6-ee220c160b02",
   "metadata": {},
   "outputs": [],
   "source": []
  },
  {
   "cell_type": "code",
   "execution_count": null,
   "id": "fd454112-224e-4bcc-b684-bc4b8d8caa7b",
   "metadata": {},
   "outputs": [],
   "source": []
  }
 ],
 "metadata": {
  "kernelspec": {
   "display_name": "dddex",
   "language": "python",
   "name": "dddex"
  },
  "language_info": {
   "codemirror_mode": {
    "name": "ipython",
    "version": 3
   },
   "file_extension": ".py",
   "mimetype": "text/x-python",
   "name": "python",
   "nbconvert_exporter": "python",
   "pygments_lexer": "ipython3",
   "version": "3.8.16"
  },
  "toc-autonumbering": false,
  "toc-showcode": false,
  "toc-showmarkdowntxt": false,
  "toc-showtags": false
 },
 "nbformat": 4,
 "nbformat_minor": 5
}
