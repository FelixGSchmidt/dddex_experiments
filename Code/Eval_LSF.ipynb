{
 "cells": [
  {
   "cell_type": "markdown",
   "id": "d6c604ae-e669-445f-8d0f-081b4074392a",
   "metadata": {},
   "source": [
    "# Init"
   ]
  },
  {
   "cell_type": "code",
   "execution_count": 97,
   "id": "53b68497-c38b-4f45-903b-988e4af47325",
   "metadata": {},
   "outputs": [],
   "source": [
    "# Import utils\n",
    "import numpy as np\n",
    "import pandas as pd\n",
    "import math\n",
    "import seaborn as sns\n",
    "import matplotlib as mpl\n",
    "import matplotlib.pyplot as plt\n",
    "from plotnine import *\n",
    "from scipy import stats\n",
    "import copy\n",
    "import time\n",
    "import datetime as dt\n",
    "import pickle\n",
    "import pyreadr\n",
    "import json\n",
    "import pickle\n",
    "from joblib import dump, load, Parallel, delayed\n",
    "import os\n",
    "import wandb"
   ]
  },
  {
   "cell_type": "code",
   "execution_count": 98,
   "id": "b730f128-d99e-49b3-bfea-0d64d6bf0733",
   "metadata": {},
   "outputs": [],
   "source": [
    "# Setup\n",
    "evaluation_setup = {\n",
    "\n",
    "    'home_dir': '/home/fesc/dddex',\n",
    "    'results_dir': './Data/Results/WandB',\n",
    "    'plot_dir': './Plots',\n",
    "    \n",
    "    # Experiment data sets:\n",
    "    'Bakery': 'Bakery',\n",
    "    'M5': 'M5',\n",
    "    'SID': 'SID'\n",
    "\n",
    "}\n",
    "\n",
    "# Make available\n",
    "locals().update(evaluation_setup)\n",
    "\n",
    "# Set working directory\n",
    "os.chdir(home_dir)"
   ]
  },
  {
   "cell_type": "markdown",
   "id": "2ef7e51b-f2ff-47ff-9288-c5cc75827c30",
   "metadata": {},
   "source": [
    "# Download latest results from Weights & Biases"
   ]
  },
  {
   "cell_type": "code",
   "execution_count": null,
   "id": "dc3086fe-fa06-4b08-8f57-2db32f22e75a",
   "metadata": {},
   "outputs": [],
   "source": [
    "# Login and connect\n",
    "wandb.login()\n",
    "api = wandb.Api()"
   ]
  },
  {
   "cell_type": "code",
   "execution_count": null,
   "id": "9988cf10-2a49-43fc-8342-f67564f5b062",
   "metadata": {},
   "outputs": [],
   "source": [
    "# Get artifacts\n",
    "costData_Bakery = api.artifact('d3wue/modelling'+Bakery+'/costData:latest')\n",
    "costData_M5 = api.artifact('d3wue/modelling'+M5+'/costData:latest')\n",
    "costData_SID = api.artifact('d3wue/modelling'+SID+'/costData:latest')\n",
    "\n",
    "decisionData_Bakery = api.artifact('d3wue/modelling'+Bakery+'/decisionData:latest')\n",
    "decisionData_M5 = api.artifact('d3wue/modelling'+M5'+/decisionData:latest')\n",
    "decisionData_SID = api.artifact('d3wue/modelling'+SID+'/decisionData:latest')"
   ]
  },
  {
   "cell_type": "code",
   "execution_count": null,
   "id": "59115040-608d-446c-94c3-d6b662d6e54e",
   "metadata": {},
   "outputs": [],
   "source": [
    "# Download\n",
    "costData_Bakery.download(root=results_dir+'/'+Bakery+'/costData')\n",
    "costData_M5.download(root=results_dir+'/'+M5+'/costData')\n",
    "costData_SID.download(root=results_dir+'/'+SID+'/costData')\n",
    "\n",
    "decisionData_Bakery.download(root=results_dir+'/'+Bakery+'/decisionData')\n",
    "decisionData_M5.download(root=results_dir+'/'+M5+'/decisionData')\n",
    "decisionData_SID.download(root=results_dir+'/'+SID+'/decisionData')"
   ]
  },
  {
   "cell_type": "markdown",
   "id": "ebbbdb91-6b89-4d0f-855f-9439ee5c893c",
   "metadata": {},
   "source": [
    "# Pre-process results"
   ]
  },
  {
   "cell_type": "code",
   "execution_count": 99,
   "id": "e36058d4-2255-4766-b803-fcafc3369c7d",
   "metadata": {},
   "outputs": [],
   "source": [
    "def aggregate_results(path, remove_files=False, save_results=True, **kwargs):\n",
    "    \n",
    "    # Get all files and combine to one data set\n",
    "    files = [f for f in os.listdir(path) if os.path.isfile(os.path.join(path, f))]\n",
    "\n",
    "    results = pd.DataFrame()\n",
    "\n",
    "    for file in files:\n",
    "        \n",
    "        if file.endswith(\".pkl\"):\n",
    "\n",
    "            with open(path+'/'+file, 'rb') as f:\n",
    "                results_ = pickle.load(f).reset_index()\n",
    "\n",
    "            results_['model'] = file.replace('.pkl', '')\n",
    "\n",
    "            results = pd.concat([results, results_])\n",
    "\n",
    "    # Extract service level\n",
    "    results['sl'] = results['decisionType'].astype('string').apply(\n",
    "        lambda s: int(s.replace('quantile_', '')) / 1000\n",
    "    )\n",
    "\n",
    "    # Extract coefficient of prescriptiveness\n",
    "    results['coPres'] = results['costs']\n",
    "    \n",
    "    # Remove all files\n",
    "    if(remove_files):\n",
    "        \n",
    "        for file in files:\n",
    "            \n",
    "            if file.endswith(\".pkl\"):\n",
    "\n",
    "                os.remove(path+'/'+file)\n",
    "    \n",
    "    # Save\n",
    "    if(save_results):\n",
    "        \n",
    "        results.to_csv(path+'/results.csv', sep=',', index=False)\n",
    "        \n",
    "    return results"
   ]
  },
  {
   "cell_type": "code",
   "execution_count": 100,
   "id": "a316cf69-fdbc-4a7a-9488-994a925ceaff",
   "metadata": {},
   "outputs": [],
   "source": [
    "results_Bakery = aggregate_results(path=results_dir+'/'+Bakery+'/costData')\n",
    "results_M5 = aggregate_results(path=results_dir+'/'+M5+'/costData')\n",
    "#results_SID = aggregate_results(path=results_dir+'/'+SID+'/costData')"
   ]
  },
  {
   "cell_type": "code",
   "execution_count": null,
   "id": "e5d326a5-f71c-4bf6-bc86-66bb76c505c7",
   "metadata": {},
   "outputs": [],
   "source": []
  },
  {
   "cell_type": "code",
   "execution_count": null,
   "id": "95f6428d-5e31-4a29-abdb-fc7231261c40",
   "metadata": {},
   "outputs": [],
   "source": []
  },
  {
   "cell_type": "code",
   "execution_count": null,
   "id": "236944b0-b5d5-4f88-972d-6326c46a4067",
   "metadata": {},
   "outputs": [],
   "source": []
  },
  {
   "cell_type": "markdown",
   "id": "9a69eb57-3be3-4ae6-89e3-c5a1b805a36f",
   "metadata": {},
   "source": [
    "# Evaluate performance"
   ]
  },
  {
   "cell_type": "code",
   "execution_count": 101,
   "id": "2d5125cf-1162-4d88-a35e-f1a9eb796ae1",
   "metadata": {},
   "outputs": [],
   "source": [
    "def plotCoPres(data, figsize=(9,4), dotsize=2, display=0.95, **kwargs):\n",
    "\n",
    "    if len(data.model.unique()) > 5:\n",
    "        print('Max number of models exceeded (limited to 5 models)')\n",
    "        return None\n",
    "    \n",
    "    # Model colors\n",
    "    colors = ['blue', 'black', 'red', 'green', 'yellow']\n",
    "    positions = [0,1,2,3,4]\n",
    "    \n",
    "    # Sepcify limits showing at least 'upper' percent of data\n",
    "    ylim_top = data.groupby(['sl', 'model']).agg(q = ('coPres', lambda x: np.quantile(x, display))).reset_index().q.max()\n",
    "    ylim_bottom = data.coPres.min()*0.66\n",
    "\n",
    "    # Initialize figure / sub-plots\n",
    "    fig, axes = plt.subplots(ncols=len(data.sl.unique()), sharey=True)\n",
    "    fig.subplots_adjust(wspace=0)\n",
    "\n",
    "    # Create and iterate over sub-plots (per service level)\n",
    "    for ax, sl in zip(axes, data.sl.unique()):\n",
    "\n",
    "        # Volins (per model)\n",
    "        vp = ax.violinplot([data.coPres[(data.sl==sl) & (data.model==model)] for model in data.model.unique()], \n",
    "                           positions=[positions[i] for i in range(len(data.model.unique()))], showextrema=False)\n",
    "\n",
    "        # Dots (per model)\n",
    "        dp = sns.swarmplot(ax=ax, x='model', y='coPres', hue='model', data=data.loc[data.sl==sl], \n",
    "                           size=dotsize, alpha=0.33, palette=[colors[i] for i in range(len(data.model.unique()))])\n",
    "        \n",
    "        # Boxplots (per model)\n",
    "        bp = ax.boxplot(x=[data.coPres[(data.sl==sl) & (data.model==model)] for model in data.model.unique()],\n",
    "                        positions=[positions[i] for i in range(len(data.model.unique()))], \n",
    "                        medianprops={'color': 'black', 'linewidth': 2.5}, \n",
    "                        widths=0.33, showfliers=False, showcaps=False, whis=0, patch_artist=True)\n",
    "\n",
    "        # Baseline (per model)\n",
    "        ax.axhline(y=1, linewidth=1, linestyle='--', color='grey')\n",
    "\n",
    "        # Color coding for violins and boxplots\n",
    "        for i in range(len(data.model.unique())):\n",
    "\n",
    "            # Violins\n",
    "            vp['bodies'][i].set_facecolor('grey')\n",
    "\n",
    "            # Boxplots\n",
    "            bp['boxes'][i].set_color(colors[i])\n",
    "            bp['boxes'][i].set_facecolor([0,0,0,0])\n",
    "            #bp['whiskers'][i].set_color(colors[i])\n",
    "            #bp['caps'][i].set_color(colors[i])\n",
    "            bp['medians'][i].set_color(colors[i])\n",
    "\n",
    "\n",
    "        # Remove x-axis ticks\n",
    "        ax.tick_params(\n",
    "            axis='x',          \n",
    "            which='both',      \n",
    "            bottom=False,      \n",
    "            labelbottom=False) \n",
    "\n",
    "        # Set axis inner axis titles\n",
    "        ax.set_xlabel(xlabel='{:.2f}'.format(sl))\n",
    "        ax.set_ylabel(ylabel='normalized cost', fontsize=10, fontweight='bold')\n",
    "        ax.xaxis.set_label_position('bottom')\n",
    "        ax.label_outer()\n",
    "\n",
    "        # Set limits\n",
    "        ax.set_ylim(bottom=ylim_bottom, top=ylim_top)\n",
    "\n",
    "        # Add margin\n",
    "        ax.margins(0.05) \n",
    "\n",
    "        # Remove legends per sub-plot\n",
    "        ax.get_legend().remove()\n",
    "\n",
    "\n",
    "    # Add figure legend    \n",
    "    #fig.legend(\n",
    "    #    [bp['boxes'][i] for i in range(len(data.model.unique()))], \n",
    "    #    data.model.unique(), \n",
    "    #    loc=(0.444,0.79)\n",
    "    #)\n",
    "    \n",
    "    fig.legend(\n",
    "        [bp['boxes'][i] for i in range(len(data.model.unique()))], \n",
    "        data.model.unique(), \n",
    "        bbox_to_anchor=[0.5, 0.95], \n",
    "        loc='center', ncol=len(data.model.unique())\n",
    "    )\n",
    "    \n",
    "    \n",
    "\n",
    "    # Add figure sub-title (below)\n",
    "    plt.title('Service level', fontsize=10, fontweight='bold', x=-2.5, y=-0.175)\n",
    "\n",
    "    # Set size\n",
    "    fig.set_size_inches(figsize)\n",
    "\n",
    "    # Show plot\n",
    "    plt.show()\n",
    "\n",
    "    return fig"
   ]
  },
  {
   "cell_type": "code",
   "execution_count": null,
   "id": "b8cfca33-d96e-407d-b1ae-141d8659a57a",
   "metadata": {},
   "outputs": [],
   "source": []
  },
  {
   "cell_type": "markdown",
   "id": "826873a3-cd4d-498a-8b3b-a81dcc577462",
   "metadata": {},
   "source": [
    "## Plot"
   ]
  },
  {
   "cell_type": "code",
   "execution_count": 102,
   "id": "0de96f0c-8300-476d-90cd-60d50f3e9013",
   "metadata": {},
   "outputs": [],
   "source": [
    "models = [\n",
    "    \n",
    "    'LSx_LGBM_combinedCV_SLTuning', \n",
    "    'LSx_NN_LGBM_combinedCV_SLTuning', \n",
    "    'WSAA_RF_SLTuning'\n",
    "    \n",
    "]\n",
    "\n",
    "sls = [0.01, 0.10, 0.25, 0.50, 0.75, 0.90, 0.99]"
   ]
  },
  {
   "cell_type": "code",
   "execution_count": 103,
   "id": "07311429-07df-45c3-8173-c5b0895f2cf4",
   "metadata": {},
   "outputs": [],
   "source": [
    "## Bakery"
   ]
  },
  {
   "cell_type": "code",
   "execution_count": 104,
   "id": "80e65d87-bddb-4656-9813-e59d3aa3ae89",
   "metadata": {},
   "outputs": [],
   "source": [
    "plotData = results_Bakery.loc[results_Bakery.model.isin(models) & results_Bakery.sl.isin(sls)]"
   ]
  },
  {
   "cell_type": "code",
   "execution_count": 105,
   "id": "96e32608-113e-4c99-84f7-9e7897be5b02",
   "metadata": {},
   "outputs": [
    {
     "data": {
      "image/png": "[encoded data removed]",
      "text/plain": [
       "<Figure size 648x288 with 7 Axes>"
      ]
     },
     "metadata": {
      "needs_background": "light"
     },
     "output_type": "display_data"
    }
   ],
   "source": [
    "plot = plotCoPres(plotData, dotsize=0.5)"
   ]
  },
  {
   "cell_type": "code",
   "execution_count": 106,
   "id": "80541645-9788-41cb-a903-6ed272243e21",
   "metadata": {},
   "outputs": [],
   "source": [
    "plot.savefig(plot_dir+'/Bakery_new.pdf')  "
   ]
  },
  {
   "cell_type": "code",
   "execution_count": 107,
   "id": "a8fb25a4-bb09-4acc-a2e0-90e808c02880",
   "metadata": {},
   "outputs": [],
   "source": [
    "## M5"
   ]
  },
  {
   "cell_type": "code",
   "execution_count": 108,
   "id": "2cc1be36-39bb-46b7-a693-c42240a05269",
   "metadata": {},
   "outputs": [],
   "source": [
    "plotData = results_M5.loc[results_M5.model.isin(models) & results_M5.sl.isin(sls)]"
   ]
  },
  {
   "cell_type": "code",
   "execution_count": 109,
   "id": "1b320b13-df2a-4e55-88a9-de1f4c612f38",
   "metadata": {},
   "outputs": [
    {
     "data": {
      "image/png": "[encoded data removed]",
      "text/plain": [
       "<Figure size 648x270 with 7 Axes>"
      ]
     },
     "metadata": {
      "needs_background": "light"
     },
     "output_type": "display_data"
    }
   ],
   "source": [
    "plot = plotCoPres(plotData, dotsize=1, figsize=(9,3.75))"
   ]
  },
  {
   "cell_type": "code",
   "execution_count": 110,
   "id": "28ef447d-3716-4d0e-b6cb-49bbbfa9763e",
   "metadata": {},
   "outputs": [],
   "source": [
    "plot.savefig(plot_dir+'/M5_new.pdf')  "
   ]
  },
  {
   "cell_type": "code",
   "execution_count": null,
   "id": "46c20abe-ef90-426c-a0d9-faf8b205ef57",
   "metadata": {},
   "outputs": [],
   "source": []
  },
  {
   "cell_type": "markdown",
   "id": "581a0015-1dfb-49cd-b890-807f945a43c2",
   "metadata": {},
   "source": [
    "## Significance of differences"
   ]
  },
  {
   "cell_type": "code",
   "execution_count": 95,
   "id": "9a0c121c-5147-4c35-a4d5-21f0d12a3c65",
   "metadata": {},
   "outputs": [],
   "source": [
    "# TODO"
   ]
  },
  {
   "cell_type": "code",
   "execution_count": null,
   "id": "1e0ecf01-e921-4292-9caf-ea8018d15b46",
   "metadata": {},
   "outputs": [],
   "source": []
  },
  {
   "cell_type": "code",
   "execution_count": null,
   "id": "2c6ad98f-c741-4874-ab6f-8ff3a9b83894",
   "metadata": {},
   "outputs": [],
   "source": []
  },
  {
   "cell_type": "code",
   "execution_count": null,
   "id": "1ec1f92d-b06f-427c-b5ea-26ebdd397246",
   "metadata": {},
   "outputs": [],
   "source": []
  },
  {
   "cell_type": "code",
   "execution_count": null,
   "id": "d9f90b3d-f25d-4d61-b1ca-f52a48f0903e",
   "metadata": {},
   "outputs": [],
   "source": []
  },
  {
   "cell_type": "markdown",
   "id": "a4fb2b03-a9f7-45dd-a99b-7e8252f8b6b8",
   "metadata": {},
   "source": [
    "# ***** ARCHIVE *****"
   ]
  },
  {
   "cell_type": "markdown",
   "id": "62414294-6d0e-4801-ac23-11de94e033e2",
   "metadata": {},
   "source": [
    "**Evaluation Functions**"
   ]
  },
  {
   "cell_type": "code",
   "execution_count": null,
   "id": "b7065bcb-c5a3-4e55-8a58-914165e4a31e",
   "metadata": {},
   "outputs": [],
   "source": [
    "class Evaluation:\n",
    "\n",
    "    def __init__(self):\n",
    "        \n",
    "        \"\"\"\n",
    "        \n",
    "        \"\"\"\n",
    "        \n",
    "       \n",
    "\n",
    "    def get_nv_cost(self, decision, actual, sl):\n",
    "        \n",
    "        cost = sl * (actual - decision) * (actual - decision >= 0) + (1-sl) * (decision - actual) * (decision - actual >= 0)\n",
    "                \n",
    "        return cost\n",
    "    \n",
    "    \n",
    "    def get_coPres(self, cost, cost_SAA):\n",
    "    \n",
    "        \"\"\"\n",
    "\n",
    "        Calculates coefficient of prescriptivess defined as cost of model / cost of SAA benchmark model\n",
    "\n",
    "        Arguments:\n",
    "\n",
    "            cost: np.array of costs of the model to benchmark\n",
    "            cost_SAA: np.array of costs of the SAA benchmark model\n",
    "\n",
    "        Returns:\n",
    "\n",
    "            coPres: coefficient of prescriptiveness\n",
    "\n",
    "        \"\"\"\n",
    "\n",
    "        coPres = np.mean(cost)/np.mean(cost_SAA)\n",
    "\n",
    "        return coPres\n",
    "\n",
    "\n",
    "\n",
    "\n",
    "    def get_mae_naive(self, ts):\n",
    "\n",
    "        \"\"\"\n",
    "\n",
    "        Function to caluclate the MAE of a naive, one-steap ahead forecast of an ordered time series\n",
    "\n",
    "        Arguments:\n",
    "\n",
    "            ts: ordered time series\n",
    "\n",
    "        Values: \n",
    "\n",
    "            mae_navie: MAE of a naive, one-steap ahead forecast\n",
    "\n",
    "        \"\"\"\n",
    "\n",
    "        mae_naive = np.mean(abs(ts - ts.shift(1)))\n",
    "\n",
    "\n",
    "        return mae_naive\n",
    "\n",
    "\n",
    "\n",
    "    def get_spl(self, p, preds, actuals, mae_naive):\n",
    "\n",
    "        \"\"\"\n",
    "\n",
    "        Function to calculate the Scaled Pinball Loss (SPL) for a traget percentile over predicted and actual test observations, \n",
    "        given the MAE of the in-sample naive, one-step ahead forecast\n",
    "\n",
    "        Arguments:\n",
    "\n",
    "            p: target percentile\n",
    "            preds: series of predicted test observations\n",
    "            actuals: series of actual test observations\n",
    "            mae_naive: MAE of the in-sample naive, one-step ahead forecast\n",
    "\n",
    "        Values: \n",
    "\n",
    "            spl: Scaled Pinball Loss (SPL)\n",
    "\n",
    "        \"\"\"\n",
    "\n",
    "        pl = np.mean(p * (actuals - preds) * (actuals - preds >= 0) + (1-p) * (preds - actuals) * (preds - actuals >= 0))\n",
    "        spl = pl / mae_naive\n",
    "\n",
    "        return spl\n",
    "\n",
    "\n",
    "\n",
    "\n",
    "    def eval_results(self, data, **kwargs):\n",
    "\n",
    "        \"\"\"\n",
    "\n",
    "        Evaluate Scaled Pinball Loss (SPL) over items and target percentiles in the data provided\n",
    "\n",
    "        \"\"\"\n",
    "\n",
    "        # Set or update defaults\n",
    "        params = {\n",
    "\n",
    "            'data_name': '<dataset>',\n",
    "            'model_name': '<model>',\n",
    "            'predictions_name': 'quantile_',\n",
    "            'actuals_name': 'actuals',\n",
    "            'train_test_label_name': 'label',\n",
    "            'sort_by': ['id','dayIndex'],\n",
    "            'dayIndex': 'dayIndex',\n",
    "            'group_by': ['id'],\n",
    "            'percentile_denom': 1000\n",
    "\n",
    "        }  \n",
    "\n",
    "        params.update(kwargs)\n",
    "\n",
    "        # Get all percentiles for which results should be obtained\n",
    "        percentiles = [{'name': i, 'p': int(i.replace(params['predictions_name'], ''))/params['percentile_denom']} \n",
    "                       for i in data.columns if i.startswith(params['predictions_name'])]\n",
    "\n",
    "        # Initialize results\n",
    "        results = pd.DataFrame()\n",
    "\n",
    "        # Iterate over all target percentiles and calculate SPL for each item\n",
    "        for percentile in percentiles:\n",
    "\n",
    "            result = data.sort_values(params['sort_by']).groupby(params['group_by']).apply(\n",
    "\n",
    "                lambda df: \n",
    "\n",
    "                    pd.Series({\n",
    "\n",
    "                        'spl':\n",
    "\n",
    "                            get_spl(p=percentile['p'], \n",
    "                                    preds=df[percentile['name']][df[params['train_test_label_name']]=='test'], \n",
    "                                    actuals=df[params['actuals_name']][df[params['train_test_label_name']]=='test'], \n",
    "                                    mae_naive=get_mae_naive(df[params['actuals_name']][df[params['train_test_label_name']]=='train'])),\n",
    "                        'p': \n",
    "                            percentile['p']\n",
    "\n",
    "                    })\n",
    "            ).reset_index()\n",
    "\n",
    "            results = pd.concat([results,result])\n",
    "\n",
    "        # Add name of the data set and model\n",
    "        results['dataset'] = params['data_name']\n",
    "        results['model'] = params['model_name']\n",
    "\n",
    "        return results    "
   ]
  },
  {
   "cell_type": "markdown",
   "id": "c55beb6b-1606-48b2-9aae-c2b8b3194a91",
   "metadata": {},
   "source": [
    "**Load data sets and prepare evaluation**"
   ]
  },
  {
   "cell_type": "code",
   "execution_count": null,
   "id": "3c39075e-5702-402d-b1c0-f2c16743c213",
   "metadata": {},
   "outputs": [],
   "source": [
    "ev = Evaluation()"
   ]
  },
  {
   "cell_type": "markdown",
   "id": "c27555cf-4148-4e14-8a21-a8d0384429a3",
   "metadata": {},
   "source": [
    "**>> Bakery data sets**"
   ]
  },
  {
   "cell_type": "code",
   "execution_count": null,
   "id": "22cf2fbd-dbac-4690-ae41-6ae9b9c273e1",
   "metadata": {},
   "outputs": [],
   "source": [
    "# Load data sets\n",
    "Bakery_LSF = pd.read_csv('/home/kagu/bakery_results/bakery_LSx_LGBM.csv')\n",
    "Bakery_LSF_kNN = pd.read_csv('/home/kagu/bakery_results/bakery_LSx_kNN_LGBM.csv')\n",
    "Bakery_LSF_wkNN= pd.read_csv('/home/kagu/bakery_results/bakery_LSx_kNN_distanceWeights_LGBM.csv')\n",
    "Bakery_LSF_RF = pd.read_csv('/home/kagu/bakery_results/bakery_LSx_RF.csv')\n",
    "Bakery_wSAA_RF = pd.read_csv('/home/kagu/bakery_results/bakery_wSAA_RF.csv')\n",
    "Bakery_SAA = pd.read_csv('/home/kagu/bakery_results/bakery_SAA_perID.csv')"
   ]
  },
  {
   "cell_type": "code",
   "execution_count": null,
   "id": "5bacb321-bd67-441e-a71a-b56004ec96d9",
   "metadata": {},
   "outputs": [],
   "source": [
    "# Prepare results: LSF\n",
    "Bakery_LSF_results = pd.wide_to_long(\n",
    "    Bakery_LSF[Bakery_LSF.label=='test'], \n",
    "    stubnames=['quantile'], \n",
    "    i=['id', 'dayIndex'], \n",
    "    j='sl', sep='_'\n",
    ").reset_index()[\n",
    "    ['id', 'dayIndex', 'sl', 'quantile', 'actuals']\n",
    "].rename(columns={'quantile': 'decision'})\n",
    "\n",
    "Bakery_LSF_results['model'] = 'LSF'\n",
    "Bakery_LSF_results['sl'] = Bakery_LSF_results.sl / 1000 # SL are encoded and need to be brought back to decimal format"
   ]
  },
  {
   "cell_type": "code",
   "execution_count": null,
   "id": "d5445ad3-71f0-4f3f-91fa-7bd88b7247ae",
   "metadata": {},
   "outputs": [],
   "source": [
    "# Prepare results: LSF kNN\n",
    "Bakery_LSF_kNN_results = pd.wide_to_long(\n",
    "    Bakery_LSF_kNN[Bakery_LSF_kNN.label=='test'], \n",
    "    stubnames=['quantile'], \n",
    "    i=['id', 'dayIndex'], \n",
    "    j='sl', sep='_'\n",
    ").reset_index()[\n",
    "    ['id', 'dayIndex', 'sl', 'quantile', 'actuals']\n",
    "].rename(columns={'quantile': 'decision'})\n",
    "\n",
    "Bakery_LSF_kNN_results['model'] = 'LSF kNN'\n",
    "Bakery_LSF_kNN_results['sl'] = Bakery_LSF_kNN_results.sl / 1000 # SL are encoded and need to be brought back to decimal format"
   ]
  },
  {
   "cell_type": "code",
   "execution_count": null,
   "id": "e534da39-5eec-4ef0-89ee-e6209bae6a54",
   "metadata": {},
   "outputs": [],
   "source": [
    "# Prepare results: LSF w kNN\n",
    "Bakery_LSF_wkNN_results = Bakery_LSF_wkNN[Bakery_LSF_wkNN.label=='test'][\n",
    "    ['id', 'dayIndex', 'decisionType', 'decisions', 'actuals']].rename(\n",
    "    columns={'decisionType': 'sl', 'decisions': 'decision'})\n",
    "\n",
    "Bakery_LSF_wkNN_results['model'] = 'LSF wkNN'"
   ]
  },
  {
   "cell_type": "code",
   "execution_count": null,
   "id": "e6cb0d6c-6b0c-4580-81ab-16a7780fa272",
   "metadata": {},
   "outputs": [],
   "source": [
    "# Prepare results: LSF RF\n",
    "Bakery_LSF_RF_results = Bakery_LSF_RF[Bakery_LSF_RF.label=='test'][\n",
    "    ['id', 'dayIndex', 'decisionType', 'decisions', 'actuals']].rename(\n",
    "    columns={'decisionType': 'sl', 'decisions': 'decision'})\n",
    "\n",
    "Bakery_LSF_RF_results['model'] = 'LSF RF'"
   ]
  },
  {
   "cell_type": "code",
   "execution_count": null,
   "id": "5a57cc88-d101-400e-9517-5a006f9bce24",
   "metadata": {},
   "outputs": [],
   "source": [
    "# Prepare results: wSAA RF\n",
    "Bakery_wSAA_RF_results = pd.wide_to_long(\n",
    "    Bakery_wSAA_RF[Bakery_wSAA_RF.label=='test'], \n",
    "    stubnames=['quantile'], \n",
    "    i=['id', 'dayIndex'], \n",
    "    j='sl', sep='_'\n",
    ").reset_index()[\n",
    "    ['id', 'dayIndex', 'sl', 'quantile', 'actuals']\n",
    "].rename(columns={'quantile': 'decision'})\n",
    "\n",
    "Bakery_wSAA_RF_results['model'] = 'wSAA RF'\n",
    "Bakery_wSAA_RF_results['sl'] = Bakery_wSAA_RF_results.sl / 1000 # SL are encoded and need to be brought back to decimal format"
   ]
  },
  {
   "cell_type": "code",
   "execution_count": null,
   "id": "2d3a574c-1ce0-4a66-90f4-ed38ecfc6e96",
   "metadata": {},
   "outputs": [],
   "source": [
    "# Prepare results: SAA\n",
    "Bakery_SAA_results = pd.wide_to_long(\n",
    "    Bakery_SAA[Bakery_SAA.label=='test'], \n",
    "    stubnames=['quantile'], \n",
    "    i=['id', 'dayIndex'], \n",
    "    j='sl', sep='_'\n",
    ").reset_index()[\n",
    "    ['id', 'dayIndex', 'sl', 'quantile', 'actuals']\n",
    "].rename(columns={'quantile': 'decision'})\n",
    "\n",
    "Bakery_SAA_results['model'] = 'SAA'\n",
    "Bakery_SAA_results['sl'] = Bakery_SAA_results.sl / 1000 # SL are encoded and need to be brought back to decimal format"
   ]
  },
  {
   "cell_type": "code",
   "execution_count": null,
   "id": "debf83f0-a3e7-4cbb-852e-271b49ed7fc4",
   "metadata": {},
   "outputs": [],
   "source": [
    "# Some consistency checks\n",
    "sumCheck1 = (\n",
    "    len(Bakery_LSF.loc[Bakery_LSF.label=='test']),\n",
    "    len(Bakery_LSF_kNN.loc[Bakery_LSF_kNN.label=='test']),\n",
    "    len(Bakery_LSF_wkNN.loc[Bakery_LSF_wkNN.label=='test']),\n",
    "    len(Bakery_LSF_RF.loc[Bakery_LSF_RF.label=='test']),\n",
    "    len(Bakery_wSAA_RF.loc[Bakery_wSAA_RF.label=='test']),\n",
    "    len(Bakery_SAA.loc[Bakery_SAA.label=='test'])\n",
    ")\n",
    "\n",
    "sumCheck2 = (\n",
    "    len(Bakery_LSF.loc[Bakery_LSF.label=='test'].id.unique()),\n",
    "    len(Bakery_LSF_kNN.loc[Bakery_LSF_kNN.label=='test'].id.unique()),\n",
    "    len(Bakery_LSF_wkNN.loc[Bakery_LSF_wkNN.label=='test'].id.unique()),\n",
    "    len(Bakery_LSF_RF.loc[Bakery_LSF_RF.label=='test'].id.unique()),\n",
    "    len(Bakery_wSAA_RF.loc[Bakery_wSAA_RF.label=='test'].id.unique()),\n",
    "    len(Bakery_SAA.loc[Bakery_SAA.label=='test'].id.unique())\n",
    ")\n",
    "\n",
    "sumCheck3 = (\n",
    "    len(Bakery_LSF.loc[Bakery_LSF.label=='test'].dayIndex.unique()),\n",
    "    len(Bakery_LSF_kNN.loc[Bakery_LSF_kNN.label=='test'].dayIndex.unique()),\n",
    "    len(Bakery_LSF_wkNN.loc[Bakery_LSF_wkNN.label=='test'].dayIndex.unique()),\n",
    "    len(Bakery_LSF_RF.loc[Bakery_LSF_RF.label=='test'].dayIndex.unique()),\n",
    "    len(Bakery_wSAA_RF.loc[Bakery_wSAA_RF.label=='test'].dayIndex.unique()),\n",
    "    len(Bakery_SAA.loc[Bakery_SAA.label=='test'].dayIndex.unique())\n",
    ")\n",
    "\n",
    "sumCheck4 = (\n",
    "    len(Bakery_LSF_results.sl.unique()),\n",
    "    len(Bakery_LSF_kNN_results.sl.unique()),\n",
    "    len(Bakery_LSF_wkNN_results.sl.unique()),\n",
    "    len(Bakery_LSF_RF_results.sl.unique()),\n",
    "    len(Bakery_wSAA_RF_results.sl.unique()),\n",
    "    len(Bakery_SAA_results.sl.unique())\n",
    ")"
   ]
  },
  {
   "cell_type": "code",
   "execution_count": null,
   "id": "1ada7675-61df-4007-b16d-3f24b208b3e6",
   "metadata": {},
   "outputs": [],
   "source": [
    "sumCheck1, sumCheck2, sumCheck3, sumCheck4"
   ]
  },
  {
   "cell_type": "code",
   "execution_count": null,
   "id": "faa0a308-de02-4fc7-9e66-078eda7dae22",
   "metadata": {},
   "outputs": [],
   "source": [
    "# Combine\n",
    "Bakery_results = pd.concat([Bakery_LSF_results,\n",
    "                            Bakery_LSF_kNN_results,\n",
    "                            Bakery_LSF_wkNN_results,\n",
    "                            Bakery_LSF_RF_results,\n",
    "                            Bakery_wSAA_RF_results,\n",
    "                            Bakery_SAA_results])"
   ]
  },
  {
   "cell_type": "code",
   "execution_count": null,
   "id": "eccbf04e-5470-4945-acbe-ce5d4b582e28",
   "metadata": {},
   "outputs": [],
   "source": [
    "# Get Newsvendor costs per item and test period for each model and SL\n",
    "Bakery_results['cost'] = ev.get_nv_cost(\n",
    "    decision=Bakery_results.decision,\n",
    "    actual=Bakery_results.actuals,\n",
    "    sl=Bakery_results.sl)\n",
    "Bakery_results.head()"
   ]
  },
  {
   "cell_type": "code",
   "execution_count": null,
   "id": "28744744-aba8-4cb1-9ef7-cacb5e9e7024",
   "metadata": {},
   "outputs": [],
   "source": [
    "# Get coefficient of prescriptiveness per item for each model and sl\n",
    "Bakery = Bakery_results.loc[Bakery_results.model != 'SAA'].merge(\n",
    "    Bakery_results.loc[Bakery_results.model == 'SAA'][['sl', 'id', 'dayIndex', 'decision', 'cost']],\n",
    "    on = ['sl', 'id', 'dayIndex'],\n",
    "    suffixes = ('', '_SAA')\n",
    ").groupby(['model', 'sl', 'id']).apply(\n",
    "    lambda df: \n",
    "        pd.Series({\n",
    "            'coPres': ev.get_coPres(df.cost, df.cost_SAA)\n",
    "        })).reset_index()"
   ]
  },
  {
   "cell_type": "code",
   "execution_count": null,
   "id": "ad0c1110-5390-4985-b6ea-b9a9ebfab8a1",
   "metadata": {},
   "outputs": [],
   "source": [
    "# Some consistency checks\n",
    "len(Bakery_results) == 95 * 121 * 105 * 6, len(Bakery) == 95 * 105 * 5"
   ]
  },
  {
   "cell_type": "code",
   "execution_count": null,
   "id": "27dab590-05b4-429f-a127-14358dee0703",
   "metadata": {},
   "outputs": [],
   "source": [
    "# Save\n",
    "Bakery.to_csv( path_or_buf='/home/fesc/LSF/Data/Results/Bakery.csv', sep=',', index=False)"
   ]
  },
  {
   "cell_type": "markdown",
   "id": "1ec6de24-92ba-4f2f-a07e-c9b2d8b9a174",
   "metadata": {},
   "source": [
    "**>> SID data sets**"
   ]
  },
  {
   "cell_type": "code",
   "execution_count": null,
   "id": "9e0c9186-6122-478d-8c0f-614f6ea03e6f",
   "metadata": {},
   "outputs": [],
   "source": [
    "# Load data sets\n",
    "SID_LSF = pd.read_csv('/home/kagu/SID_results/SID_LSF.csv')\n",
    "SID_LSF_kNN\t= pd.read_csv('/home/kagu/SID_results/SID_LSF_kNN.csv')\n",
    "SID_LSF_RF = pd.read_csv('/home/kagu/SID_results/SID_LSx_RF.csv')\n",
    "SID_wSAA_RF = pd.read_csv('/home/kagu/SID_results/SID_wSAA_RF.csv')\n",
    "SID_SAA = pd.read_csv('/home/kagu/SID_results/SID_SAA_perID.csv')"
   ]
  },
  {
   "cell_type": "code",
   "execution_count": null,
   "id": "8208bb5a-dfed-45d2-b1fe-516bd7abb502",
   "metadata": {},
   "outputs": [],
   "source": [
    "# Prepare results: LSF\n",
    "SID_LSF_results = pd.wide_to_long(\n",
    "    SID_LSF[SID_LSF.label=='test'], \n",
    "    stubnames=['quantile'], \n",
    "    i=['id', 'dayIndex'], \n",
    "    j='sl', sep='_'\n",
    ").reset_index()[\n",
    "    ['id', 'dayIndex', 'sl', 'quantile', 'actuals']\n",
    "].rename(columns={'quantile': 'decision'})\n",
    "\n",
    "SID_LSF_results['model'] = 'LSF'\n",
    "SID_LSF_results['sl'] = SID_LSF_results.sl / 1000 # SL are encoded and need to be brought back to decimal format"
   ]
  },
  {
   "cell_type": "code",
   "execution_count": null,
   "id": "e93cc0ab-09d9-4225-a094-81bf2d7d93ab",
   "metadata": {},
   "outputs": [],
   "source": [
    "# Prepare results: LSF kNN\n",
    "SID_LSF_kNN_results = pd.wide_to_long(\n",
    "    SID_LSF_kNN[SID_LSF_kNN.label=='test'], \n",
    "    stubnames=['quantile'], \n",
    "    i=['id', 'dayIndex'], \n",
    "    j='sl', sep='_'\n",
    ").reset_index()[\n",
    "    ['id', 'dayIndex', 'sl', 'quantile', 'actuals']\n",
    "].rename(columns={'quantile': 'decision'})\n",
    "\n",
    "SID_LSF_kNN_results['model'] = 'LSF kNN'\n",
    "SID_LSF_kNN_results['sl'] = SID_LSF_kNN_results.sl / 1000 # SL are encoded and need to be brought back to decimal format"
   ]
  },
  {
   "cell_type": "code",
   "execution_count": null,
   "id": "65ddd2b0-b272-4a70-a23d-d1f1d3ae3c1b",
   "metadata": {},
   "outputs": [],
   "source": [
    "# Prepare results: LSF RF\n",
    "SID_LSF_RF_results = SID_LSF_RF[SID_LSF_RF.label=='test'][\n",
    "    ['id', 'dayIndex', 'decisionType', 'decisions', 'actuals']].rename(\n",
    "    columns={'decisionType': 'sl', 'decisions': 'decision'})\n",
    "\n",
    "SID_LSF_RF_results['model'] = 'LSF RF'"
   ]
  },
  {
   "cell_type": "code",
   "execution_count": null,
   "id": "72142e6f-118b-4960-b870-65c125eed241",
   "metadata": {},
   "outputs": [],
   "source": [
    "# Prepare results: wSAA RF\n",
    "SID_wSAA_RF_results = pd.wide_to_long(\n",
    "    SID_wSAA_RF[SID_wSAA_RF.label=='test'], \n",
    "    stubnames=['quantile'], \n",
    "    i=['id', 'dayIndex'], \n",
    "    j='sl', sep='_'\n",
    ").reset_index()[\n",
    "    ['id', 'dayIndex', 'sl', 'quantile', 'demand']\n",
    "].rename(columns={'quantile': 'decision', 'demand': 'actuals'})\n",
    "\n",
    "SID_wSAA_RF_results['model'] = 'wSAA RF'\n",
    "SID_wSAA_RF_results['sl'] = SID_wSAA_RF_results.sl / 1000 # SL are encoded and need to be brought back to decimal format"
   ]
  },
  {
   "cell_type": "code",
   "execution_count": null,
   "id": "1548755b-ad46-4013-b2c9-b12454644bc8",
   "metadata": {},
   "outputs": [],
   "source": [
    "# Prepare results: SAA\n",
    "SID_SAA_results = pd.wide_to_long(\n",
    "    SID_SAA[SID_SAA.label=='test'], \n",
    "    stubnames=['quantile'], \n",
    "    i=['id', 'dayIndex'], \n",
    "    j='sl', sep='_'\n",
    ").reset_index()[\n",
    "    ['id', 'dayIndex', 'sl', 'quantile', 'actuals']\n",
    "].rename(columns={'quantile': 'decision'})\n",
    "\n",
    "SID_SAA_results['model'] = 'SAA'\n",
    "SID_SAA_results['sl'] = SID_SAA_results.sl / 1000 # SL are encoded and need to be brought back to decimal format"
   ]
  },
  {
   "cell_type": "code",
   "execution_count": null,
   "id": "555be82e-377e-437a-afad-ca3fd9857d2f",
   "metadata": {},
   "outputs": [],
   "source": [
    "# Some consistency checks\n",
    "sumCheck1 = (\n",
    "    len(SID_LSF.loc[SID_LSF.label=='test']),\n",
    "    len(SID_LSF_kNN.loc[SID_LSF_kNN.label=='test']),\n",
    "    len(SID_LSF_RF.loc[SID_LSF_RF.label=='test']),\n",
    "    len(SID_wSAA_RF.loc[SID_wSAA_RF.label=='test']),\n",
    "    len(SID_SAA.loc[SID_SAA.label=='test'])\n",
    ")\n",
    "\n",
    "sumCheck2 = (\n",
    "    len(SID_LSF.loc[SID_LSF.label=='test'].id.unique()),\n",
    "    len(SID_LSF_kNN.loc[SID_LSF_kNN.label=='test'].id.unique()),\n",
    "    len(SID_LSF_RF.loc[SID_LSF_RF.label=='test'].id.unique()),\n",
    "    len(SID_wSAA_RF.loc[SID_wSAA_RF.label=='test'].id.unique()),\n",
    "    len(SID_SAA.loc[SID_SAA.label=='test'].id.unique())\n",
    ")\n",
    "\n",
    "sumCheck3 = (\n",
    "    len(SID_LSF.loc[SID_LSF.label=='test'].dayIndex.unique()),\n",
    "    len(SID_LSF_kNN.loc[SID_LSF_kNN.label=='test'].dayIndex.unique()),\n",
    "    len(SID_LSF_RF.loc[SID_LSF_RF.label=='test'].dayIndex.unique()),\n",
    "    len(SID_wSAA_RF.loc[SID_wSAA_RF.label=='test'].dayIndex.unique()),\n",
    "    len(SID_SAA.loc[SID_SAA.label=='test'].dayIndex.unique())\n",
    ")\n",
    "\n",
    "sumCheck4 = (\n",
    "    len(SID_LSF_results.sl.unique()),\n",
    "    len(SID_LSF_kNN_results.sl.unique()),\n",
    "    len(SID_LSF_RF_results.sl.unique()),\n",
    "    len(SID_wSAA_RF_results.sl.unique()),\n",
    "    len(SID_SAA_results.sl.unique())\n",
    ")"
   ]
  },
  {
   "cell_type": "code",
   "execution_count": null,
   "id": "ea89d3d7-bbb8-4e46-8078-41c591112648",
   "metadata": {},
   "outputs": [],
   "source": [
    "sumCheck1, sumCheck2, sumCheck3, sumCheck4"
   ]
  },
  {
   "cell_type": "code",
   "execution_count": null,
   "id": "17b13d0a-7732-4b70-bddc-d1e201130cf6",
   "metadata": {},
   "outputs": [],
   "source": [
    "# Combine\n",
    "SID_results = pd.concat([SID_LSF_results, SID_LSF_kNN_results, SID_LSF_RF_results, SID_wSAA_RF_results, SID_SAA_results])"
   ]
  },
  {
   "cell_type": "code",
   "execution_count": null,
   "id": "7ec9cb69-ccf1-4cf9-afe7-ad546ed6bad5",
   "metadata": {},
   "outputs": [],
   "source": [
    "# Get Newsvendor costs per item and test period for each model and SL\n",
    "SID_results['cost'] = ev.get_nv_cost(\n",
    "    decision=SID_results.decision,\n",
    "    actual=SID_results.actuals,\n",
    "    sl=SID_results.sl)\n",
    "SID_results.head()"
   ]
  },
  {
   "cell_type": "code",
   "execution_count": null,
   "id": "3ada0d39-339f-489b-86a8-0b5e0d67568b",
   "metadata": {},
   "outputs": [],
   "source": [
    "# Get coefficient of prescriptiveness per item for each model and sl\n",
    "SID = SID_results.loc[SID_results.model != 'SAA'].merge(\n",
    "    SID_results.loc[SID_results.model == 'SAA'][['sl', 'id', 'dayIndex', 'decision', 'cost']],\n",
    "    on = ['sl', 'id', 'dayIndex'],\n",
    "    suffixes = ('', '_SAA')\n",
    ").groupby(['model', 'sl', 'id']).apply(\n",
    "    lambda df: \n",
    "        pd.Series({\n",
    "            'coPres': ev.get_coPres(df.cost, df.cost_SAA)\n",
    "        })).reset_index()"
   ]
  },
  {
   "cell_type": "code",
   "execution_count": null,
   "id": "3bfc2bb9-aba7-4321-93d2-0a6c2fa214cb",
   "metadata": {},
   "outputs": [],
   "source": [
    "# Some consistency checks\n",
    "len(SID_results) == 500 * 182 * 105 * 5, len(SID) == 500 * 105 * 4"
   ]
  },
  {
   "cell_type": "code",
   "execution_count": null,
   "id": "d44e2f06-990e-4522-9b48-6e01deb188b3",
   "metadata": {},
   "outputs": [],
   "source": [
    "# Save\n",
    "SID.to_csv( path_or_buf='/home/fesc/LSF/Data/Results/SID.csv', sep=',', index=False)"
   ]
  },
  {
   "cell_type": "markdown",
   "id": "166cfb05-178f-4578-b022-b4333a5d4aa9",
   "metadata": {},
   "source": [
    "**>> M5 data sets**"
   ]
  },
  {
   "cell_type": "code",
   "execution_count": null,
   "id": "56514d4a-0e8e-4abc-8903-4b549f13d790",
   "metadata": {},
   "outputs": [],
   "source": [
    "M5_LSF = pd.read_csv('/home/kagu/M5_results/M5_LSF.csv')\n",
    "M5_LSF_kNN = pd.read_csv('/home/kagu/M5_results/M5_LSF_kNN.csv')\n",
    "M5_LSF_RF = pd.read_csv('/home/kagu/bakery_results/M5_LSx_RF.csv')\n",
    "M5_wSAA_RF = pd.read_csv('/home/kagu/M5_results/M5_wSAA_RF.csv')\n",
    "M5_SAA = pd.read_csv('/home/kagu/M5_results/M5_SAA_perID.csv')"
   ]
  },
  {
   "cell_type": "code",
   "execution_count": null,
   "id": "e962e9a4-0931-4604-9b16-8a09d30ec6e4",
   "metadata": {},
   "outputs": [],
   "source": [
    "# Prepare results: LSF\n",
    "M5_LSF_results = pd.wide_to_long(\n",
    "    M5_LSF[M5_LSF.label=='test'], \n",
    "    stubnames=['quantile'], \n",
    "    i=['id', 'dayIndex'], \n",
    "    j='sl', sep='_'\n",
    ").reset_index()[\n",
    "    ['id', 'dayIndex', 'sl', 'quantile', 'actuals']\n",
    "].rename(columns={'quantile': 'decision'})\n",
    "\n",
    "M5_LSF_results['model'] = 'LSF'\n",
    "M5_LSF_results['sl'] = M5_LSF_results.sl / 1000 # SL are encoded and need to be brought back to decimal format"
   ]
  },
  {
   "cell_type": "code",
   "execution_count": null,
   "id": "ba3356b5-9186-44d1-b8db-cccabd507da4",
   "metadata": {},
   "outputs": [],
   "source": [
    "# Prepare results: LSF kNN\n",
    "M5_LSF_kNN_results = pd.wide_to_long(\n",
    "    M5_LSF_kNN[M5_LSF_kNN.label=='test'], \n",
    "    stubnames=['quantile'], \n",
    "    i=['id', 'dayIndex'], \n",
    "    j='sl', sep='_'\n",
    ").reset_index()[\n",
    "    ['id', 'dayIndex', 'sl', 'quantile', 'actuals']\n",
    "].rename(columns={'quantile': 'decision'})\n",
    "\n",
    "M5_LSF_kNN_results['model'] = 'LSF kNN'\n",
    "M5_LSF_kNN_results['sl'] = M5_LSF_kNN_results.sl / 1000 # SL are encoded and need to be brought back to decimal format"
   ]
  },
  {
   "cell_type": "code",
   "execution_count": null,
   "id": "e8fd70ed-2f2e-4e46-aae4-0c793a54dc37",
   "metadata": {},
   "outputs": [],
   "source": [
    "# Prepare results: LSF RF\n",
    "M5_LSF_RF_results = M5_LSF_RF[M5_LSF_RF.label=='test'][\n",
    "    ['id', 'dayIndex', 'decisionType', 'decisions', 'actuals']].rename(\n",
    "    columns={'decisionType': 'sl', 'decisions': 'decision'})\n",
    "\n",
    "M5_LSF_RF_results['model'] = 'LSF RF'"
   ]
  },
  {
   "cell_type": "code",
   "execution_count": null,
   "id": "dca9accb-1896-4461-afb7-79e14a81a383",
   "metadata": {},
   "outputs": [],
   "source": [
    "# Prepare results: wSAA RF\n",
    "M5_wSAA_RF_results = pd.wide_to_long(\n",
    "    M5_wSAA_RF[M5_wSAA_RF.label=='test'], \n",
    "    stubnames=['quantile'], \n",
    "    i=['id', 'dayIndex'], \n",
    "    j='sl', sep='_'\n",
    ").reset_index()[\n",
    "    ['id', 'dayIndex', 'sl', 'quantile', 'actuals']\n",
    "].rename(columns={'quantile': 'decision'})\n",
    "\n",
    "M5_wSAA_RF_results['model'] = 'wSAA RF'\n",
    "M5_wSAA_RF_results['sl'] = M5_wSAA_RF_results.sl / 1000 # SL are encoded and need to be brought back to decimal format"
   ]
  },
  {
   "cell_type": "code",
   "execution_count": null,
   "id": "8b4dacfc-78ef-4397-ba57-ac8f979276d1",
   "metadata": {},
   "outputs": [],
   "source": [
    "# Prepare results: SAA\n",
    "M5_SAA_results = pd.wide_to_long(\n",
    "    M5_SAA[M5_SAA.label=='test'], \n",
    "    stubnames=['quantile'], \n",
    "    i=['id', 'dayIndex'], \n",
    "    j='sl', sep='_'\n",
    ").reset_index()[\n",
    "    ['id', 'dayIndex', 'sl', 'quantile', 'actuals']\n",
    "].rename(columns={'quantile': 'decision'})\n",
    "\n",
    "M5_SAA_results['model'] = 'SAA'\n",
    "M5_SAA_results['sl'] = M5_SAA_results.sl / 1000 # SL are encoded and need to be brought back to decimal format"
   ]
  },
  {
   "cell_type": "code",
   "execution_count": null,
   "id": "2a849b6e-a33d-4bd2-87e8-e483fb72b7eb",
   "metadata": {},
   "outputs": [],
   "source": [
    "# Some consistency checks\n",
    "sumCheck1 = (\n",
    "    len(M5_LSF.loc[M5_LSF.label=='test']),\n",
    "    len(M5_LSF_kNN.loc[M5_LSF_kNN.label=='test']),\n",
    "    len(M5_LSF_RF.loc[M5_LSF_RF.label=='test']),\n",
    "    len(M5_wSAA_RF.loc[M5_wSAA_RF.label=='test']),\n",
    "    len(M5_SAA.loc[M5_SAA.label=='test'])\n",
    ")\n",
    "\n",
    "sumCheck2 = (\n",
    "    len(M5_LSF.loc[M5_LSF.label=='test'].id.unique()),\n",
    "    len(M5_LSF_kNN.loc[M5_LSF_kNN.label=='test'].id.unique()),\n",
    "    len(M5_LSF_RF.loc[M5_LSF_RF.label=='test'].id.unique()),\n",
    "    len(M5_wSAA_RF.loc[M5_wSAA_RF.label=='test'].id.unique()),\n",
    "    len(M5_SAA.loc[M5_SAA.label=='test'].id.unique())\n",
    ")\n",
    "\n",
    "sumCheck3 = (\n",
    "    len(M5_LSF.loc[M5_LSF.label=='test'].dayIndex.unique()),\n",
    "    len(M5_LSF_kNN.loc[M5_LSF_kNN.label=='test'].dayIndex.unique()),\n",
    "    len(M5_LSF_RF.loc[M5_LSF_RF.label=='test'].dayIndex.unique()),\n",
    "    len(M5_wSAA_RF.loc[M5_wSAA_RF.label=='test'].dayIndex.unique()),\n",
    "    len(M5_SAA.loc[M5_SAA.label=='test'].dayIndex.unique())\n",
    ")\n",
    "\n",
    "sumCheck4 = (\n",
    "    len(M5_LSF_results.sl.unique()),\n",
    "    len(M5_LSF_kNN_results.sl.unique()),\n",
    "    len(M5_LSF_RF_results.sl.unique()),\n",
    "    len(M5_wSAA_RF_results.sl.unique()),\n",
    "    len(M5_SAA_results.sl.unique())\n",
    ")"
   ]
  },
  {
   "cell_type": "code",
   "execution_count": null,
   "id": "7118cc81-674f-40da-b087-b92f5d779934",
   "metadata": {},
   "outputs": [],
   "source": [
    "sumCheck1, sumCheck2, sumCheck3, sumCheck4"
   ]
  },
  {
   "cell_type": "code",
   "execution_count": null,
   "id": "14850c7b-debc-452d-9011-29766ed0cd8d",
   "metadata": {},
   "outputs": [],
   "source": [
    "# Combine\n",
    "M5_results = pd.concat([M5_LSF_results, M5_LSF_kNN_results, M5_LSF_RF_results, M5_wSAA_RF_results, M5_SAA_results])"
   ]
  },
  {
   "cell_type": "code",
   "execution_count": null,
   "id": "80ae8b56-0aeb-4186-bacd-40f32878fc25",
   "metadata": {},
   "outputs": [],
   "source": [
    "# Get Newsvendor costs per item and test period for each model and SL\n",
    "M5_results['cost'] = ev.get_nv_cost(\n",
    "    decision=M5_results.decision,\n",
    "    actual=M5_results.actuals,\n",
    "    sl=M5_results.sl)\n",
    "M5_results.head()"
   ]
  },
  {
   "cell_type": "code",
   "execution_count": null,
   "id": "0491cfe3-36b1-4069-9b3a-75e5bfc81106",
   "metadata": {},
   "outputs": [],
   "source": [
    "# Get coefficient of prescriptiveness per item for each model and sl\n",
    "M5 = M5_results.loc[M5_results.model != 'SAA'].merge(\n",
    "    M5_results.loc[M5_results.model == 'SAA'][['sl', 'id', 'dayIndex', 'decision', 'cost']],\n",
    "    on = ['sl', 'id', 'dayIndex'],\n",
    "    suffixes = ('', '_SAA')\n",
    ").groupby(['model', 'sl', 'id']).apply(\n",
    "    lambda df: \n",
    "        pd.Series({\n",
    "            'coPres': ev.get_coPres(df.cost, df.cost_SAA)\n",
    "        })).reset_index()"
   ]
  },
  {
   "cell_type": "code",
   "execution_count": null,
   "id": "637d7c44-25b6-4493-8437-22d65798817c",
   "metadata": {},
   "outputs": [],
   "source": [
    "# Some consistency checks\n",
    "len(M5_results) == 100 * 28 * 105 * 5, len(M5) == 100 * 105 * 4"
   ]
  },
  {
   "cell_type": "code",
   "execution_count": null,
   "id": "081fbcaa-5658-4339-bb7a-3d18f3cd8f6c",
   "metadata": {},
   "outputs": [],
   "source": [
    "# Save\n",
    "M5.to_csv( path_or_buf='/home/fesc/LSF/Data/Results/M5.csv', sep=',', index=False)"
   ]
  },
  {
   "cell_type": "markdown",
   "id": "836d70f9-2402-4cfd-af82-533313a9d6a7",
   "metadata": {},
   "source": [
    "**>> Yaz data sets**"
   ]
  },
  {
   "cell_type": "code",
   "execution_count": null,
   "id": "2f1bd880-b6f4-4068-8532-858257285f2d",
   "metadata": {},
   "outputs": [],
   "source": [
    "Yaz_LSF = pd.read_csv('/home/kagu/yaz_results/yaz_LSx_LGBM_rollingEvaluation.csv')\n",
    "Yaz_LSF_kNN = pd.read_csv('/home/kagu/yaz_results/yaz_LSx_kNN_LGBM_rollingEvaluation.csv')\n",
    "Yaz_wSAA_RF = pd.read_csv('/home/kagu/yaz_results/yaz_wSAA_RF_rollingEvaluation.csv')\n",
    "Yaz_SAA = pd.read_csv('/home/kagu/yaz_results/yaz_SAA_rollingEvaluation.csv')\n",
    "\n",
    "\n",
    "Yaz_LSF_kNN = Yaz_LSF_kNN.rename(columns={'runId': 'runIndex'})"
   ]
  },
  {
   "cell_type": "code",
   "execution_count": null,
   "id": "f30480a5-1750-4d2e-9e79-792d2423123b",
   "metadata": {},
   "outputs": [],
   "source": [
    "# Prepare results: LSF\n",
    "Yaz_LSF_results = Yaz_LSF[Yaz_LSF.label=='test'][\n",
    "    ['id', 'dayIndex', 'runIndex', 'decisionType', 'decisions', 'actuals']].rename(\n",
    "    columns={'decisionType': 'sl', 'decisions': 'decision'})\n",
    "\n",
    "Yaz_LSF_results['model'] = 'LSF'"
   ]
  },
  {
   "cell_type": "code",
   "execution_count": null,
   "id": "f79d8bc0-9e53-4d67-b162-46a8c27952e4",
   "metadata": {},
   "outputs": [],
   "source": [
    "# Prepare results: LSF kNN\n",
    "Yaz_LSF_kNN_results = Yaz_LSF_kNN[Yaz_LSF_kNN.label=='test'][\n",
    "    ['id', 'dayIndex', 'runIndex', 'decisionType', 'decisions', 'actuals']].rename(\n",
    "    columns={'decisionType': 'sl', 'decisions': 'decision'})\n",
    "\n",
    "Yaz_LSF_kNN_results['model'] = 'LSF kNN'"
   ]
  },
  {
   "cell_type": "code",
   "execution_count": null,
   "id": "bd397984-efce-42a0-8ee6-124feb4ae3fe",
   "metadata": {},
   "outputs": [],
   "source": [
    "# Prepare results: wSAA RF\n",
    "Yaz_wSAA_RF_results = Yaz_wSAA_RF[Yaz_wSAA_RF.label=='test'][\n",
    "    ['id', 'dayIndex', 'runIndex', 'decisionType', 'decisions', 'actuals']].rename(\n",
    "    columns={'decisionType': 'sl', 'decisions': 'decision'})\n",
    "\n",
    "Yaz_wSAA_RF_results['model'] = 'wSAA RF'"
   ]
  },
  {
   "cell_type": "code",
   "execution_count": null,
   "id": "9102cc2d-1b19-43c9-9aef-6f2df6d7a886",
   "metadata": {},
   "outputs": [],
   "source": [
    "# Prepare results: SAA\n",
    "Yaz_SAA_results = Yaz_SAA[Yaz_SAA.label=='test'][\n",
    "    ['id', 'dayIndex', 'runIndex', 'decisionType', 'decisions', 'actuals']].rename(\n",
    "    columns={'decisionType': 'sl', 'decisions': 'decision'})\n",
    "\n",
    "Yaz_SAA_results['model'] = 'SAA'"
   ]
  },
  {
   "cell_type": "code",
   "execution_count": null,
   "id": "226b1b0d-f1ea-426e-a0b4-b2be9671487d",
   "metadata": {},
   "outputs": [],
   "source": [
    "# Some consistency checks\n",
    "sumCheck1 = (\n",
    "    len(Yaz_LSF.loc[Yaz_LSF.label=='test']),\n",
    "    len(Yaz_LSF_kNN.loc[Yaz_LSF_kNN.label=='test']),\n",
    "    len(Yaz_wSAA_RF.loc[Yaz_wSAA_RF.label=='test']),\n",
    "    len(Yaz_SAA.loc[Yaz_SAA.label=='test'])\n",
    ")\n",
    "\n",
    "sumCheck2 = (\n",
    "    len(Yaz_LSF.loc[Yaz_LSF.label=='test'].id.unique()),\n",
    "    len(Yaz_LSF_kNN.loc[Yaz_LSF_kNN.label=='test'].id.unique()),\n",
    "    len(Yaz_wSAA_RF.loc[Yaz_wSAA_RF.label=='test'].id.unique()),\n",
    "    len(Yaz_SAA.loc[Yaz_SAA.label=='test'].id.unique())\n",
    ")\n",
    "\n",
    "sumCheck3 = (\n",
    "    len(Yaz_LSF.loc[Yaz_LSF.label=='test'].dayIndex.unique()),\n",
    "    len(Yaz_LSF_kNN.loc[Yaz_LSF_kNN.label=='test'].dayIndex.unique()),\n",
    "    len(Yaz_wSAA_RF.loc[Yaz_wSAA_RF.label=='test'].dayIndex.unique()),\n",
    "    len(Yaz_SAA.loc[Yaz_SAA.label=='test'].dayIndex.unique())\n",
    ")\n",
    "\n",
    "sumCheck4 = (\n",
    "    len(Yaz_LSF.loc[Yaz_LSF.label=='test'].runIndex.unique()),\n",
    "    len(Yaz_LSF_kNN.loc[Yaz_LSF_kNN.label=='test'].runIndex.unique()),\n",
    "    len(Yaz_wSAA_RF.loc[Yaz_wSAA_RF.label=='test'].runIndex.unique()),\n",
    "    len(Yaz_SAA.loc[Yaz_SAA.label=='test'].runIndex.unique())\n",
    ")\n",
    "\n",
    "sumCheck5 = (\n",
    "    len(Yaz_LSF_results.sl.unique()),\n",
    "    len(Yaz_LSF_kNN_results.sl.unique()),\n",
    "    len(Yaz_wSAA_RF_results.sl.unique()),\n",
    "    len(Yaz_SAA_results.sl.unique())\n",
    ")"
   ]
  },
  {
   "cell_type": "code",
   "execution_count": null,
   "id": "5b624d89-048a-465e-bc46-48cffe03a219",
   "metadata": {},
   "outputs": [],
   "source": [
    "sumCheck1, sumCheck2, sumCheck3, sumCheck4, sumCheck5"
   ]
  },
  {
   "cell_type": "code",
   "execution_count": null,
   "id": "65eb3e97-dfbc-4922-b73d-b0c3f3bb2a05",
   "metadata": {},
   "outputs": [],
   "source": [
    "# Combine\n",
    "Yaz_results = pd.concat([Yaz_LSF_results, Yaz_LSF_kNN_results, Yaz_wSAA_RF_results, Yaz_SAA_results])"
   ]
  },
  {
   "cell_type": "code",
   "execution_count": null,
   "id": "08f7edfb-797b-4554-8222-5d70cef915b0",
   "metadata": {},
   "outputs": [],
   "source": [
    "# Get Newsvendor costs per item and test period for each model and SL\n",
    "Yaz_results['cost'] = ev.get_nv_cost(\n",
    "    decision=Yaz_results.decision,\n",
    "    actual=Yaz_results.actuals,\n",
    "    sl=Yaz_results.sl)\n",
    "Yaz_results.head()"
   ]
  },
  {
   "cell_type": "code",
   "execution_count": null,
   "id": "a2f5eaa7-5d73-49d1-95ff-8c00a75e83e1",
   "metadata": {},
   "outputs": [],
   "source": [
    "# Get coefficient of prescriptiveness per item for each model and sl\n",
    "Yaz = Yaz_results.loc[Yaz_results.model != 'SAA'].merge(\n",
    "    Yaz_results.loc[Yaz_results.model == 'SAA'][['sl', 'id', 'dayIndex', 'runIndex', 'decision', 'cost']],\n",
    "    on = ['sl', 'id', 'dayIndex', 'runIndex'],\n",
    "    suffixes = ('', '_SAA')\n",
    ").groupby(['model', 'sl', 'id', 'runIndex']).apply(\n",
    "    lambda df: \n",
    "        pd.Series({\n",
    "            'coPres': ev.get_coPres(df.cost, df.cost_SAA)\n",
    "        })).reset_index()"
   ]
  },
  {
   "cell_type": "code",
   "execution_count": null,
   "id": "11b45866-b7a1-463f-b0c8-2b2e3785e2af",
   "metadata": {},
   "outputs": [],
   "source": [
    "# Some consistency checks\n",
    "len(Yaz_results) == 7 * 280 * 105 * 4, len(Yaz) == 7 * 20 * 105 * 3"
   ]
  },
  {
   "cell_type": "code",
   "execution_count": null,
   "id": "e4417ebf-570f-4133-920f-f2ba9707d159",
   "metadata": {},
   "outputs": [],
   "source": [
    "# Save\n",
    "Yaz.to_csv( path_or_buf='/home/fesc/LSF/Data/Results/Yaz.csv', sep=',', index=False)"
   ]
  },
  {
   "cell_type": "markdown",
   "id": "f1dbee82-1536-4873-aa25-2d170900fdc6",
   "metadata": {},
   "source": [
    "**Evaluate results**"
   ]
  },
  {
   "cell_type": "code",
   "execution_count": null,
   "id": "ee2f0721-e39c-42d5-b960-e87abdc5993e",
   "metadata": {},
   "outputs": [],
   "source": [
    "def evalCoPres(data):\n",
    "\n",
    "    # Models to compare\n",
    "    models = data.model.unique()\n",
    "    \n",
    "    # Service levels\n",
    "    sls = data.sl.unique()\n",
    "    \n",
    "    # Initialize results\n",
    "    results = []\n",
    "\n",
    "    # Iterate over service levels, models, and benchmarks\n",
    "    for sl in sls:\n",
    "        for model in models:\n",
    "            for benchmark in models[models!=model]:\n",
    "\n",
    "                # Coefficient of prescriptiveness of model and benchmark\n",
    "                coPres_model = data.loc[(data.sl == sl) & (data.model == model)].coPres\n",
    "                coPres_benchmark = data.loc[(data.sl == sl) & (data.model == benchmark)].coPres\n",
    "\n",
    "                result = {\n",
    "\n",
    "                    # Meta information\n",
    "                    'sl': sl,\n",
    "                    'model': model,\n",
    "                    'benchmark': benchmark,\n",
    "                    'n': len(coPres_model),\n",
    "\n",
    "                    # Median coefficient of prescriptiveness\n",
    "                    'model_median_coPres': np.median(coPres_model),\n",
    "                    'benchmark_median_coPres': np.median(coPres_benchmark),\n",
    "\n",
    "                    # Mean coefficient of prescriptiveness\n",
    "                    'model_mean_coPres': np.mean(coPres_model),\n",
    "                    'benchmark_mean_coPres': np.mean(coPres_benchmark),\n",
    "\n",
    "                    # Difference of median (mean) coefficient of prescriptiveness between model and benchmark\n",
    "                    'difference_median_coPres': np.median(coPres_model) - np.median(coPres_benchmark),\n",
    "                    'difference_mean_coPres': np.mean(coPres_model) - np.mean(coPres_benchmark),\n",
    "\n",
    "                    # Median (mean) of differences of coefficient of prescriptiveness between model and benchmark\n",
    "                    'mean_coPres_difference': np.median(np.array(coPres_model)-np.array(coPres_benchmark)),\n",
    "                    'median_coPres_difference': np.mean(np.array(coPres_model)-np.array(coPres_benchmark)),\n",
    "\n",
    "                    # Wilcoxon Signed Rank Sum Test, alternative: distribution of paired differences is stochastically less than a distribution symmetric about zero\n",
    "                    'pvalue_wilcoxon': stats.wilcoxon(x=coPres_model, y=coPres_benchmark, alternative='less')[1],\n",
    "\n",
    "                    # Mann-Whitney-U-Test, alternative: distribution underlying x is stochastically less than distribution underlying y\n",
    "                    'pvalue_mannwhitneyu': stats.mannwhitneyu(x=coPres_model, y=coPres_benchmark, alternative='less')[1],\n",
    "                    \n",
    "                    # Share of items where model is better than benchmark\n",
    "                    'share': sum(coPres_model.values < coPres_benchmark.values) / len(coPres_model),\n",
    "\n",
    "                }\n",
    "\n",
    "                results = results + [result]\n",
    "\n",
    "    # Results data frame\n",
    "    results = pd.DataFrame(results)\n",
    "    \n",
    "    return results"
   ]
  },
  {
   "cell_type": "code",
   "execution_count": null,
   "id": "c8f5a3a7-bd52-418d-8d36-9f9b7419e94b",
   "metadata": {},
   "outputs": [],
   "source": [
    "def plotCoPres(data, **kwargs):\n",
    "    \n",
    "    display= kwargs['display'] if 'display' in kwargs else 0.95 \n",
    "    dotsize= kwargs['dotsize'] if 'dotsize' in kwargs else 2\n",
    "\n",
    "    if len(data.model.unique()) > 5:\n",
    "        print('Max number of models exceeded (limited to 5 models)')\n",
    "        return None\n",
    "    \n",
    "    # Model colors\n",
    "    colors = ['blue', 'black', 'red', 'green', 'yellow']\n",
    "    positions = [0,1,2,3,4]\n",
    "    \n",
    "    # Sepcify limits showing at least 'upper' percent of data\n",
    "    ylim_top = data.groupby(['sl', 'model']).agg(q = ('coPres', lambda x: np.quantile(x, display))).reset_index().q.max()\n",
    "    ylim_bottom = data.coPres.min()*0.66\n",
    "\n",
    "    # Initialize figure / sub-plots\n",
    "    fig, axes = plt.subplots(ncols=len(target_sl), sharey=True)\n",
    "    fig.subplots_adjust(wspace=0)\n",
    "\n",
    "    # Create and iterate over sub-plots (per service level)\n",
    "    for ax, sl in zip(axes, data.sl.unique()):\n",
    "\n",
    "        # Volins (per model)\n",
    "        vp = ax.violinplot([data.coPres[(data.sl==sl) & (data.model==model)] for model in data.model.unique()], \n",
    "                           positions=[positions[i] for i in range(len(data.model.unique()))], showextrema=False)\n",
    "\n",
    "        # Dots (per model)\n",
    "        dp = sns.swarmplot(ax=ax, x='model', y='coPres', hue='model', data=data.loc[data.sl==sl], \n",
    "                           size=dotsize, alpha=0.33, palette=[colors[i] for i in range(len(data.model.unique()))])\n",
    "        \n",
    "        # Boxplots (per model)\n",
    "        bp = ax.boxplot(x=[data.coPres[(data.sl==sl) & (data.model==model)] for model in data.model.unique()],\n",
    "                        positions=[positions[i] for i in range(len(data.model.unique()))], medianprops={'color': 'black', 'linewidth': 2.5}, \n",
    "                        widths=0.33, showfliers=False, showcaps=False, whis=0, patch_artist=True)\n",
    "\n",
    "        # Baseline (per model)\n",
    "        ax.axhline(y=1, linewidth=1, linestyle='--', color='grey')\n",
    "\n",
    "        # Color coding for violins and boxplots\n",
    "        for i in range(len(data.model.unique())):\n",
    "\n",
    "            # Violins\n",
    "            vp['bodies'][i].set_facecolor('grey')\n",
    "\n",
    "            # Boxplots\n",
    "            bp['boxes'][i].set_color(colors[i])\n",
    "            bp['boxes'][i].set_facecolor([0,0,0,0])\n",
    "            #bp['whiskers'][i].set_color(colors[i])\n",
    "            #bp['caps'][i].set_color(colors[i])\n",
    "            bp['medians'][i].set_color(colors[i])\n",
    "\n",
    "\n",
    "        # Remove x-axis ticks\n",
    "        ax.tick_params(\n",
    "            axis='x',          \n",
    "            which='both',      \n",
    "            bottom=False,      \n",
    "            labelbottom=False) \n",
    "\n",
    "        # Set axis inner axis titles\n",
    "        ax.set_xlabel(xlabel='{:.2f}'.format(sl))\n",
    "        ax.set_ylabel(ylabel='normalized cost', fontsize=10, fontweight='bold')\n",
    "        ax.xaxis.set_label_position('bottom')\n",
    "        ax.label_outer()\n",
    "\n",
    "        # Set limits\n",
    "        ax.set_ylim(bottom=ylim_bottom, top=ylim_top)\n",
    "\n",
    "        # Add margin\n",
    "        ax.margins(0.05) \n",
    "\n",
    "        # Remove legends per sub-plot\n",
    "        ax.get_legend().remove()\n",
    "\n",
    "\n",
    "    # Add figure legend    \n",
    "    fig.legend([bp['boxes'][i] for i in range(len(data.model.unique()))], data.model.unique(), loc=(0.444,0.79))\n",
    "\n",
    "    # Add figure sub-title (below)\n",
    "    plt.title('Service level', fontsize=10, fontweight='bold', x=-2.5, y=-0.175)\n",
    "\n",
    "    # Set size\n",
    "    fig.set_size_inches((6,3.75))\n",
    "\n",
    "    # Show plot\n",
    "    plt.show()\n",
    "\n",
    "    return fig"
   ]
  },
  {
   "cell_type": "code",
   "execution_count": null,
   "id": "99d1a793-f4c5-4d69-a3fc-4e8075ac6e1f",
   "metadata": {},
   "outputs": [],
   "source": [
    "# Load results data\n",
    "Bakery = pd.read_csv('/home/fesc/LSF/Data/Results/Bakery.csv')\n",
    "SID = pd.read_csv('/home/fesc/LSF/Data/Results/SID.csv')\n",
    "M5 = pd.read_csv('/home/fesc/LSF/Data/Results/M5.csv')\n",
    "Yaz = pd.read_csv('/home/fesc/LSF/Data/Results/Yaz.csv')"
   ]
  },
  {
   "cell_type": "code",
   "execution_count": null,
   "id": "714b8bdf-6a4c-4ef7-a5c1-1209ecd2b5cc",
   "metadata": {},
   "outputs": [],
   "source": [
    "# Plot: Bakery\n",
    "target_sl = [0.01, 0.1, 0.250, 0.500, 0.750, 0.9, 0.99]\n",
    "data = Bakery.loc[(Bakery.sl.isin(target_sl)) & (Bakery.model.isin(['LSF', 'wSAA RF']))]\n",
    "plotBakery = plotCoPres(data, dotsize=2.3)\n",
    "evalBakery = evalCoPres(data)"
   ]
  },
  {
   "cell_type": "code",
   "execution_count": null,
   "id": "0e3cc835-8e30-4e55-8484-31b5ef816354",
   "metadata": {},
   "outputs": [],
   "source": [
    "# Save\n",
    "plotBakery.savefig(\"/home/fesc/LSF/Plots/Bakery.pdf\", dpi=300, bbox_inches='tight')"
   ]
  },
  {
   "cell_type": "code",
   "execution_count": null,
   "id": "00281153-5893-40da-aff6-eebd3ef8c127",
   "metadata": {},
   "outputs": [],
   "source": [
    "# See evaluation results\n",
    "evalBakery.head(5)"
   ]
  },
  {
   "cell_type": "code",
   "execution_count": null,
   "id": "10d2264c-1a10-4b8a-8a7b-acb9e7bae7fc",
   "metadata": {},
   "outputs": [],
   "source": [
    "# Plot: Bakery\n",
    "target_sl = [0.01, 0.1, 0.250, 0.500, 0.750, 0.9, 0.99]\n",
    "data = Bakery.loc[(Bakery.sl.isin(target_sl)) & (Bakery.model.isin(['LSF', 'LSF kNN', 'LSF wkNN', 'wSAA RF']))]\n",
    "plotBakery = plotCoPres(data, dotsize=1)\n",
    "evalBakery = evalCoPres(data)"
   ]
  },
  {
   "cell_type": "code",
   "execution_count": null,
   "id": "8db22c52-019d-4335-badc-32b866e21bad",
   "metadata": {},
   "outputs": [],
   "source": [
    "# Save\n",
    "plotBakery.savefig(\"/home/fesc/LSF/Plots/Bakery2.pdf\", dpi=300, bbox_inches='tight')"
   ]
  },
  {
   "cell_type": "code",
   "execution_count": null,
   "id": "2ecf55d0-3c47-40ae-88cc-bbf5238fac63",
   "metadata": {},
   "outputs": [],
   "source": [
    "# See evaluation results\n",
    "evalBakery.head(5)"
   ]
  },
  {
   "cell_type": "code",
   "execution_count": null,
   "id": "b6c8bbc8-135d-4ffd-acac-92dcd8dfd8c1",
   "metadata": {},
   "outputs": [],
   "source": [
    "# Plot: SID\n",
    "target_sl = [0.01, 0.1, 0.250, 0.500, 0.750, 0.9, 0.99]\n",
    "data = SID.loc[(SID.sl.isin(target_sl)) & (SID.model.isin(['LSF', 'wSAA RF']))]\n",
    "plotSID = plotCoPres(data, dotsize=0.66)\n",
    "evalSID = evalCoPres(data)"
   ]
  },
  {
   "cell_type": "code",
   "execution_count": null,
   "id": "b0491bf7-a11c-42d7-bbc5-aff28f7d3189",
   "metadata": {},
   "outputs": [],
   "source": [
    "# Save\n",
    "plotSID.savefig(\"/home/fesc/LSF/Plots/SID.pdf\", dpi=300, bbox_inches='tight')"
   ]
  },
  {
   "cell_type": "code",
   "execution_count": null,
   "id": "a2b522a0-71be-474d-a60c-9bd2c706efe1",
   "metadata": {},
   "outputs": [],
   "source": [
    "# See evaluation results\n",
    "evalSID.head(5)"
   ]
  },
  {
   "cell_type": "code",
   "execution_count": null,
   "id": "6f0c25b3-a65e-473b-a991-edf145300137",
   "metadata": {},
   "outputs": [],
   "source": [
    "# Plot: M5\n",
    "target_sl = [0.01, 0.1, 0.250, 0.500, 0.750, 0.9, 0.99]\n",
    "data = M5.loc[(M5.sl.isin(target_sl)) & (M5.model.isin(['LSF', 'wSAA RF']))]\n",
    "plotM5 = plotCoPres(data, dotsize=2.3)\n",
    "evalM5 = evalCoPres(data)"
   ]
  },
  {
   "cell_type": "code",
   "execution_count": null,
   "id": "24d422fc-626e-41a7-8d90-d4919784af21",
   "metadata": {},
   "outputs": [],
   "source": [
    "# Save\n",
    "plotM5.savefig(\"/home/fesc/LSF/Plots/M5.pdf\", dpi=300, bbox_inches='tight')"
   ]
  },
  {
   "cell_type": "code",
   "execution_count": null,
   "id": "511e59c7-c7e1-4524-8c85-8ccc19aad0db",
   "metadata": {},
   "outputs": [],
   "source": [
    "# See evaluation results\n",
    "evalM5.head(5)"
   ]
  },
  {
   "cell_type": "code",
   "execution_count": null,
   "id": "22f34520-e47d-4ab8-9bcd-e9cf490b72ba",
   "metadata": {},
   "outputs": [],
   "source": [
    "# Plot: Yaz\n",
    "target_sl = [0.01, 0.1, 0.250, 0.500, 0.750, 0.9, 0.99]\n",
    "data = Yaz.loc[(Yaz.sl.isin(target_sl)) & (Yaz.model.isin(['LSF', 'wSAA RF']))]\n",
    "plotYaz = plotCoPres(data, dotsize=0.66)\n",
    "evalYaz = evalCoPres(data)"
   ]
  },
  {
   "cell_type": "code",
   "execution_count": null,
   "id": "b57a5c62-e4aa-4110-b13d-41844904778c",
   "metadata": {},
   "outputs": [],
   "source": [
    "# Save\n",
    "plotYaz.savefig(\"/home/fesc/LSF/Plots/Yaz.pdf\", dpi=300, bbox_inches='tight')"
   ]
  },
  {
   "cell_type": "code",
   "execution_count": null,
   "id": "7c4d296a-b4b2-4eca-938b-f4d29167a990",
   "metadata": {},
   "outputs": [],
   "source": [
    "# See evaluation results\n",
    "evalYaz.head(5)"
   ]
  },
  {
   "cell_type": "code",
   "execution_count": null,
   "id": "9960f92e-1a27-4d76-b9d6-d8bb5f234553",
   "metadata": {},
   "outputs": [],
   "source": [
    "## Combine results table\n",
    "evalBakery['dataset'] = 'Bakery'\n",
    "evalSID['dataset'] = 'SID'\n",
    "evalM5['dataset'] = 'M5'\n",
    "evalYaz['dataset'] = 'Yaz'\n",
    "\n",
    "Results = pd.concat([evalBakery, evalSID, evalM5, evalYaz])[\n",
    "    ['dataset', 'n', 'sl', 'model', 'benchmark', \n",
    "     'model_median_coPres', 'benchmark_median_coPres', \n",
    "     'difference_median_coPres', 'pvalue_mannwhitneyu', 'share']]\n",
    "\n",
    "# Add significance codes (3=***, 2=**, 1=*, 0)\n",
    "Results['sig'] = (\n",
    "    (Results.pvalue_mannwhitneyu < 0.001)*3 + \n",
    "    ((Results.pvalue_mannwhitneyu >= 0.001) & (Results.pvalue_mannwhitneyu < 0.01))*2 + \n",
    "    ((Results.pvalue_mannwhitneyu >= 0.01) & (Results.pvalue_mannwhitneyu < 0.05))*1 + \n",
    "    (Results.pvalue_mannwhitneyu >= 0.05)*0    \n",
    ")"
   ]
  },
  {
   "cell_type": "code",
   "execution_count": null,
   "id": "18c6cfa0-df68-44ca-bfeb-8de9df71c486",
   "metadata": {},
   "outputs": [],
   "source": [
    "# Save\n",
    "Results.to_csv( path_or_buf='/home/fesc/LSF/Data/Results/Results.csv', sep=',', index=False)"
   ]
  },
  {
   "cell_type": "code",
   "execution_count": null,
   "id": "b9986d94-e0fe-4ae8-9f5e-3080881b767a",
   "metadata": {},
   "outputs": [],
   "source": [
    "# Evaluate for LSF vs. wSAA RF\n",
    "Results = Results.loc[(Results.model == 'LSF') & (Results.benchmark == 'wSAA RF')]"
   ]
  },
  {
   "cell_type": "code",
   "execution_count": null,
   "id": "61e2f0cf-6ec3-4a50-a2de-b307b7b1dac3",
   "metadata": {},
   "outputs": [],
   "source": [
    "Results = pd.melt(\n",
    "    Results, \n",
    "    id_vars = ['dataset', 'n', 'sl'], \n",
    "    value_vars = ['model_median_coPres',\n",
    "                  'benchmark_median_coPres',\n",
    "                  'difference_median_coPres',\n",
    "                  'pvalue_mannwhitneyu',\n",
    "                  'sig',\n",
    "                  'share'], \n",
    "    var_name = 'variable',\n",
    "    value_name = 'value'\n",
    ")"
   ]
  },
  {
   "cell_type": "code",
   "execution_count": null,
   "id": "556c7764-1cb7-4fc5-b5ef-dd1fc917fc45",
   "metadata": {},
   "outputs": [],
   "source": [
    "Results = Results.pivot(index=['dataset', 'n', 'variable'], columns='sl', values='value')\n",
    "Results"
   ]
  },
  {
   "cell_type": "code",
   "execution_count": null,
   "id": "260aa7fb-6e71-463e-8e1c-e7aae0cd21a8",
   "metadata": {},
   "outputs": [],
   "source": [
    "# Save\n",
    "Results.to_csv( path_or_buf='/home/fesc/LSF/Data/Results/Results.csv', sep=',', index=True)"
   ]
  },
  {
   "cell_type": "code",
   "execution_count": null,
   "id": "8d1eb071-ab96-4a8d-b238-240b9b73598c",
   "metadata": {},
   "outputs": [],
   "source": []
  },
  {
   "cell_type": "code",
   "execution_count": null,
   "id": "f5c9891e-4af4-4b3a-93ea-38e0dd6e02fb",
   "metadata": {},
   "outputs": [],
   "source": []
  },
  {
   "cell_type": "code",
   "execution_count": null,
   "id": "6beaab48-db10-4d3c-87f9-d3ec067daa3f",
   "metadata": {},
   "outputs": [],
   "source": []
  },
  {
   "cell_type": "code",
   "execution_count": null,
   "id": "da41af07-91ee-45a1-afbb-34f5862c18fb",
   "metadata": {},
   "outputs": [],
   "source": []
  },
  {
   "cell_type": "code",
   "execution_count": null,
   "id": "0f2b4401-700a-4209-b5e6-da40f90e0958",
   "metadata": {},
   "outputs": [],
   "source": []
  },
  {
   "cell_type": "code",
   "execution_count": null,
   "id": "6c40031f-111f-4f9a-8782-326bc1829af9",
   "metadata": {},
   "outputs": [],
   "source": []
  },
  {
   "cell_type": "code",
   "execution_count": null,
   "id": "0b646b8a-2829-4f6c-a1d6-8d380b6235f1",
   "metadata": {},
   "outputs": [],
   "source": []
  },
  {
   "cell_type": "code",
   "execution_count": null,
   "id": "5e5df5cb-56e0-4561-88ed-5873b4c89f2b",
   "metadata": {},
   "outputs": [],
   "source": []
  },
  {
   "cell_type": "code",
   "execution_count": null,
   "id": "3048c7d2-65b1-406d-b991-ab08692b3eff",
   "metadata": {},
   "outputs": [],
   "source": []
  },
  {
   "cell_type": "code",
   "execution_count": null,
   "id": "db92d346-cbfd-4577-81f2-b2be05f5823f",
   "metadata": {},
   "outputs": [],
   "source": []
  },
  {
   "cell_type": "code",
   "execution_count": null,
   "id": "fc7091ed-e15b-46b4-ab5f-2d7083725b7b",
   "metadata": {},
   "outputs": [],
   "source": []
  },
  {
   "cell_type": "code",
   "execution_count": null,
   "id": "17e236af-dc0b-4643-bb63-f3d6011af227",
   "metadata": {},
   "outputs": [],
   "source": []
  },
  {
   "cell_type": "code",
   "execution_count": null,
   "id": "242601f0-166a-474b-b7ad-08c629f5fce9",
   "metadata": {},
   "outputs": [],
   "source": []
  },
  {
   "cell_type": "code",
   "execution_count": null,
   "id": "a7e35b11-3b60-4cb1-95b3-cb958e96d729",
   "metadata": {},
   "outputs": [],
   "source": []
  },
  {
   "cell_type": "code",
   "execution_count": null,
   "id": "7aa8484e-02ad-464b-9d77-8956efb0f975",
   "metadata": {},
   "outputs": [],
   "source": []
  },
  {
   "cell_type": "code",
   "execution_count": null,
   "id": "fb692de2-eaa5-4894-9f6f-1c5e488b9a6c",
   "metadata": {},
   "outputs": [],
   "source": []
  },
  {
   "cell_type": "code",
   "execution_count": null,
   "id": "dac77c43-5605-45f5-bbb1-f4388c8f473b",
   "metadata": {},
   "outputs": [],
   "source": []
  },
  {
   "cell_type": "markdown",
   "id": "cb037059-2a1b-46d5-99ab-246da1502608",
   "metadata": {},
   "source": [
    "**Archive**"
   ]
  },
  {
   "cell_type": "code",
   "execution_count": null,
   "id": "d3c93982-0911-466a-bb7e-5f51636afbfb",
   "metadata": {},
   "outputs": [],
   "source": [
    "class NewsvendorSAA:\n",
    "\n",
    "    def __init__(self, cu = None, co = None,  sl = 0.5):\n",
    "        \n",
    "        \"\"\"\n",
    "        \n",
    "        cu: underrage cost\n",
    "        co: overage cost\n",
    "        sl: service level defined by cu/(cu+co)\n",
    "        \n",
    "        Note: if cu and co are provided, they override sl\n",
    "        \n",
    "        \"\"\"\n",
    "        \n",
    "        if (cu == None or co == None):\n",
    "            \n",
    "            self.sl = sl\n",
    "        \n",
    "        else:\n",
    "            \n",
    "            self.sl = cu/(co+cu)\n",
    "\n",
    "    \n",
    "    def predict(self, y_train, cu = None, co = None, sl = None):\n",
    "        \n",
    "        if (cu == None or co == None):\n",
    "            \n",
    "            if sl == None:\n",
    "            \n",
    "                sl = self.sl\n",
    "        \n",
    "        else: \n",
    "            \n",
    "            sl = cu/(cu+co)\n",
    "                       \n",
    "        decision = np.around(np.quantile(y_train, q=sl, method='inverted_cdf'), 4)\n",
    "        \n",
    "        return decision\n",
    "    \n",
    "    \n",
    "    def get_cost(self, decision, y_test, cu = None, co = None, sl = None):\n",
    "        \n",
    "        if (cu == None or co == None):\n",
    "            \n",
    "            if sl == None:\n",
    "            \n",
    "                sl = self.sl\n",
    "        \n",
    "        else: \n",
    "            \n",
    "            sl = cu/(cu+co)\n",
    "            \n",
    "        cost = sl * (y_test - decision) * (y_test - decision >= 0) + (1-sl) * (decision - y_test) * (decision - y_test >= 0)\n",
    "                \n",
    "        return cost\n",
    "    \n",
    "    \n",
    "    \n",
    "    def score(self, y_train, y_test, cu = None, co = None, sl = None):\n",
    "        \n",
    "        if (cu == None or co == None):\n",
    "            \n",
    "            if sl == None:\n",
    "            \n",
    "                sl = self.sl\n",
    "        \n",
    "        else: \n",
    "            \n",
    "            sl = cu/(cu+co)\n",
    "           \n",
    "        decision = self.predict(y_train=y_train, sl=sl)\n",
    "        \n",
    "        cost = self.get_cost(decision=decision, y_test=y_test, sl=sl)\n",
    "        \n",
    "        return cost\n",
    "    \n",
    "    \n",
    "    def runExperiment(self, data, sl=[0.25, 0.50, 0.75]):\n",
    "\n",
    "        results = pd.DataFrame()\n",
    "        \n",
    "        for sl_ in sl:\n",
    "            for i in data.id.unique():\n",
    "\n",
    "                df = data.loc[data.id==i].sort_values('dayIndex')\n",
    "\n",
    "                decisions = []\n",
    "                costs = []\n",
    "\n",
    "                for dayIndex in df[df.label=='test'].dayIndex:\n",
    "                    \n",
    "                    decisions += [\n",
    "                        nv.predict(y_train=df.loc[df.dayIndex < dayIndex].actuals, \n",
    "                                   sl=sl_)\n",
    "                    ]\n",
    "                    \n",
    "                    costs += [\n",
    "                        nv.score(y_train=df.loc[df.dayIndex < dayIndex].actuals, \n",
    "                                 y_test=df.loc[df.dayIndex == dayIndex].actuals.item(), \n",
    "                                 sl=sl_)\n",
    "                    ]\n",
    "\n",
    "\n",
    "                result = pd.DataFrame({\n",
    "                    'id': i,\n",
    "                    'dayIndex': df[df.label=='test'].dayIndex,\n",
    "                    'sl': sl_,\n",
    "                    'decision': decisions,\n",
    "                    'cost': costs\n",
    "                }, index=None)   \n",
    "\n",
    "\n",
    "                results = pd.concat([results, result])\n",
    "\n",
    "        return results"
   ]
  },
  {
   "cell_type": "code",
   "execution_count": null,
   "id": "f702650f-77ca-45d6-9aba-eb9438d6a06e",
   "metadata": {},
   "outputs": [],
   "source": [
    "def plotCoPres(plotData, ylim=(0,2), w=6, h=4, **kwargs):\n",
    "       \n",
    "    models = kwargs['models'] if 'models' in kwargs else ['LSF', 'wSAA RF']\n",
    "    model_names = kwargs['model_names'] if 'model_names' in kwargs else ['LSF', 'wSAA RF']\n",
    "    model_colors = kwargs['model_colors'] if 'model_colors' in kwargs else ['blue', 'red']\n",
    "    \n",
    "    text_size = 7.5\n",
    "    \n",
    "    plot = (\n",
    "        ggplot(plotData)  \n",
    "        + facet_grid('~sl')\n",
    "        + aes(x='model', y='coPres', color='model') \n",
    "        + geom_violin(width=0.5, color='', fill='lightgrey', alpha=0.66)\n",
    "        + geom_boxplot(outlier_shape='', coef=0, alpha=0, size=0.5, position=position_dodge(0.99))\n",
    "        + geom_hline(yintercept=1, color='darkgrey', linetype='dashed', size=0.15) \n",
    "        + scale_y_continuous(\n",
    "            name='coefficient of prescriptiveness',\n",
    "            breaks=np.arange(0.00, 2.00, 0.1), minor_breaks=[])\n",
    "        + scale_color_manual(\n",
    "            name=' ',\n",
    "            values=model_colors,\n",
    "            breaks=models,\n",
    "            labels=model_names)\n",
    "        #+ coord_cartesian(ylim=ylim)\n",
    "        + theme_classic()\n",
    "        + theme(\n",
    "            axis_title_x=element_blank(),\n",
    "            axis_text_x=element_blank(),\n",
    "            axis_ticks_major_x=element_blank(),\n",
    "            axis_line_x=element_blank(),\n",
    "            axis_title_y=element_text(face='bold', color='black', size=text_size),\n",
    "            axis_text_y=element_text(color='black', size=text_size),\n",
    "            axis_line=element_line(color='black', size=0.15),\n",
    "            panel_grid=element_blank(),\n",
    "            #strip_background=element_rect(color='white', size=2, fill='lightgrey', alpha=0.75),\n",
    "            strip_background=element_blank(),\n",
    "            strip_text=element_text(face='bold', color='black', size=text_size),\n",
    "            legend_title=element_text(face='bold', color='black', size=text_size),\n",
    "            legend_text=element_text(color='black', size=text_size),\n",
    "            legend_position='bottom',\n",
    "            legend_direction='horizontal',\n",
    "            figure_size=(w,h) # width, height\n",
    "        ) \n",
    "    )\n",
    "    \n",
    "    return plot"
   ]
  }
 ],
 "metadata": {
  "kernelspec": {
   "display_name": "dddex",
   "language": "python",
   "name": "dddex"
  },
  "language_info": {
   "codemirror_mode": {
    "name": "ipython",
    "version": 3
   },
   "file_extension": ".py",
   "mimetype": "text/x-python",
   "name": "python",
   "nbconvert_exporter": "python",
   "pygments_lexer": "ipython3",
   "version": "3.8.16"
  },
  "toc-autonumbering": false,
  "toc-showcode": false,
  "toc-showmarkdowntxt": false,
  "toc-showtags": false
 },
 "nbformat": 4,
 "nbformat_minor": 5
}
